{
  "cells": [
    {
      "cell_type": "code",
      "execution_count": null,
      "metadata": {
        "colab": {
          "base_uri": "https://localhost:8080/"
        },
        "id": "Us-zqbldna1-",
        "outputId": "e42303f6-1e30-4e98-b6af-f44994dc04ed"
      },
      "outputs": [
        {
          "output_type": "stream",
          "name": "stdout",
          "text": [
            "Mounted at /content/drive\n"
          ]
        }
      ],
      "source": [
        "from google.colab import drive\n",
        "drive.mount('/content/drive')"
      ]
    },
    {
      "cell_type": "code",
      "execution_count": null,
      "metadata": {
        "colab": {
          "base_uri": "https://localhost:8080/"
        },
        "id": "JWYud04qqThA",
        "outputId": "30aa2b77-23ef-444a-8d3c-a53706ed65e7"
      },
      "outputs": [
        {
          "output_type": "stream",
          "name": "stdout",
          "text": [
            "Looking in indexes: https://pypi.org/simple, https://us-python.pkg.dev/colab-wheels/public/simple/\n",
            "Collecting skorch\n",
            "  Downloading skorch-0.12.0-py3-none-any.whl (185 kB)\n",
            "\u001b[K     |████████████████████████████████| 185 kB 24.8 MB/s \n",
            "\u001b[?25hCollecting sklearn\n",
            "  Downloading sklearn-0.0.tar.gz (1.1 kB)\n",
            "Requirement already satisfied: scikit-learn>=0.22.0 in /usr/local/lib/python3.7/dist-packages (from skorch) (1.0.2)\n",
            "Requirement already satisfied: numpy>=1.13.3 in /usr/local/lib/python3.7/dist-packages (from skorch) (1.21.6)\n",
            "Requirement already satisfied: tqdm>=4.14.0 in /usr/local/lib/python3.7/dist-packages (from skorch) (4.64.1)\n",
            "Requirement already satisfied: scipy>=1.1.0 in /usr/local/lib/python3.7/dist-packages (from skorch) (1.7.3)\n",
            "Requirement already satisfied: tabulate>=0.7.7 in /usr/local/lib/python3.7/dist-packages (from skorch) (0.8.10)\n",
            "Requirement already satisfied: joblib>=0.11 in /usr/local/lib/python3.7/dist-packages (from scikit-learn>=0.22.0->skorch) (1.2.0)\n",
            "Requirement already satisfied: threadpoolctl>=2.0.0 in /usr/local/lib/python3.7/dist-packages (from scikit-learn>=0.22.0->skorch) (3.1.0)\n",
            "Building wheels for collected packages: sklearn\n",
            "  Building wheel for sklearn (setup.py) ... \u001b[?25l\u001b[?25hdone\n",
            "  Created wheel for sklearn: filename=sklearn-0.0-py2.py3-none-any.whl size=1310 sha256=11aee60faa5875c24eeb8301d59875b05bb6c436a82e04b0dc1002ac27948689\n",
            "  Stored in directory: /root/.cache/pip/wheels/46/ef/c3/157e41f5ee1372d1be90b09f74f82b10e391eaacca8f22d33e\n",
            "Successfully built sklearn\n",
            "Installing collected packages: skorch, sklearn\n",
            "Successfully installed sklearn-0.0 skorch-0.12.0\n"
          ]
        }
      ],
      "source": [
        "! pip install skorch sklearn"
      ]
    },
    {
      "cell_type": "code",
      "execution_count": null,
      "metadata": {
        "id": "ex3TpIePne4j"
      },
      "outputs": [],
      "source": [
        "import torch\n",
        "import torch.optim as optim\n",
        "import torch.nn as nn\n",
        "import torchvision\n",
        "import matplotlib.pyplot as plt\n",
        "import numpy as np\n",
        "import os\n",
        "import copy\n",
        "import itertools\n",
        "from skorch import NeuralNetClassifier\n",
        "from sklearn.model_selection import GridSearchCV"
      ]
    },
    {
      "cell_type": "code",
      "execution_count": null,
      "metadata": {
        "colab": {
          "base_uri": "https://localhost:8080/"
        },
        "id": "yOWybTARne9A",
        "outputId": "8c8ab555-9ab8-499f-dda5-839c7b4abd23"
      },
      "outputs": [
        {
          "output_type": "stream",
          "name": "stdout",
          "text": [
            "Random seed set as 42\n"
          ]
        }
      ],
      "source": [
        "def set_seed(seed: int = 42) -> None:\n",
        "    torch.manual_seed(seed)\n",
        "    torch.cuda.manual_seed(seed)\n",
        "    torch.backends.cudnn.deterministic = True\n",
        "    torch.backends.cudnn.benchmark = False\n",
        "    print(f\"Random seed set as {seed}\")\n",
        "\n",
        "set_seed()"
      ]
    },
    {
      "cell_type": "code",
      "execution_count": null,
      "metadata": {
        "id": "ammIP2LznhsR"
      },
      "outputs": [],
      "source": [
        "device = torch.device(\"cuda:0\" if torch.cuda.is_available() else \"cpu\")\n",
        "folder_path = \"./drive/MyDrive/ColabData/CV_lab2/\""
      ]
    },
    {
      "cell_type": "code",
      "execution_count": null,
      "metadata": {
        "id": "rWmo1E5Ini-o"
      },
      "outputs": [],
      "source": [
        "transform = torchvision.transforms.Compose([\n",
        "    torchvision.transforms.Resize(256),\n",
        "    torchvision.transforms.CenterCrop(224),\n",
        "    torchvision.transforms.ToTensor(),\n",
        "    torchvision.transforms.Normalize(mean=[0.485, 0.456, 0.406], std=[0.229, 0.224, 0.225]),\n",
        "])"
      ]
    },
    {
      "cell_type": "code",
      "execution_count": null,
      "metadata": {
        "colab": {
          "base_uri": "https://localhost:8080/"
        },
        "id": "Ar6PVGYenkuw",
        "outputId": "772d7929-80eb-45a0-d46d-9c4e8395349e"
      },
      "outputs": [
        {
          "output_type": "stream",
          "name": "stdout",
          "text": [
            "Files already downloaded and verified\n",
            "Files already downloaded and verified\n"
          ]
        }
      ],
      "source": [
        "image_datasets = {x: torchvision.datasets.CIFAR10(\n",
        "    root=folder_path + \"TrainingData\",\n",
        "    train=x == 'train',\n",
        "    download=True,\n",
        "    transform=transform\n",
        ") for x in ['train', 'test']}"
      ]
    },
    {
      "cell_type": "code",
      "execution_count": null,
      "metadata": {
        "id": "P4th6Tm-nmnO"
      },
      "outputs": [],
      "source": [
        "train_set_size = int(len(image_datasets['train']) * 0.8)\n",
        "valid_set_size = len(image_datasets['train']) - train_set_size\n",
        "\n",
        "image_datasets['train'], image_datasets['val'] = torch.utils.data.random_split(image_datasets['train'], [train_set_size, valid_set_size])"
      ]
    },
    {
      "cell_type": "code",
      "execution_count": null,
      "metadata": {
        "id": "CMQpccCGnov-"
      },
      "outputs": [],
      "source": [
        "def create_dataloaders(batch_size=64):\n",
        "    return {x: torch.utils.data.DataLoader(\n",
        "        image_datasets[x], \n",
        "        batch_size=batch_size, \n",
        "    ) for x in ['train', 'val', 'test']}"
      ]
    },
    {
      "cell_type": "code",
      "execution_count": null,
      "metadata": {
        "id": "KeUtTa6pnqR_"
      },
      "outputs": [],
      "source": [
        "dataloaders = create_dataloaders()"
      ]
    },
    {
      "cell_type": "code",
      "execution_count": null,
      "metadata": {
        "colab": {
          "base_uri": "https://localhost:8080/"
        },
        "id": "YVApoprnnxEo",
        "outputId": "117340f2-8714-4e28-bb74-c440baeba87c"
      },
      "outputs": [
        {
          "output_type": "execute_result",
          "data": {
            "text/plain": [
              "{'train': 40000, 'val': 10000, 'test': 10000}"
            ]
          },
          "metadata": {},
          "execution_count": 14
        }
      ],
      "source": [
        "dataset_sizes = {x: len(dataloaders[x].dataset) for x in ['train', 'val', 'test']}\n",
        "dataset_sizes"
      ]
    },
    {
      "cell_type": "code",
      "execution_count": null,
      "metadata": {
        "colab": {
          "base_uri": "https://localhost:8080/"
        },
        "id": "sRRuLp6wnyaJ",
        "outputId": "1c91d242-8994-47d4-9905-f337137a5d08"
      },
      "outputs": [
        {
          "output_type": "execute_result",
          "data": {
            "text/plain": [
              "['airplane',\n",
              " 'automobile',\n",
              " 'bird',\n",
              " 'cat',\n",
              " 'deer',\n",
              " 'dog',\n",
              " 'frog',\n",
              " 'horse',\n",
              " 'ship',\n",
              " 'truck']"
            ]
          },
          "metadata": {},
          "execution_count": 15
        }
      ],
      "source": [
        "class_names = dataloaders['test'].dataset.classes\n",
        "class_names"
      ]
    },
    {
      "cell_type": "code",
      "execution_count": null,
      "metadata": {
        "colab": {
          "base_uri": "https://localhost:8080/",
          "height": 269
        },
        "id": "ZrMPfivAnzkw",
        "outputId": "8eb5c8e3-7495-45b4-9eff-33c6d6cdb915"
      },
      "outputs": [
        {
          "output_type": "display_data",
          "data": {
            "text/plain": [
              "<Figure size 432x288 with 1 Axes>"
            ],
            "image/png": "[encoded data removed]"
          },
          "metadata": {
            "needs_background": "light"
          }
        }
      ],
      "source": [
        "def imshow(inp):\n",
        "    inp = inp.numpy().transpose((1, 2, 0))\n",
        "    mean = np.array([0.485, 0.456, 0.406])\n",
        "    std = np.array([0.229, 0.224, 0.225])\n",
        "    inp = std * inp + mean\n",
        "    inp = np.clip(inp, 0, 1)\n",
        "    plt.imshow(inp)\n",
        "\n",
        "\n",
        "inputs, classes = next(iter(dataloaders['train']))\n",
        "out = torchvision.utils.make_grid(inputs)\n",
        "imshow(out)"
      ]
    },
    {
      "cell_type": "code",
      "execution_count": null,
      "metadata": {
        "id": "ywEwUp1Zn4md"
      },
      "outputs": [],
      "source": [
        "class AlexNet(nn.Module):\n",
        "    def __init__(self, fully_connected_out, num_classes=10):\n",
        "        super(AlexNet, self).__init__()\n",
        "\n",
        "        self.fully_connected_out = fully_connected_out\n",
        "        \n",
        "        self.layer1 = nn.Sequential(\n",
        "            nn.Conv2d(3, 64, kernel_size=11, stride=4, padding=2),\n",
        "            nn.BatchNorm2d(64),\n",
        "            nn.ReLU(inplace=True),\n",
        "            nn.MaxPool2d(kernel_size = 3, stride = 2))\n",
        "        self.layer2 = nn.Sequential(\n",
        "            nn.Conv2d(64, 256, kernel_size=5, stride=1, padding=2),\n",
        "            nn.BatchNorm2d(256),\n",
        "            nn.ReLU(),\n",
        "            nn.MaxPool2d(kernel_size = 3, stride = 2))\n",
        "        self.layer3 = nn.Sequential(\n",
        "            nn.Conv2d(256, 384, kernel_size=3, stride=1, padding=1),\n",
        "            nn.BatchNorm2d(384),\n",
        "            nn.ReLU())\n",
        "        self.layer4 = nn.Sequential(\n",
        "            nn.Conv2d(384, 384, kernel_size=3, stride=1, padding=1),\n",
        "            nn.BatchNorm2d(384),\n",
        "            nn.ReLU())\n",
        "        self.layer5 = nn.Sequential(\n",
        "            nn.Conv2d(384, 256, kernel_size=3, stride=1, padding=1),\n",
        "            nn.BatchNorm2d(256),\n",
        "            nn.ReLU(),\n",
        "            nn.MaxPool2d(kernel_size = 3, stride = 2))\n",
        "        self.fc = nn.Sequential(\n",
        "            nn.Dropout(0.5),\n",
        "            nn.Linear(9216, fully_connected_out),\n",
        "            nn.ReLU())\n",
        "        self.fc1 = nn.Sequential(\n",
        "            nn.Dropout(0.5),\n",
        "            nn.Linear(fully_connected_out, fully_connected_out),\n",
        "            nn.ReLU())\n",
        "        self.fc2= nn.Sequential(\n",
        "            nn.Linear(fully_connected_out, num_classes))\n",
        "        \n",
        "    def forward(self, x):\n",
        "        out = self.layer1(x)\n",
        "        out = self.layer2(out)\n",
        "        out = self.layer3(out)\n",
        "        out = self.layer4(out)\n",
        "        out = self.layer5(out)\n",
        "        out = out.reshape(out.size(0), -1)\n",
        "        out = self.fc(out)\n",
        "        out = self.fc1(out)\n",
        "        out = self.fc2(out)\n",
        "        return out"
      ]
    },
    {
      "cell_type": "code",
      "execution_count": null,
      "metadata": {
        "colab": {
          "base_uri": "https://localhost:8080/"
        },
        "id": "VTMKd95VqmYW",
        "outputId": "6e29888a-922a-4d32-f382-a04041158bdf"
      },
      "outputs": [
        {
          "output_type": "stream",
          "name": "stdout",
          "text": [
            "Fitting 2 folds for each of 27 candidates, totalling 54 fits\n"
          ]
        },
        {
          "output_type": "stream",
          "name": "stderr",
          "text": [
            "/usr/local/lib/python3.7/dist-packages/sklearn/model_selection/_split.py:680: UserWarning: The least populated class in y has only 2 members, which is less than n_splits=5.\n",
            "  UserWarning,\n"
          ]
        },
        {
          "output_type": "stream",
          "name": "stdout",
          "text": [
            "  epoch    train_loss    valid_acc    valid_loss     dur\n",
            "-------  ------------  -----------  ------------  ------\n",
            "      1        \u001b[36m2.3681\u001b[0m       \u001b[32m0.0000\u001b[0m        \u001b[35m2.3050\u001b[0m  4.9187\n",
            "      2        \u001b[36m2.2411\u001b[0m       0.0000        2.3052  2.6157\n",
            "      3        2.2749       0.0000        2.3056  2.5767\n",
            "      4        2.2905       0.0000        2.3060  2.6188\n",
            "      5        \u001b[36m2.2276\u001b[0m       0.0000        2.3062  2.5970\n"
          ]
        },
        {
          "output_type": "stream",
          "name": "stderr",
          "text": [
            "/usr/local/lib/python3.7/dist-packages/sklearn/model_selection/_split.py:680: UserWarning: The least populated class in y has only 1 members, which is less than n_splits=5.\n",
            "  UserWarning,\n"
          ]
        },
        {
          "output_type": "stream",
          "name": "stdout",
          "text": [
            "  epoch    train_loss    valid_acc    valid_loss     dur\n",
            "-------  ------------  -----------  ------------  ------\n",
            "      1        \u001b[36m2.3972\u001b[0m       \u001b[32m0.0000\u001b[0m        \u001b[35m2.3058\u001b[0m  2.4550\n",
            "      2        \u001b[36m2.3087\u001b[0m       0.0000        2.3070  2.5888\n",
            "      3        2.3225       0.0000        2.3077  2.5693\n",
            "      4        \u001b[36m2.2657\u001b[0m       0.0000        2.3087  2.5441\n",
            "      5        2.2782       0.0000        2.3100  2.5203\n"
          ]
        },
        {
          "output_type": "stream",
          "name": "stderr",
          "text": [
            "/usr/local/lib/python3.7/dist-packages/sklearn/model_selection/_split.py:680: UserWarning: The least populated class in y has only 2 members, which is less than n_splits=5.\n",
            "  UserWarning,\n"
          ]
        },
        {
          "output_type": "stream",
          "name": "stdout",
          "text": [
            "  epoch    train_loss    valid_acc    valid_loss     dur\n",
            "-------  ------------  -----------  ------------  ------\n",
            "      1        \u001b[36m2.4331\u001b[0m       \u001b[32m0.1429\u001b[0m        \u001b[35m2.3016\u001b[0m  2.3544\n",
            "      2        \u001b[36m2.3711\u001b[0m       0.1429        \u001b[35m2.3016\u001b[0m  2.3177\n",
            "      3        \u001b[36m2.3132\u001b[0m       \u001b[32m0.2857\u001b[0m        \u001b[35m2.3014\u001b[0m  2.3376\n",
            "      4        \u001b[36m2.2999\u001b[0m       0.1429        \u001b[35m2.3014\u001b[0m  2.3539\n",
            "      5        \u001b[36m2.2220\u001b[0m       0.0000        2.3016  2.3675\n"
          ]
        },
        {
          "output_type": "stream",
          "name": "stderr",
          "text": [
            "/usr/local/lib/python3.7/dist-packages/sklearn/model_selection/_split.py:680: UserWarning: The least populated class in y has only 1 members, which is less than n_splits=5.\n",
            "  UserWarning,\n"
          ]
        },
        {
          "output_type": "stream",
          "name": "stdout",
          "text": [
            "  epoch    train_loss    valid_acc    valid_loss     dur\n",
            "-------  ------------  -----------  ------------  ------\n",
            "      1        \u001b[36m2.3229\u001b[0m       \u001b[32m0.0000\u001b[0m        \u001b[35m2.3054\u001b[0m  2.3224\n",
            "      2        \u001b[36m2.2368\u001b[0m       0.0000        \u001b[35m2.3052\u001b[0m  2.3798\n",
            "      3        \u001b[36m2.2066\u001b[0m       0.0000        \u001b[35m2.3050\u001b[0m  2.3495\n",
            "      4        2.2175       0.0000        2.3052  2.3917\n",
            "      5        2.2465       0.0000        2.3055  4.6738\n"
          ]
        },
        {
          "output_type": "stream",
          "name": "stderr",
          "text": [
            "/usr/local/lib/python3.7/dist-packages/sklearn/model_selection/_split.py:680: UserWarning: The least populated class in y has only 2 members, which is less than n_splits=5.\n",
            "  UserWarning,\n"
          ]
        },
        {
          "output_type": "stream",
          "name": "stdout",
          "text": [
            "  epoch    train_loss    valid_acc    valid_loss     dur\n",
            "-------  ------------  -----------  ------------  ------\n",
            "      1        \u001b[36m2.3464\u001b[0m       \u001b[32m0.2857\u001b[0m        \u001b[35m2.3029\u001b[0m  2.8048\n",
            "      2        \u001b[36m2.2869\u001b[0m       0.1429        2.3031  2.8746\n",
            "      3        2.3184       0.1429        2.3029  4.1425\n",
            "      4        \u001b[36m2.2151\u001b[0m       0.1429        2.3030  2.8228\n",
            "      5        2.2614       0.1429        2.3032  2.8193\n"
          ]
        },
        {
          "output_type": "stream",
          "name": "stderr",
          "text": [
            "/usr/local/lib/python3.7/dist-packages/sklearn/model_selection/_split.py:680: UserWarning: The least populated class in y has only 1 members, which is less than n_splits=5.\n",
            "  UserWarning,\n"
          ]
        },
        {
          "output_type": "stream",
          "name": "stdout",
          "text": [
            "  epoch    train_loss    valid_acc    valid_loss     dur\n",
            "-------  ------------  -----------  ------------  ------\n",
            "      1        \u001b[36m2.3529\u001b[0m       \u001b[32m0.1429\u001b[0m        \u001b[35m2.3013\u001b[0m  2.6788\n",
            "      2        \u001b[36m2.3026\u001b[0m       0.1429        2.3020  2.8422\n",
            "      3        \u001b[36m2.2539\u001b[0m       0.1429        2.3029  2.8321\n",
            "      4        \u001b[36m2.2465\u001b[0m       0.1429        2.3037  2.8354\n",
            "      5        \u001b[36m2.1680\u001b[0m       0.1429        2.3047  2.8261\n"
          ]
        },
        {
          "output_type": "stream",
          "name": "stderr",
          "text": [
            "/usr/local/lib/python3.7/dist-packages/sklearn/model_selection/_split.py:680: UserWarning: The least populated class in y has only 2 members, which is less than n_splits=5.\n",
            "  UserWarning,\n"
          ]
        },
        {
          "output_type": "stream",
          "name": "stdout",
          "text": [
            "  epoch    train_loss    valid_acc    valid_loss     dur\n",
            "-------  ------------  -----------  ------------  ------\n",
            "      1        \u001b[36m2.3344\u001b[0m       \u001b[32m0.1429\u001b[0m        \u001b[35m2.3015\u001b[0m  2.5051\n",
            "      2        \u001b[36m2.2822\u001b[0m       0.1429        2.3015  2.6395\n",
            "      3        2.3091       0.1429        2.3018  2.5352\n",
            "      4        \u001b[36m2.2515\u001b[0m       0.1429        2.3019  2.5276\n",
            "      5        \u001b[36m2.2060\u001b[0m       0.1429        2.3021  2.5176\n",
            "      6        2.2254       0.1429        2.3023  2.5451\n",
            "      7        \u001b[36m2.1900\u001b[0m       0.1429        2.3027  2.6210\n",
            "      8        \u001b[36m2.1324\u001b[0m       0.1429        2.3033  2.5808\n",
            "      9        2.1917       0.1429        2.3040  2.5847\n",
            "     10        2.1827       0.0000        2.3048  3.7511\n"
          ]
        },
        {
          "output_type": "stream",
          "name": "stderr",
          "text": [
            "/usr/local/lib/python3.7/dist-packages/sklearn/model_selection/_split.py:680: UserWarning: The least populated class in y has only 1 members, which is less than n_splits=5.\n",
            "  UserWarning,\n"
          ]
        },
        {
          "output_type": "stream",
          "name": "stdout",
          "text": [
            "  epoch    train_loss    valid_acc    valid_loss     dur\n",
            "-------  ------------  -----------  ------------  ------\n",
            "      1        \u001b[36m2.2943\u001b[0m       \u001b[32m0.0000\u001b[0m        \u001b[35m2.3043\u001b[0m  2.6021\n",
            "      2        2.3003       0.0000        2.3046  2.6108\n",
            "      3        \u001b[36m2.2603\u001b[0m       0.0000        2.3050  2.6385\n",
            "      4        \u001b[36m2.2425\u001b[0m       0.0000        2.3058  2.5964\n",
            "      5        \u001b[36m2.1995\u001b[0m       0.0000        2.3067  2.6195\n",
            "      6        2.2220       0.0000        2.3079  2.6171\n",
            "      7        2.2056       0.0000        2.3091  4.8395\n",
            "      8        \u001b[36m2.1598\u001b[0m       0.0000        2.3104  3.7234\n",
            "      9        2.1694       0.0000        2.3119  2.5915\n",
            "     10        \u001b[36m2.1298\u001b[0m       0.0000        2.3137  2.6624\n"
          ]
        },
        {
          "output_type": "stream",
          "name": "stderr",
          "text": [
            "/usr/local/lib/python3.7/dist-packages/sklearn/model_selection/_split.py:680: UserWarning: The least populated class in y has only 2 members, which is less than n_splits=5.\n",
            "  UserWarning,\n"
          ]
        },
        {
          "output_type": "stream",
          "name": "stdout",
          "text": [
            "  epoch    train_loss    valid_acc    valid_loss     dur\n",
            "-------  ------------  -----------  ------------  ------\n",
            "      1        \u001b[36m2.3174\u001b[0m       \u001b[32m0.1429\u001b[0m        \u001b[35m2.3031\u001b[0m  2.3901\n",
            "      2        \u001b[36m2.3153\u001b[0m       0.1429        2.3031  2.3368\n",
            "      3        \u001b[36m2.2597\u001b[0m       0.1429        2.3032  2.3176\n",
            "      4        \u001b[36m2.2276\u001b[0m       0.1429        \u001b[35m2.3030\u001b[0m  2.2940\n",
            "      5        2.2804       0.1429        \u001b[35m2.3030\u001b[0m  2.3686\n",
            "      6        \u001b[36m2.2004\u001b[0m       0.1429        2.3031  2.3445\n",
            "      7        2.2176       0.1429        2.3032  2.3867\n",
            "      8        \u001b[36m2.1749\u001b[0m       0.1429        2.3032  2.3858\n",
            "      9        2.2053       0.1429        2.3033  2.3748\n",
            "     10        2.2367       0.1429        2.3035  2.3622\n"
          ]
        },
        {
          "output_type": "stream",
          "name": "stderr",
          "text": [
            "/usr/local/lib/python3.7/dist-packages/sklearn/model_selection/_split.py:680: UserWarning: The least populated class in y has only 1 members, which is less than n_splits=5.\n",
            "  UserWarning,\n"
          ]
        },
        {
          "output_type": "stream",
          "name": "stdout",
          "text": [
            "  epoch    train_loss    valid_acc    valid_loss     dur\n",
            "-------  ------------  -----------  ------------  ------\n",
            "      1        \u001b[36m2.3306\u001b[0m       \u001b[32m0.0000\u001b[0m        \u001b[35m2.3042\u001b[0m  2.3360\n",
            "      2        \u001b[36m2.2944\u001b[0m       0.0000        \u001b[35m2.3039\u001b[0m  2.3727\n",
            "      3        2.3038       0.0000        2.3040  2.3710\n",
            "      4        2.2944       0.0000        2.3044  2.3245\n",
            "      5        2.3448       \u001b[32m0.1429\u001b[0m        2.3047  2.3174\n",
            "      6        \u001b[36m2.1888\u001b[0m       0.1429        2.3051  2.6030\n",
            "      7        2.2279       0.1429        2.3057  4.3039\n",
            "      8        2.1890       0.1429        2.3064  3.3895\n",
            "      9        2.2350       0.1429        2.3072  2.3855\n",
            "     10        \u001b[36m2.1772\u001b[0m       0.1429        2.3085  2.3443\n"
          ]
        },
        {
          "output_type": "stream",
          "name": "stderr",
          "text": [
            "/usr/local/lib/python3.7/dist-packages/sklearn/model_selection/_split.py:680: UserWarning: The least populated class in y has only 2 members, which is less than n_splits=5.\n",
            "  UserWarning,\n"
          ]
        },
        {
          "output_type": "stream",
          "name": "stdout",
          "text": [
            "  epoch    train_loss    valid_acc    valid_loss     dur\n",
            "-------  ------------  -----------  ------------  ------\n",
            "      1        \u001b[36m2.3593\u001b[0m       \u001b[32m0.0000\u001b[0m        \u001b[35m2.3029\u001b[0m  2.6433\n",
            "      2        2.3804       0.0000        2.3033  2.7947\n",
            "      3        \u001b[36m2.2266\u001b[0m       0.0000        2.3032  2.8107\n",
            "      4        2.2954       0.0000        2.3031  2.8173\n",
            "      5        2.3046       0.0000        2.3033  2.8103\n",
            "      6        \u001b[36m2.1927\u001b[0m       0.0000        2.3039  2.8175\n",
            "      7        2.2055       0.0000        2.3044  2.7836\n",
            "      8        \u001b[36m2.1372\u001b[0m       0.0000        2.3048  2.7304\n",
            "      9        2.1512       0.0000        2.3052  2.7648\n",
            "     10        \u001b[36m2.1352\u001b[0m       0.0000        2.3056  2.8132\n"
          ]
        },
        {
          "output_type": "stream",
          "name": "stderr",
          "text": [
            "/usr/local/lib/python3.7/dist-packages/sklearn/model_selection/_split.py:680: UserWarning: The least populated class in y has only 1 members, which is less than n_splits=5.\n",
            "  UserWarning,\n"
          ]
        },
        {
          "output_type": "stream",
          "name": "stdout",
          "text": [
            "  epoch    train_loss    valid_acc    valid_loss     dur\n",
            "-------  ------------  -----------  ------------  ------\n",
            "      1        \u001b[36m2.3485\u001b[0m       \u001b[32m0.1429\u001b[0m        \u001b[35m2.3041\u001b[0m  2.6725\n",
            "      2        \u001b[36m2.2945\u001b[0m       0.0000        2.3045  2.7988\n",
            "      3        \u001b[36m2.2736\u001b[0m       0.0000        2.3049  2.7313\n",
            "      4        2.2873       0.0000        2.3056  2.8677\n",
            "      5        \u001b[36m2.1584\u001b[0m       0.0000        2.3063  2.8440\n",
            "      6        2.2199       0.0000        2.3071  2.8576\n",
            "      7        \u001b[36m2.1370\u001b[0m       0.0000        2.3080  2.7938\n",
            "      8        \u001b[36m2.1162\u001b[0m       0.0000        2.3091  2.8387\n",
            "      9        2.1574       0.0000        2.3105  2.8399\n",
            "     10        2.1223       0.0000        2.3119  2.7519\n"
          ]
        },
        {
          "output_type": "stream",
          "name": "stderr",
          "text": [
            "/usr/local/lib/python3.7/dist-packages/sklearn/model_selection/_split.py:680: UserWarning: The least populated class in y has only 2 members, which is less than n_splits=5.\n",
            "  UserWarning,\n"
          ]
        },
        {
          "output_type": "stream",
          "name": "stdout",
          "text": [
            "  epoch    train_loss    valid_acc    valid_loss     dur\n",
            "-------  ------------  -----------  ------------  ------\n",
            "      1        \u001b[36m2.3281\u001b[0m       \u001b[32m0.0000\u001b[0m        \u001b[35m2.3046\u001b[0m  2.5610\n",
            "      2        \u001b[36m2.3137\u001b[0m       0.0000        \u001b[35m2.3046\u001b[0m  2.4945\n",
            "      3        \u001b[36m2.3132\u001b[0m       0.0000        2.3052  2.5333\n",
            "      4        \u001b[36m2.3042\u001b[0m       0.0000        2.3057  2.4916\n",
            "      5        \u001b[36m2.2634\u001b[0m       0.0000        2.3062  2.5631\n",
            "      6        \u001b[36m2.2076\u001b[0m       0.0000        2.3070  2.5600\n",
            "      7        \u001b[36m2.1594\u001b[0m       0.0000        2.3078  2.6004\n",
            "      8        2.1920       0.0000        2.3087  2.5752\n",
            "      9        \u001b[36m2.1518\u001b[0m       0.0000        2.3097  2.5313\n",
            "     10        2.1520       0.0000        2.3108  2.5343\n",
            "     11        2.1689       0.0000        2.3119  2.5597\n",
            "     12        \u001b[36m2.1199\u001b[0m       0.0000        2.3131  2.5287\n",
            "     13        2.1778       0.0000        2.3143  2.5803\n",
            "     14        2.1709       0.0000        2.3157  2.5769\n",
            "     15        \u001b[36m2.0974\u001b[0m       0.0000        2.3171  2.5380\n"
          ]
        },
        {
          "output_type": "stream",
          "name": "stderr",
          "text": [
            "/usr/local/lib/python3.7/dist-packages/sklearn/model_selection/_split.py:680: UserWarning: The least populated class in y has only 1 members, which is less than n_splits=5.\n",
            "  UserWarning,\n"
          ]
        },
        {
          "output_type": "stream",
          "name": "stdout",
          "text": [
            "  epoch    train_loss    valid_acc    valid_loss     dur\n",
            "-------  ------------  -----------  ------------  ------\n",
            "      1        \u001b[36m2.2940\u001b[0m       \u001b[32m0.1429\u001b[0m        \u001b[35m2.3048\u001b[0m  2.5617\n",
            "      2        2.2976       0.1429        2.3052  2.6351\n",
            "      3        2.3176       0.1429        2.3056  2.5859\n",
            "      4        2.3343       0.1429        2.3065  2.5585\n",
            "      5        \u001b[36m2.2564\u001b[0m       0.1429        2.3075  2.5593\n",
            "      6        2.2739       0.1429        2.3086  2.5351\n",
            "      7        2.2765       0.0000        2.3100  2.5211\n",
            "      8        \u001b[36m2.2351\u001b[0m       0.0000        2.3116  2.5343\n",
            "      9        \u001b[36m2.1247\u001b[0m       0.0000        2.3134  2.6049\n",
            "     10        \u001b[36m2.1152\u001b[0m       0.0000        2.3154  2.5727\n",
            "     11        2.1649       0.0000        2.3174  2.6105\n",
            "     12        2.1751       0.0000        2.3202  2.6181\n",
            "     13        \u001b[36m2.0893\u001b[0m       0.0000        2.3235  2.6085\n",
            "     14        2.1049       0.0000        2.3264  2.6050\n",
            "     15        \u001b[36m2.0462\u001b[0m       0.0000        2.3299  2.5483\n"
          ]
        },
        {
          "output_type": "stream",
          "name": "stderr",
          "text": [
            "/usr/local/lib/python3.7/dist-packages/sklearn/model_selection/_split.py:680: UserWarning: The least populated class in y has only 2 members, which is less than n_splits=5.\n",
            "  UserWarning,\n"
          ]
        },
        {
          "output_type": "stream",
          "name": "stdout",
          "text": [
            "  epoch    train_loss    valid_acc    valid_loss     dur\n",
            "-------  ------------  -----------  ------------  ------\n",
            "      1        \u001b[36m2.3515\u001b[0m       \u001b[32m0.1429\u001b[0m        \u001b[35m2.3024\u001b[0m  2.3534\n",
            "      2        \u001b[36m2.2652\u001b[0m       0.1429        \u001b[35m2.3022\u001b[0m  2.3718\n",
            "      3        2.2687       0.1429        2.3026  2.3903\n",
            "      4        \u001b[36m2.2625\u001b[0m       0.1429        2.3035  2.3899\n",
            "      5        \u001b[36m2.2551\u001b[0m       0.1429        2.3041  2.4056\n",
            "      6        2.3196       0.1429        2.3045  2.4575\n",
            "      7        \u001b[36m2.1844\u001b[0m       0.1429        2.3049  2.3762\n",
            "      8        2.2394       0.1429        2.3056  2.3781\n",
            "      9        2.1926       0.0000        2.3063  2.3975\n",
            "     10        \u001b[36m2.1759\u001b[0m       0.0000        2.3071  2.4401\n",
            "     11        \u001b[36m2.1410\u001b[0m       0.0000        2.3081  2.3835\n",
            "     12        \u001b[36m2.1302\u001b[0m       0.0000        2.3091  2.3969\n",
            "     13        \u001b[36m2.0878\u001b[0m       0.0000        2.3099  2.3427\n",
            "     14        2.1181       0.0000        2.3112  2.4100\n",
            "     15        \u001b[36m2.0640\u001b[0m       0.0000        2.3123  2.3944\n"
          ]
        },
        {
          "output_type": "stream",
          "name": "stderr",
          "text": [
            "/usr/local/lib/python3.7/dist-packages/sklearn/model_selection/_split.py:680: UserWarning: The least populated class in y has only 1 members, which is less than n_splits=5.\n",
            "  UserWarning,\n"
          ]
        },
        {
          "output_type": "stream",
          "name": "stdout",
          "text": [
            "  epoch    train_loss    valid_acc    valid_loss     dur\n",
            "-------  ------------  -----------  ------------  ------\n",
            "      1        \u001b[36m2.3525\u001b[0m       \u001b[32m0.0000\u001b[0m        \u001b[35m2.3046\u001b[0m  2.3026\n",
            "      2        \u001b[36m2.2831\u001b[0m       0.0000        2.3047  2.3962\n",
            "      3        2.2941       0.0000        2.3048  2.3633\n",
            "      4        2.2895       0.0000        2.3051  2.3605\n",
            "      5        \u001b[36m2.2538\u001b[0m       0.0000        2.3056  2.3235\n",
            "      6        \u001b[36m2.2259\u001b[0m       0.0000        2.3060  2.3260\n",
            "      7        2.2628       0.0000        2.3067  2.3450\n",
            "      8        \u001b[36m2.1578\u001b[0m       0.0000        2.3075  2.4959\n",
            "      9        \u001b[36m2.1364\u001b[0m       0.0000        2.3086  2.3091\n",
            "     10        2.1506       0.0000        2.3097  2.3442\n",
            "     11        2.1584       \u001b[32m0.1429\u001b[0m        2.3109  2.3774\n",
            "     12        \u001b[36m2.1302\u001b[0m       0.1429        2.3126  2.4266\n",
            "     13        \u001b[36m2.0379\u001b[0m       0.1429        2.3145  2.4015\n",
            "     14        2.0795       0.1429        2.3162  2.3420\n",
            "     15        2.1737       0.1429        2.3185  2.4307\n"
          ]
        },
        {
          "output_type": "stream",
          "name": "stderr",
          "text": [
            "/usr/local/lib/python3.7/dist-packages/sklearn/model_selection/_split.py:680: UserWarning: The least populated class in y has only 2 members, which is less than n_splits=5.\n",
            "  UserWarning,\n"
          ]
        },
        {
          "output_type": "stream",
          "name": "stdout",
          "text": [
            "  epoch    train_loss    valid_acc    valid_loss     dur\n",
            "-------  ------------  -----------  ------------  ------\n",
            "      1        \u001b[36m2.3091\u001b[0m       \u001b[32m0.1429\u001b[0m        \u001b[35m2.3043\u001b[0m  2.6907\n",
            "      2        \u001b[36m2.2748\u001b[0m       0.1429        2.3045  2.9040\n",
            "      3        \u001b[36m2.2482\u001b[0m       0.1429        2.3051  2.8802\n",
            "      4        \u001b[36m2.1939\u001b[0m       0.1429        2.3057  2.9417\n",
            "      5        2.2175       0.1429        2.3063  2.8279\n",
            "      6        \u001b[36m2.1501\u001b[0m       0.0000        2.3069  2.8347\n",
            "      7        2.1750       0.0000        2.3076  2.7915\n",
            "      8        \u001b[36m2.1398\u001b[0m       0.0000        2.3084  2.8138\n",
            "      9        \u001b[36m2.0917\u001b[0m       0.0000        2.3094  2.7706\n",
            "     10        2.1447       0.0000        2.3105  4.9261\n",
            "     11        \u001b[36m2.0569\u001b[0m       0.0000        2.3115  3.8056\n",
            "     12        2.1278       0.0000        2.3125  2.7460\n",
            "     13        \u001b[36m2.0214\u001b[0m       0.0000        2.3134  2.7816\n",
            "     14        2.0299       0.0000        2.3145  2.8426\n",
            "     15        2.0647       0.0000        2.3154  2.7847\n"
          ]
        },
        {
          "output_type": "stream",
          "name": "stderr",
          "text": [
            "/usr/local/lib/python3.7/dist-packages/sklearn/model_selection/_split.py:680: UserWarning: The least populated class in y has only 1 members, which is less than n_splits=5.\n",
            "  UserWarning,\n"
          ]
        },
        {
          "output_type": "stream",
          "name": "stdout",
          "text": [
            "  epoch    train_loss    valid_acc    valid_loss     dur\n",
            "-------  ------------  -----------  ------------  ------\n",
            "      1        \u001b[36m2.3339\u001b[0m       \u001b[32m0.1429\u001b[0m        \u001b[35m2.3037\u001b[0m  2.7315\n",
            "      2        \u001b[36m2.2947\u001b[0m       0.1429        2.3040  2.8362\n",
            "      3        \u001b[36m2.2831\u001b[0m       0.0000        2.3048  2.8834\n",
            "      4        \u001b[36m2.1918\u001b[0m       0.0000        2.3057  2.9012\n",
            "      5        2.2454       0.0000        2.3067  2.8522\n",
            "      6        2.2446       0.0000        2.3081  2.8253\n",
            "      7        \u001b[36m2.1594\u001b[0m       0.0000        2.3097  2.8426\n",
            "      8        2.1675       0.0000        2.3114  2.8601\n",
            "      9        2.1990       0.0000        2.3134  2.8718\n",
            "     10        \u001b[36m2.1128\u001b[0m       0.0000        2.3155  2.8629\n",
            "     11        \u001b[36m2.0732\u001b[0m       0.0000        2.3179  2.8664\n",
            "     12        2.0994       0.0000        2.3206  4.8783\n",
            "     13        2.0775       0.0000        2.3233  4.0370\n",
            "     14        2.0943       0.1429        2.3261  2.7881\n",
            "     15        \u001b[36m2.0420\u001b[0m       0.1429        2.3293  2.8659\n"
          ]
        },
        {
          "output_type": "stream",
          "name": "stderr",
          "text": [
            "/usr/local/lib/python3.7/dist-packages/sklearn/model_selection/_split.py:680: UserWarning: The least populated class in y has only 2 members, which is less than n_splits=5.\n",
            "  UserWarning,\n"
          ]
        },
        {
          "output_type": "stream",
          "name": "stdout",
          "text": [
            "  epoch    train_loss    valid_acc    valid_loss     dur\n",
            "-------  ------------  -----------  ------------  ------\n",
            "      1        \u001b[36m2.3704\u001b[0m       \u001b[32m0.0000\u001b[0m        \u001b[35m2.3046\u001b[0m  2.5171\n",
            "      2        \u001b[36m2.1418\u001b[0m       0.0000        2.3052  2.5765\n",
            "      3        \u001b[36m2.0075\u001b[0m       0.0000        2.3059  2.6181\n",
            "      4        2.0313       0.0000        2.3067  2.5941\n",
            "      5        \u001b[36m1.9601\u001b[0m       0.0000        2.3072  2.5852\n"
          ]
        },
        {
          "output_type": "stream",
          "name": "stderr",
          "text": [
            "/usr/local/lib/python3.7/dist-packages/sklearn/model_selection/_split.py:680: UserWarning: The least populated class in y has only 1 members, which is less than n_splits=5.\n",
            "  UserWarning,\n"
          ]
        },
        {
          "output_type": "stream",
          "name": "stdout",
          "text": [
            "  epoch    train_loss    valid_acc    valid_loss     dur\n",
            "-------  ------------  -----------  ------------  ------\n",
            "      1        \u001b[36m2.3491\u001b[0m       \u001b[32m0.0000\u001b[0m        \u001b[35m2.3074\u001b[0m  2.4341\n",
            "      2        \u001b[36m2.1483\u001b[0m       0.0000        2.3087  2.5157\n",
            "      3        \u001b[36m2.0787\u001b[0m       0.0000        2.3105  2.5655\n",
            "      4        \u001b[36m1.9297\u001b[0m       0.0000        2.3120  2.5519\n",
            "      5        1.9484       0.0000        2.3145  2.5494\n"
          ]
        },
        {
          "output_type": "stream",
          "name": "stderr",
          "text": [
            "/usr/local/lib/python3.7/dist-packages/sklearn/model_selection/_split.py:680: UserWarning: The least populated class in y has only 2 members, which is less than n_splits=5.\n",
            "  UserWarning,\n"
          ]
        },
        {
          "output_type": "stream",
          "name": "stdout",
          "text": [
            "  epoch    train_loss    valid_acc    valid_loss     dur\n",
            "-------  ------------  -----------  ------------  ------\n",
            "      1        \u001b[36m2.3332\u001b[0m       \u001b[32m0.0000\u001b[0m        \u001b[35m2.3047\u001b[0m  2.3410\n",
            "      2        \u001b[36m2.2151\u001b[0m       0.0000        2.3055  2.3597\n",
            "      3        \u001b[36m2.1151\u001b[0m       0.0000        2.3061  2.3465\n",
            "      4        \u001b[36m2.0818\u001b[0m       \u001b[32m0.1429\u001b[0m        2.3065  2.2907\n",
            "      5        \u001b[36m1.9488\u001b[0m       0.1429        2.3072  2.4276\n"
          ]
        },
        {
          "output_type": "stream",
          "name": "stderr",
          "text": [
            "/usr/local/lib/python3.7/dist-packages/sklearn/model_selection/_split.py:680: UserWarning: The least populated class in y has only 1 members, which is less than n_splits=5.\n",
            "  UserWarning,\n"
          ]
        },
        {
          "output_type": "stream",
          "name": "stdout",
          "text": [
            "  epoch    train_loss    valid_acc    valid_loss     dur\n",
            "-------  ------------  -----------  ------------  ------\n",
            "      1        \u001b[36m2.3103\u001b[0m       \u001b[32m0.1429\u001b[0m        \u001b[35m2.2994\u001b[0m  2.3157\n",
            "      2        \u001b[36m2.2347\u001b[0m       0.1429        2.3005  2.3482\n",
            "      3        \u001b[36m2.1485\u001b[0m       0.1429        2.3014  2.3047\n",
            "      4        \u001b[36m2.0029\u001b[0m       0.1429        2.3020  2.3508\n",
            "      5        \u001b[36m1.8785\u001b[0m       0.1429        2.3031  2.3251\n"
          ]
        },
        {
          "output_type": "stream",
          "name": "stderr",
          "text": [
            "/usr/local/lib/python3.7/dist-packages/sklearn/model_selection/_split.py:680: UserWarning: The least populated class in y has only 2 members, which is less than n_splits=5.\n",
            "  UserWarning,\n"
          ]
        },
        {
          "output_type": "stream",
          "name": "stdout",
          "text": [
            "  epoch    train_loss    valid_acc    valid_loss     dur\n",
            "-------  ------------  -----------  ------------  ------\n",
            "      1        \u001b[36m2.3731\u001b[0m       \u001b[32m0.1429\u001b[0m        \u001b[35m2.3046\u001b[0m  2.6665\n",
            "      2        \u001b[36m2.1540\u001b[0m       0.1429        2.3051  2.8050\n",
            "      3        \u001b[36m2.0520\u001b[0m       0.1429        2.3056  2.7901\n",
            "      4        \u001b[36m1.9916\u001b[0m       0.1429        2.3062  2.7859\n",
            "      5        \u001b[36m1.9002\u001b[0m       0.0000        2.3073  2.8546\n"
          ]
        },
        {
          "output_type": "stream",
          "name": "stderr",
          "text": [
            "/usr/local/lib/python3.7/dist-packages/sklearn/model_selection/_split.py:680: UserWarning: The least populated class in y has only 1 members, which is less than n_splits=5.\n",
            "  UserWarning,\n"
          ]
        },
        {
          "output_type": "stream",
          "name": "stdout",
          "text": [
            "  epoch    train_loss    valid_acc    valid_loss     dur\n",
            "-------  ------------  -----------  ------------  ------\n",
            "      1        \u001b[36m2.3703\u001b[0m       \u001b[32m0.1429\u001b[0m        \u001b[35m2.3053\u001b[0m  2.6326\n",
            "      2        \u001b[36m2.1255\u001b[0m       0.1429        2.3062  2.7416\n",
            "      3        \u001b[36m2.0264\u001b[0m       0.0000        2.3073  2.7775\n",
            "      4        \u001b[36m1.9302\u001b[0m       0.1429        2.3092  2.7630\n",
            "      5        \u001b[36m1.9130\u001b[0m       0.1429        2.3111  2.8789\n"
          ]
        },
        {
          "output_type": "stream",
          "name": "stderr",
          "text": [
            "/usr/local/lib/python3.7/dist-packages/sklearn/model_selection/_split.py:680: UserWarning: The least populated class in y has only 2 members, which is less than n_splits=5.\n",
            "  UserWarning,\n"
          ]
        },
        {
          "output_type": "stream",
          "name": "stdout",
          "text": [
            "  epoch    train_loss    valid_acc    valid_loss     dur\n",
            "-------  ------------  -----------  ------------  ------\n",
            "      1        \u001b[36m2.3292\u001b[0m       \u001b[32m0.1429\u001b[0m        \u001b[35m2.3034\u001b[0m  2.4599\n",
            "      2        \u001b[36m2.1357\u001b[0m       0.1429        2.3043  2.5239\n",
            "      3        \u001b[36m2.0634\u001b[0m       0.1429        2.3048  2.5049\n",
            "      4        \u001b[36m2.0044\u001b[0m       0.1429        2.3061  2.5444\n",
            "      5        \u001b[36m1.9781\u001b[0m       0.1429        2.3061  2.5254\n",
            "      6        \u001b[36m1.8423\u001b[0m       0.1429        2.3063  2.5826\n",
            "      7        \u001b[36m1.7686\u001b[0m       0.1429        2.3063  2.5330\n",
            "      8        \u001b[36m1.6805\u001b[0m       0.1429        2.3064  2.4993\n",
            "      9        \u001b[36m1.6381\u001b[0m       0.1429        2.3051  2.4992\n",
            "     10        \u001b[36m1.5172\u001b[0m       0.1429        2.3045  2.4800\n"
          ]
        },
        {
          "output_type": "stream",
          "name": "stderr",
          "text": [
            "/usr/local/lib/python3.7/dist-packages/sklearn/model_selection/_split.py:680: UserWarning: The least populated class in y has only 1 members, which is less than n_splits=5.\n",
            "  UserWarning,\n"
          ]
        },
        {
          "output_type": "stream",
          "name": "stdout",
          "text": [
            "  epoch    train_loss    valid_acc    valid_loss     dur\n",
            "-------  ------------  -----------  ------------  ------\n",
            "      1        \u001b[36m2.3789\u001b[0m       \u001b[32m0.1429\u001b[0m        \u001b[35m2.3023\u001b[0m  2.5328\n",
            "      2        \u001b[36m2.1257\u001b[0m       0.1429        2.3037  2.5090\n",
            "      3        \u001b[36m2.0484\u001b[0m       0.1429        2.3050  2.5175\n",
            "      4        \u001b[36m1.9192\u001b[0m       0.1429        2.3063  2.5131\n",
            "      5        \u001b[36m1.7944\u001b[0m       0.1429        2.3091  2.5091\n",
            "      6        1.8618       0.1429        2.3119  2.4857\n",
            "      7        \u001b[36m1.6938\u001b[0m       0.1429        2.3131  2.5007\n",
            "      8        \u001b[36m1.6771\u001b[0m       0.1429        2.3155  2.6153\n",
            "      9        \u001b[36m1.5965\u001b[0m       0.1429        2.3198  2.5176\n",
            "     10        \u001b[36m1.4938\u001b[0m       0.1429        2.3250  2.5232\n"
          ]
        },
        {
          "output_type": "stream",
          "name": "stderr",
          "text": [
            "/usr/local/lib/python3.7/dist-packages/sklearn/model_selection/_split.py:680: UserWarning: The least populated class in y has only 2 members, which is less than n_splits=5.\n",
            "  UserWarning,\n"
          ]
        },
        {
          "output_type": "stream",
          "name": "stdout",
          "text": [
            "  epoch    train_loss    valid_acc    valid_loss     dur\n",
            "-------  ------------  -----------  ------------  ------\n",
            "      1        \u001b[36m2.2934\u001b[0m       \u001b[32m0.0000\u001b[0m        \u001b[35m2.3055\u001b[0m  2.3542\n",
            "      2        \u001b[36m2.1691\u001b[0m       \u001b[32m0.1429\u001b[0m        2.3060  2.3682\n",
            "      3        \u001b[36m2.1027\u001b[0m       0.0000        2.3061  2.3470\n",
            "      4        \u001b[36m2.0738\u001b[0m       0.1429        2.3066  2.3042\n",
            "      5        \u001b[36m1.9894\u001b[0m       0.1429        2.3071  2.3140\n",
            "      6        \u001b[36m1.8700\u001b[0m       0.1429        2.3071  2.2926\n",
            "      7        \u001b[36m1.8268\u001b[0m       0.1429        2.3077  2.3268\n",
            "      8        \u001b[36m1.7920\u001b[0m       0.0000        2.3090  2.3563\n",
            "      9        \u001b[36m1.6681\u001b[0m       0.0000        2.3076  2.3070\n",
            "     10        \u001b[36m1.5566\u001b[0m       0.0000        2.3066  2.4567\n"
          ]
        },
        {
          "output_type": "stream",
          "name": "stderr",
          "text": [
            "/usr/local/lib/python3.7/dist-packages/sklearn/model_selection/_split.py:680: UserWarning: The least populated class in y has only 1 members, which is less than n_splits=5.\n",
            "  UserWarning,\n"
          ]
        },
        {
          "output_type": "stream",
          "name": "stdout",
          "text": [
            "  epoch    train_loss    valid_acc    valid_loss     dur\n",
            "-------  ------------  -----------  ------------  ------\n",
            "      1        \u001b[36m2.3457\u001b[0m       \u001b[32m0.1429\u001b[0m        \u001b[35m2.3034\u001b[0m  2.2657\n",
            "      2        \u001b[36m2.1510\u001b[0m       0.1429        2.3044  2.2892\n",
            "      3        \u001b[36m2.0658\u001b[0m       0.1429        2.3058  2.3363\n",
            "      4        \u001b[36m2.0453\u001b[0m       0.0000        2.3074  2.3075\n",
            "      5        \u001b[36m1.8918\u001b[0m       0.0000        2.3106  2.3843\n",
            "      6        1.9062       0.0000        2.3120  2.3101\n",
            "      7        \u001b[36m1.7795\u001b[0m       0.0000        2.3164  2.2820\n",
            "      8        \u001b[36m1.7620\u001b[0m       0.0000        2.3200  2.3056\n",
            "      9        \u001b[36m1.7577\u001b[0m       0.0000        2.3228  2.3239\n",
            "     10        \u001b[36m1.6311\u001b[0m       0.0000        2.3269  2.3056\n"
          ]
        },
        {
          "output_type": "stream",
          "name": "stderr",
          "text": [
            "/usr/local/lib/python3.7/dist-packages/sklearn/model_selection/_split.py:680: UserWarning: The least populated class in y has only 2 members, which is less than n_splits=5.\n",
            "  UserWarning,\n"
          ]
        },
        {
          "output_type": "stream",
          "name": "stdout",
          "text": [
            "  epoch    train_loss    valid_acc    valid_loss     dur\n",
            "-------  ------------  -----------  ------------  ------\n",
            "      1        \u001b[36m2.3659\u001b[0m       \u001b[32m0.1429\u001b[0m        \u001b[35m2.3029\u001b[0m  2.6171\n",
            "      2        \u001b[36m2.1587\u001b[0m       0.1429        2.3033  2.8553\n",
            "      3        \u001b[36m2.0930\u001b[0m       0.1429        2.3037  2.6727\n",
            "      4        \u001b[36m2.0118\u001b[0m       0.0000        2.3048  2.6839\n",
            "      5        \u001b[36m1.9176\u001b[0m       0.1429        2.3045  2.7393\n",
            "      6        \u001b[36m1.8622\u001b[0m       0.1429        2.3041  2.8160\n",
            "      7        \u001b[36m1.7910\u001b[0m       0.1429        2.3043  2.7938\n",
            "      8        \u001b[36m1.7514\u001b[0m       0.1429        \u001b[35m2.3023\u001b[0m  2.7972\n",
            "      9        \u001b[36m1.6401\u001b[0m       0.1429        2.3029  2.7880\n",
            "     10        \u001b[36m1.5455\u001b[0m       0.1429        2.3026  2.8112\n"
          ]
        },
        {
          "output_type": "stream",
          "name": "stderr",
          "text": [
            "/usr/local/lib/python3.7/dist-packages/sklearn/model_selection/_split.py:680: UserWarning: The least populated class in y has only 1 members, which is less than n_splits=5.\n",
            "  UserWarning,\n"
          ]
        },
        {
          "output_type": "stream",
          "name": "stdout",
          "text": [
            "  epoch    train_loss    valid_acc    valid_loss     dur\n",
            "-------  ------------  -----------  ------------  ------\n",
            "      1        \u001b[36m2.2874\u001b[0m       \u001b[32m0.1429\u001b[0m        \u001b[35m2.3052\u001b[0m  2.7137\n",
            "      2        \u001b[36m2.0919\u001b[0m       0.1429        2.3059  2.8498\n",
            "      3        \u001b[36m2.0174\u001b[0m       0.1429        2.3074  2.8490\n",
            "      4        \u001b[36m1.9130\u001b[0m       0.0000        2.3097  2.8312\n",
            "      5        \u001b[36m1.8442\u001b[0m       0.1429        2.3112  4.3478\n",
            "      6        \u001b[36m1.7667\u001b[0m       0.0000        2.3140  4.5051\n",
            "      7        \u001b[36m1.6976\u001b[0m       0.0000        2.3156  2.7828\n",
            "      8        \u001b[36m1.5905\u001b[0m       0.0000        2.3184  2.7927\n",
            "      9        \u001b[36m1.5659\u001b[0m       0.0000        2.3218  2.7883\n",
            "     10        \u001b[36m1.3955\u001b[0m       0.1429        2.3215  2.8124\n"
          ]
        },
        {
          "output_type": "stream",
          "name": "stderr",
          "text": [
            "/usr/local/lib/python3.7/dist-packages/sklearn/model_selection/_split.py:680: UserWarning: The least populated class in y has only 2 members, which is less than n_splits=5.\n",
            "  UserWarning,\n"
          ]
        },
        {
          "output_type": "stream",
          "name": "stdout",
          "text": [
            "  epoch    train_loss    valid_acc    valid_loss     dur\n",
            "-------  ------------  -----------  ------------  ------\n",
            "      1        \u001b[36m2.3025\u001b[0m       \u001b[32m0.0000\u001b[0m        \u001b[35m2.3049\u001b[0m  2.5675\n",
            "      2        \u001b[36m2.1812\u001b[0m       0.0000        2.3053  2.6147\n",
            "      3        \u001b[36m2.0973\u001b[0m       0.0000        2.3061  2.5450\n",
            "      4        \u001b[36m1.9274\u001b[0m       0.0000        2.3064  2.5529\n",
            "      5        \u001b[36m1.9221\u001b[0m       0.0000        2.3061  2.5631\n",
            "      6        \u001b[36m1.8796\u001b[0m       0.0000        2.3060  2.6162\n",
            "      7        \u001b[36m1.7965\u001b[0m       0.0000        \u001b[35m2.3037\u001b[0m  2.6436\n",
            "      8        \u001b[36m1.6856\u001b[0m       0.0000        \u001b[35m2.3026\u001b[0m  2.6312\n",
            "      9        \u001b[36m1.5939\u001b[0m       0.0000        \u001b[35m2.3019\u001b[0m  2.6551\n",
            "     10        \u001b[36m1.4921\u001b[0m       0.0000        \u001b[35m2.2969\u001b[0m  2.5952\n",
            "     11        1.5320       \u001b[32m0.1429\u001b[0m        \u001b[35m2.2960\u001b[0m  2.6290\n",
            "     12        \u001b[36m1.4280\u001b[0m       0.1429        \u001b[35m2.2922\u001b[0m  2.6301\n",
            "     13        \u001b[36m1.3658\u001b[0m       0.1429        \u001b[35m2.2883\u001b[0m  2.6385\n",
            "     14        \u001b[36m1.2355\u001b[0m       0.1429        \u001b[35m2.2813\u001b[0m  2.5696\n",
            "     15        \u001b[36m1.1970\u001b[0m       0.1429        \u001b[35m2.2797\u001b[0m  2.5433\n"
          ]
        },
        {
          "output_type": "stream",
          "name": "stderr",
          "text": [
            "/usr/local/lib/python3.7/dist-packages/sklearn/model_selection/_split.py:680: UserWarning: The least populated class in y has only 1 members, which is less than n_splits=5.\n",
            "  UserWarning,\n"
          ]
        },
        {
          "output_type": "stream",
          "name": "stdout",
          "text": [
            "  epoch    train_loss    valid_acc    valid_loss     dur\n",
            "-------  ------------  -----------  ------------  ------\n",
            "      1        \u001b[36m2.3540\u001b[0m       \u001b[32m0.0000\u001b[0m        \u001b[35m2.3045\u001b[0m  4.5578\n",
            "      2        \u001b[36m2.1643\u001b[0m       \u001b[32m0.1429\u001b[0m        2.3070  3.7006\n",
            "      3        \u001b[36m2.1128\u001b[0m       0.1429        2.3097  2.5737\n",
            "      4        \u001b[36m1.9943\u001b[0m       0.1429        2.3124  2.5616\n",
            "      5        \u001b[36m1.9117\u001b[0m       0.1429        2.3150  2.5205\n",
            "      6        1.9254       0.1429        2.3176  2.5759\n",
            "      7        \u001b[36m1.7597\u001b[0m       0.1429        2.3212  2.5853\n",
            "      8        \u001b[36m1.7407\u001b[0m       0.0000        2.3248  2.6075\n",
            "      9        \u001b[36m1.6040\u001b[0m       0.0000        2.3292  2.5935\n",
            "     10        \u001b[36m1.5681\u001b[0m       0.0000        2.3342  2.5883\n",
            "     11        \u001b[36m1.5077\u001b[0m       0.0000        2.3397  2.5450\n",
            "     12        \u001b[36m1.4853\u001b[0m       0.0000        2.3462  2.5509\n",
            "     13        \u001b[36m1.2865\u001b[0m       0.0000        2.3493  2.6338\n",
            "     14        1.3082       0.0000        2.3544  2.5549\n",
            "     15        \u001b[36m1.2549\u001b[0m       0.0000        2.3689  2.5776\n"
          ]
        },
        {
          "output_type": "stream",
          "name": "stderr",
          "text": [
            "/usr/local/lib/python3.7/dist-packages/sklearn/model_selection/_split.py:680: UserWarning: The least populated class in y has only 2 members, which is less than n_splits=5.\n",
            "  UserWarning,\n"
          ]
        },
        {
          "output_type": "stream",
          "name": "stdout",
          "text": [
            "  epoch    train_loss    valid_acc    valid_loss     dur\n",
            "-------  ------------  -----------  ------------  ------\n",
            "      1        \u001b[36m2.4224\u001b[0m       \u001b[32m0.1429\u001b[0m        \u001b[35m2.2989\u001b[0m  2.3722\n",
            "      2        \u001b[36m2.2354\u001b[0m       0.1429        2.2996  2.3581\n",
            "      3        \u001b[36m2.0922\u001b[0m       0.1429        2.3001  2.3434\n",
            "      4        \u001b[36m2.0173\u001b[0m       0.1429        2.3003  2.3550\n",
            "      5        \u001b[36m1.9012\u001b[0m       0.0000        2.3022  2.4786\n",
            "      6        \u001b[36m1.8789\u001b[0m       0.1429        2.3030  2.4191\n",
            "      7        \u001b[36m1.7539\u001b[0m       0.1429        2.3047  2.4107\n",
            "      8        \u001b[36m1.7286\u001b[0m       0.0000        2.3044  2.3187\n",
            "      9        \u001b[36m1.6227\u001b[0m       0.0000        2.3071  2.3913\n",
            "     10        1.6317       0.0000        2.3067  2.3636\n",
            "     11        \u001b[36m1.4761\u001b[0m       0.0000        2.3071  2.3517\n",
            "     12        \u001b[36m1.3981\u001b[0m       0.0000        2.3066  2.3447\n",
            "     13        \u001b[36m1.3285\u001b[0m       0.0000        2.3071  2.3175\n",
            "     14        \u001b[36m1.2988\u001b[0m       0.0000        2.3082  2.3366\n",
            "     15        \u001b[36m1.2503\u001b[0m       0.0000        2.3039  2.4000\n"
          ]
        },
        {
          "output_type": "stream",
          "name": "stderr",
          "text": [
            "/usr/local/lib/python3.7/dist-packages/sklearn/model_selection/_split.py:680: UserWarning: The least populated class in y has only 1 members, which is less than n_splits=5.\n",
            "  UserWarning,\n"
          ]
        },
        {
          "output_type": "stream",
          "name": "stdout",
          "text": [
            "  epoch    train_loss    valid_acc    valid_loss     dur\n",
            "-------  ------------  -----------  ------------  ------\n",
            "      1        \u001b[36m2.3058\u001b[0m       \u001b[32m0.1429\u001b[0m        \u001b[35m2.3028\u001b[0m  2.3081\n",
            "      2        \u001b[36m2.1033\u001b[0m       0.1429        2.3035  2.3840\n",
            "      3        \u001b[36m2.0529\u001b[0m       0.1429        2.3055  2.3169\n",
            "      4        \u001b[36m1.9322\u001b[0m       0.1429        2.3071  2.3197\n",
            "      5        \u001b[36m1.9133\u001b[0m       0.1429        2.3089  2.3087\n",
            "      6        \u001b[36m1.8207\u001b[0m       0.1429        2.3114  2.3351\n",
            "      7        \u001b[36m1.7487\u001b[0m       0.0000        2.3138  2.3363\n",
            "      8        \u001b[36m1.7224\u001b[0m       0.0000        2.3163  2.3515\n",
            "      9        \u001b[36m1.5630\u001b[0m       0.1429        2.3201  2.3443\n",
            "     10        1.5852       0.1429        2.3213  2.3508\n",
            "     11        \u001b[36m1.4805\u001b[0m       0.1429        2.3279  2.3046\n",
            "     12        \u001b[36m1.4235\u001b[0m       0.1429        2.3305  2.3514\n",
            "     13        \u001b[36m1.3477\u001b[0m       0.1429        2.3396  2.3070\n",
            "     14        \u001b[36m1.2796\u001b[0m       0.1429        2.3423  2.2910\n",
            "     15        \u001b[36m1.2619\u001b[0m       0.1429        2.3499  2.3210\n"
          ]
        },
        {
          "output_type": "stream",
          "name": "stderr",
          "text": [
            "/usr/local/lib/python3.7/dist-packages/sklearn/model_selection/_split.py:680: UserWarning: The least populated class in y has only 2 members, which is less than n_splits=5.\n",
            "  UserWarning,\n"
          ]
        },
        {
          "output_type": "stream",
          "name": "stdout",
          "text": [
            "  epoch    train_loss    valid_acc    valid_loss     dur\n",
            "-------  ------------  -----------  ------------  ------\n",
            "      1        \u001b[36m2.3933\u001b[0m       \u001b[32m0.0000\u001b[0m        \u001b[35m2.3039\u001b[0m  2.6349\n",
            "      2        \u001b[36m2.0857\u001b[0m       0.0000        2.3047  2.7441\n",
            "      3        \u001b[36m2.0268\u001b[0m       0.0000        2.3060  2.7712\n",
            "      4        \u001b[36m2.0267\u001b[0m       0.0000        2.3065  2.7480\n",
            "      5        \u001b[36m1.8868\u001b[0m       0.0000        2.3083  2.7743\n",
            "      6        \u001b[36m1.8160\u001b[0m       0.0000        2.3093  2.7599\n",
            "      7        \u001b[36m1.7484\u001b[0m       0.0000        2.3081  2.7336\n",
            "      8        \u001b[36m1.6651\u001b[0m       0.0000        2.3095  2.7039\n",
            "      9        \u001b[36m1.6327\u001b[0m       0.0000        2.3101  2.7131\n",
            "     10        \u001b[36m1.5747\u001b[0m       0.0000        2.3089  2.7306\n",
            "     11        \u001b[36m1.4177\u001b[0m       0.0000        2.3105  2.8409\n",
            "     12        \u001b[36m1.3944\u001b[0m       \u001b[32m0.1429\u001b[0m        2.3072  2.7420\n",
            "     13        \u001b[36m1.3664\u001b[0m       0.0000        2.3072  2.7751\n",
            "     14        \u001b[36m1.2252\u001b[0m       0.0000        2.3053  2.7940\n",
            "     15        \u001b[36m1.2209\u001b[0m       0.1429        \u001b[35m2.3013\u001b[0m  2.7880\n"
          ]
        },
        {
          "output_type": "stream",
          "name": "stderr",
          "text": [
            "/usr/local/lib/python3.7/dist-packages/sklearn/model_selection/_split.py:680: UserWarning: The least populated class in y has only 1 members, which is less than n_splits=5.\n",
            "  UserWarning,\n"
          ]
        },
        {
          "output_type": "stream",
          "name": "stdout",
          "text": [
            "  epoch    train_loss    valid_acc    valid_loss     dur\n",
            "-------  ------------  -----------  ------------  ------\n",
            "      1        \u001b[36m2.3128\u001b[0m       \u001b[32m0.2857\u001b[0m        \u001b[35m2.3034\u001b[0m  2.6328\n",
            "      2        \u001b[36m2.1064\u001b[0m       0.0000        2.3048  2.7647\n",
            "      3        \u001b[36m2.1064\u001b[0m       0.0000        2.3078  2.7417\n",
            "      4        \u001b[36m1.9212\u001b[0m       0.0000        2.3094  2.7847\n",
            "      5        1.9299       0.0000        2.3122  2.7601\n",
            "      6        \u001b[36m1.8375\u001b[0m       0.0000        2.3133  2.8007\n",
            "      7        \u001b[36m1.7203\u001b[0m       0.0000        2.3166  2.7282\n",
            "      8        \u001b[36m1.5638\u001b[0m       0.0000        2.3187  2.7255\n",
            "      9        \u001b[36m1.5329\u001b[0m       0.0000        2.3231  2.8073\n",
            "     10        \u001b[36m1.4911\u001b[0m       0.0000        2.3240  2.7500\n",
            "     11        \u001b[36m1.4168\u001b[0m       0.1429        2.3303  2.7392\n",
            "     12        \u001b[36m1.3422\u001b[0m       0.0000        2.3375  2.7910\n",
            "     13        \u001b[36m1.3061\u001b[0m       0.1429        2.3423  2.7197\n",
            "     14        \u001b[36m1.1693\u001b[0m       0.1429        2.3451  2.7502\n",
            "     15        \u001b[36m1.0631\u001b[0m       0.1429        2.3562  2.7808\n"
          ]
        },
        {
          "output_type": "stream",
          "name": "stderr",
          "text": [
            "/usr/local/lib/python3.7/dist-packages/sklearn/model_selection/_split.py:680: UserWarning: The least populated class in y has only 2 members, which is less than n_splits=5.\n",
            "  UserWarning,\n"
          ]
        },
        {
          "output_type": "stream",
          "name": "stdout",
          "text": [
            "  epoch    train_loss    valid_acc    valid_loss     dur\n",
            "-------  ------------  -----------  ------------  ------\n",
            "      1        \u001b[36m2.4455\u001b[0m       \u001b[32m0.1429\u001b[0m        \u001b[35m2.3053\u001b[0m  2.4960\n",
            "      2        \u001b[36m2.1907\u001b[0m       0.0000        2.3064  2.6291\n",
            "      3        \u001b[36m2.1840\u001b[0m       0.0000        2.3072  2.4706\n",
            "      4        \u001b[36m2.1471\u001b[0m       0.0000        2.3082  2.4756\n",
            "      5        \u001b[36m2.0744\u001b[0m       0.0000        2.3092  2.5016\n"
          ]
        },
        {
          "output_type": "stream",
          "name": "stderr",
          "text": [
            "/usr/local/lib/python3.7/dist-packages/sklearn/model_selection/_split.py:680: UserWarning: The least populated class in y has only 1 members, which is less than n_splits=5.\n",
            "  UserWarning,\n"
          ]
        },
        {
          "output_type": "stream",
          "name": "stdout",
          "text": [
            "  epoch    train_loss    valid_acc    valid_loss     dur\n",
            "-------  ------------  -----------  ------------  ------\n",
            "      1        \u001b[36m2.2845\u001b[0m       \u001b[32m0.2857\u001b[0m        \u001b[35m2.3032\u001b[0m  4.2950\n",
            "      2        \u001b[36m2.2531\u001b[0m       0.1429        2.3048  3.8961\n",
            "      3        \u001b[36m2.1384\u001b[0m       0.1429        2.3069  2.4882\n",
            "      4        \u001b[36m2.1160\u001b[0m       0.1429        2.3085  2.5135\n",
            "      5        \u001b[36m2.0575\u001b[0m       0.1429        2.3103  2.5109\n"
          ]
        },
        {
          "output_type": "stream",
          "name": "stderr",
          "text": [
            "/usr/local/lib/python3.7/dist-packages/sklearn/model_selection/_split.py:680: UserWarning: The least populated class in y has only 2 members, which is less than n_splits=5.\n",
            "  UserWarning,\n"
          ]
        },
        {
          "output_type": "stream",
          "name": "stdout",
          "text": [
            "  epoch    train_loss    valid_acc    valid_loss     dur\n",
            "-------  ------------  -----------  ------------  ------\n",
            "      1        \u001b[36m2.3036\u001b[0m       \u001b[32m0.1429\u001b[0m        \u001b[35m2.3046\u001b[0m  2.2796\n",
            "      2        2.3210       0.0000        2.3047  2.4334\n",
            "      3        \u001b[36m2.2000\u001b[0m       0.0000        2.3047  2.3560\n",
            "      4        \u001b[36m2.1539\u001b[0m       0.0000        2.3049  2.2487\n",
            "      5        \u001b[36m2.1244\u001b[0m       0.0000        2.3052  2.3391\n"
          ]
        },
        {
          "output_type": "stream",
          "name": "stderr",
          "text": [
            "/usr/local/lib/python3.7/dist-packages/sklearn/model_selection/_split.py:680: UserWarning: The least populated class in y has only 1 members, which is less than n_splits=5.\n",
            "  UserWarning,\n"
          ]
        },
        {
          "output_type": "stream",
          "name": "stdout",
          "text": [
            "  epoch    train_loss    valid_acc    valid_loss     dur\n",
            "-------  ------------  -----------  ------------  ------\n",
            "      1        \u001b[36m2.2532\u001b[0m       \u001b[32m0.1429\u001b[0m        \u001b[35m2.3043\u001b[0m  2.2266\n",
            "      2        \u001b[36m2.1677\u001b[0m       0.1429        2.3053  2.3063\n",
            "      3        \u001b[36m2.1365\u001b[0m       0.1429        2.3070  2.2564\n",
            "      4        \u001b[36m2.1181\u001b[0m       0.1429        2.3086  2.2980\n",
            "      5        \u001b[36m2.0318\u001b[0m       0.1429        2.3106  2.3007\n"
          ]
        },
        {
          "output_type": "stream",
          "name": "stderr",
          "text": [
            "/usr/local/lib/python3.7/dist-packages/sklearn/model_selection/_split.py:680: UserWarning: The least populated class in y has only 2 members, which is less than n_splits=5.\n",
            "  UserWarning,\n"
          ]
        },
        {
          "output_type": "stream",
          "name": "stdout",
          "text": [
            "  epoch    train_loss    valid_acc    valid_loss     dur\n",
            "-------  ------------  -----------  ------------  ------\n",
            "      1        \u001b[36m2.3156\u001b[0m       \u001b[32m0.1429\u001b[0m        \u001b[35m2.3041\u001b[0m  2.6879\n",
            "      2        \u001b[36m2.1494\u001b[0m       0.1429        2.3047  2.7646\n",
            "      3        \u001b[36m2.0889\u001b[0m       0.1429        2.3054  2.6892\n",
            "      4        \u001b[36m2.0425\u001b[0m       0.1429        2.3061  2.8527\n",
            "      5        2.0794       0.1429        2.3072  2.7141\n"
          ]
        },
        {
          "output_type": "stream",
          "name": "stderr",
          "text": [
            "/usr/local/lib/python3.7/dist-packages/sklearn/model_selection/_split.py:680: UserWarning: The least populated class in y has only 1 members, which is less than n_splits=5.\n",
            "  UserWarning,\n"
          ]
        },
        {
          "output_type": "stream",
          "name": "stdout",
          "text": [
            "  epoch    train_loss    valid_acc    valid_loss     dur\n",
            "-------  ------------  -----------  ------------  ------\n",
            "      1        \u001b[36m2.3229\u001b[0m       \u001b[32m0.0000\u001b[0m        \u001b[35m2.3064\u001b[0m  2.6173\n",
            "      2        \u001b[36m2.1304\u001b[0m       0.0000        2.3084  2.8101\n",
            "      3        \u001b[36m2.1104\u001b[0m       0.0000        2.3104  2.7384\n",
            "      4        \u001b[36m2.0670\u001b[0m       0.0000        2.3126  2.7032\n",
            "      5        \u001b[36m1.9646\u001b[0m       0.0000        2.3139  2.7835\n"
          ]
        },
        {
          "output_type": "stream",
          "name": "stderr",
          "text": [
            "/usr/local/lib/python3.7/dist-packages/sklearn/model_selection/_split.py:680: UserWarning: The least populated class in y has only 2 members, which is less than n_splits=5.\n",
            "  UserWarning,\n"
          ]
        },
        {
          "output_type": "stream",
          "name": "stdout",
          "text": [
            "  epoch    train_loss    valid_acc    valid_loss     dur\n",
            "-------  ------------  -----------  ------------  ------\n",
            "      1        \u001b[36m2.3380\u001b[0m       \u001b[32m0.1429\u001b[0m        \u001b[35m2.3025\u001b[0m  2.4899\n",
            "      2        \u001b[36m2.2583\u001b[0m       0.1429        2.3028  2.5791\n",
            "      3        \u001b[36m2.1797\u001b[0m       0.1429        2.3040  2.5815\n",
            "      4        \u001b[36m2.1135\u001b[0m       0.1429        2.3051  2.5939\n",
            "      5        \u001b[36m2.1130\u001b[0m       0.1429        2.3060  2.5564\n",
            "      6        \u001b[36m1.9964\u001b[0m       0.0000        2.3073  2.5587\n",
            "      7        2.0206       0.0000        2.3081  3.5971\n",
            "      8        \u001b[36m1.8426\u001b[0m       0.0000        2.3092  4.6854\n",
            "      9        \u001b[36m1.8283\u001b[0m       0.0000        2.3099  2.5778\n",
            "     10        \u001b[36m1.7535\u001b[0m       0.0000        2.3096  2.4407\n"
          ]
        },
        {
          "output_type": "stream",
          "name": "stderr",
          "text": [
            "/usr/local/lib/python3.7/dist-packages/sklearn/model_selection/_split.py:680: UserWarning: The least populated class in y has only 1 members, which is less than n_splits=5.\n",
            "  UserWarning,\n"
          ]
        },
        {
          "output_type": "stream",
          "name": "stdout",
          "text": [
            "  epoch    train_loss    valid_acc    valid_loss     dur\n",
            "-------  ------------  -----------  ------------  ------\n",
            "      1        \u001b[36m2.3726\u001b[0m       \u001b[32m0.0000\u001b[0m        \u001b[35m2.3056\u001b[0m  2.3984\n",
            "      2        \u001b[36m2.1703\u001b[0m       0.0000        2.3072  2.4897\n",
            "      3        \u001b[36m2.1134\u001b[0m       0.0000        2.3088  2.5081\n",
            "      4        \u001b[36m2.0686\u001b[0m       0.0000        2.3107  2.5303\n",
            "      5        \u001b[36m1.9677\u001b[0m       0.0000        2.3123  2.5251\n",
            "      6        \u001b[36m1.9612\u001b[0m       0.0000        2.3142  2.5118\n",
            "      7        1.9648       0.0000        2.3160  2.5826\n",
            "      8        \u001b[36m1.9222\u001b[0m       0.0000        2.3175  2.5398\n",
            "      9        \u001b[36m1.8024\u001b[0m       0.0000        2.3200  2.5360\n",
            "     10        \u001b[36m1.7426\u001b[0m       0.0000        2.3229  2.5591\n"
          ]
        },
        {
          "output_type": "stream",
          "name": "stderr",
          "text": [
            "/usr/local/lib/python3.7/dist-packages/sklearn/model_selection/_split.py:680: UserWarning: The least populated class in y has only 2 members, which is less than n_splits=5.\n",
            "  UserWarning,\n"
          ]
        },
        {
          "output_type": "stream",
          "name": "stdout",
          "text": [
            "  epoch    train_loss    valid_acc    valid_loss     dur\n",
            "-------  ------------  -----------  ------------  ------\n",
            "      1        \u001b[36m2.3310\u001b[0m       \u001b[32m0.0000\u001b[0m        \u001b[35m2.3029\u001b[0m  2.3107\n",
            "      2        \u001b[36m2.3016\u001b[0m       0.0000        2.3038  2.2893\n",
            "      3        \u001b[36m2.1881\u001b[0m       0.0000        2.3045  2.2912\n",
            "      4        \u001b[36m2.1748\u001b[0m       0.0000        2.3056  2.3497\n",
            "      5        \u001b[36m2.0913\u001b[0m       0.0000        2.3069  2.3360\n",
            "      6        \u001b[36m2.0510\u001b[0m       0.0000        2.3083  2.4021\n",
            "      7        \u001b[36m2.0350\u001b[0m       0.0000        2.3092  2.3361\n",
            "      8        \u001b[36m1.9479\u001b[0m       0.0000        2.3104  2.3437\n",
            "      9        \u001b[36m1.9357\u001b[0m       0.0000        2.3114  2.2605\n",
            "     10        \u001b[36m1.8973\u001b[0m       0.0000        2.3122  2.3003\n"
          ]
        },
        {
          "output_type": "stream",
          "name": "stderr",
          "text": [
            "/usr/local/lib/python3.7/dist-packages/sklearn/model_selection/_split.py:680: UserWarning: The least populated class in y has only 1 members, which is less than n_splits=5.\n",
            "  UserWarning,\n"
          ]
        },
        {
          "output_type": "stream",
          "name": "stdout",
          "text": [
            "  epoch    train_loss    valid_acc    valid_loss     dur\n",
            "-------  ------------  -----------  ------------  ------\n",
            "      1        \u001b[36m2.3977\u001b[0m       \u001b[32m0.1429\u001b[0m        \u001b[35m2.3039\u001b[0m  2.2786\n",
            "      2        \u001b[36m2.2587\u001b[0m       0.1429        2.3047  2.2870\n",
            "      3        \u001b[36m2.1597\u001b[0m       0.1429        2.3061  2.2519\n",
            "      4        \u001b[36m2.1067\u001b[0m       0.1429        2.3077  2.2928\n",
            "      5        \u001b[36m2.0771\u001b[0m       0.1429        2.3091  2.2753\n",
            "      6        \u001b[36m2.0463\u001b[0m       0.1429        2.3112  2.3228\n",
            "      7        \u001b[36m1.9038\u001b[0m       0.0000        2.3126  2.2405\n",
            "      8        \u001b[36m1.8935\u001b[0m       0.0000        2.3148  2.2702\n",
            "      9        1.9268       0.0000        2.3185  2.3783\n",
            "     10        \u001b[36m1.8572\u001b[0m       0.0000        2.3210  2.2985\n"
          ]
        },
        {
          "output_type": "stream",
          "name": "stderr",
          "text": [
            "/usr/local/lib/python3.7/dist-packages/sklearn/model_selection/_split.py:680: UserWarning: The least populated class in y has only 2 members, which is less than n_splits=5.\n",
            "  UserWarning,\n"
          ]
        },
        {
          "output_type": "stream",
          "name": "stdout",
          "text": [
            "  epoch    train_loss    valid_acc    valid_loss     dur\n",
            "-------  ------------  -----------  ------------  ------\n",
            "      1        \u001b[36m2.2897\u001b[0m       \u001b[32m0.0000\u001b[0m        \u001b[35m2.3038\u001b[0m  2.6167\n",
            "      2        \u001b[36m2.1447\u001b[0m       0.0000        2.3045  2.7382\n",
            "      3        2.1550       0.0000        2.3049  2.7599\n",
            "      4        \u001b[36m1.9965\u001b[0m       0.0000        2.3057  2.7223\n",
            "      5        2.0044       0.0000        2.3061  2.7876\n",
            "      6        2.0009       0.0000        2.3061  2.6984\n",
            "      7        \u001b[36m1.9154\u001b[0m       0.0000        2.3064  2.7222\n",
            "      8        \u001b[36m1.9026\u001b[0m       0.0000        2.3061  2.7338\n",
            "      9        \u001b[36m1.8071\u001b[0m       0.0000        2.3071  2.7689\n",
            "     10        1.8375       0.0000        2.3068  2.8262\n"
          ]
        },
        {
          "output_type": "stream",
          "name": "stderr",
          "text": [
            "/usr/local/lib/python3.7/dist-packages/sklearn/model_selection/_split.py:680: UserWarning: The least populated class in y has only 1 members, which is less than n_splits=5.\n",
            "  UserWarning,\n"
          ]
        },
        {
          "output_type": "stream",
          "name": "stdout",
          "text": [
            "  epoch    train_loss    valid_acc    valid_loss     dur\n",
            "-------  ------------  -----------  ------------  ------\n",
            "      1        \u001b[36m2.3540\u001b[0m       \u001b[32m0.1429\u001b[0m        \u001b[35m2.3014\u001b[0m  2.6956\n",
            "      2        \u001b[36m2.1406\u001b[0m       0.1429        2.3031  2.7134\n",
            "      3        \u001b[36m2.0940\u001b[0m       0.1429        2.3048  2.7900\n",
            "      4        \u001b[36m2.0386\u001b[0m       0.1429        2.3071  2.7900\n",
            "      5        \u001b[36m1.9684\u001b[0m       0.1429        2.3088  2.7582\n",
            "      6        \u001b[36m1.8858\u001b[0m       0.1429        2.3113  2.6835\n",
            "      7        \u001b[36m1.8313\u001b[0m       0.1429        2.3143  2.6889\n",
            "      8        1.8447       0.1429        2.3162  2.7728\n",
            "      9        \u001b[36m1.8148\u001b[0m       0.1429        2.3193  2.7503\n",
            "     10        \u001b[36m1.7142\u001b[0m       0.1429        2.3228  2.8363\n"
          ]
        },
        {
          "output_type": "stream",
          "name": "stderr",
          "text": [
            "/usr/local/lib/python3.7/dist-packages/sklearn/model_selection/_split.py:680: UserWarning: The least populated class in y has only 2 members, which is less than n_splits=5.\n",
            "  UserWarning,\n"
          ]
        },
        {
          "output_type": "stream",
          "name": "stdout",
          "text": [
            "  epoch    train_loss    valid_acc    valid_loss     dur\n",
            "-------  ------------  -----------  ------------  ------\n",
            "      1        \u001b[36m2.3791\u001b[0m       \u001b[32m0.1429\u001b[0m        \u001b[35m2.3006\u001b[0m  2.4444\n",
            "      2        \u001b[36m2.2355\u001b[0m       0.1429        2.3014  2.4964\n",
            "      3        \u001b[36m2.1885\u001b[0m       0.0000        2.3030  2.5205\n",
            "      4        \u001b[36m2.0967\u001b[0m       0.0000        2.3041  2.4986\n",
            "      5        \u001b[36m2.0602\u001b[0m       0.0000        2.3054  2.4767\n",
            "      6        \u001b[36m1.9956\u001b[0m       0.0000        2.3060  2.4409\n",
            "      7        2.0165       0.0000        2.3073  2.4965\n",
            "      8        \u001b[36m1.9356\u001b[0m       0.1429        2.3081  2.4876\n",
            "      9        1.9616       0.0000        2.3093  2.4767\n",
            "     10        \u001b[36m1.8280\u001b[0m       0.0000        2.3102  2.5093\n",
            "     11        \u001b[36m1.7635\u001b[0m       0.0000        2.3116  2.4708\n",
            "     12        1.7845       0.0000        2.3130  2.5191\n",
            "     13        \u001b[36m1.6570\u001b[0m       0.0000        2.3138  2.5455\n",
            "     14        \u001b[36m1.6361\u001b[0m       0.0000        2.3147  2.4598\n",
            "     15        \u001b[36m1.6290\u001b[0m       0.0000        2.3145  2.4939\n"
          ]
        },
        {
          "output_type": "stream",
          "name": "stderr",
          "text": [
            "/usr/local/lib/python3.7/dist-packages/sklearn/model_selection/_split.py:680: UserWarning: The least populated class in y has only 1 members, which is less than n_splits=5.\n",
            "  UserWarning,\n"
          ]
        },
        {
          "output_type": "stream",
          "name": "stdout",
          "text": [
            "  epoch    train_loss    valid_acc    valid_loss     dur\n",
            "-------  ------------  -----------  ------------  ------\n",
            "      1        \u001b[36m2.3057\u001b[0m       \u001b[32m0.1429\u001b[0m        \u001b[35m2.3035\u001b[0m  2.3891\n",
            "      2        \u001b[36m2.1810\u001b[0m       0.1429        2.3049  2.4961\n",
            "      3        \u001b[36m2.1123\u001b[0m       0.1429        2.3065  2.5233\n",
            "      4        \u001b[36m2.0699\u001b[0m       0.0000        2.3081  2.5444\n",
            "      5        \u001b[36m2.0203\u001b[0m       0.0000        2.3098  2.5291\n",
            "      6        \u001b[36m1.9444\u001b[0m       0.0000        2.3117  2.5536\n",
            "      7        \u001b[36m1.9362\u001b[0m       0.0000        2.3139  2.5106\n",
            "      8        \u001b[36m1.8468\u001b[0m       0.0000        2.3158  2.5115\n",
            "      9        \u001b[36m1.7773\u001b[0m       0.0000        2.3176  4.3747\n",
            "     10        1.7836       0.0000        2.3205  3.8792\n",
            "     11        \u001b[36m1.7214\u001b[0m       0.0000        2.3247  2.5172\n",
            "     12        1.7526       0.0000        2.3289  2.4760\n",
            "     13        \u001b[36m1.6689\u001b[0m       0.0000        2.3315  2.4613\n",
            "     14        \u001b[36m1.6304\u001b[0m       0.0000        2.3357  2.4640\n",
            "     15        \u001b[36m1.5354\u001b[0m       0.0000        2.3401  2.4872\n"
          ]
        },
        {
          "output_type": "stream",
          "name": "stderr",
          "text": [
            "/usr/local/lib/python3.7/dist-packages/sklearn/model_selection/_split.py:680: UserWarning: The least populated class in y has only 2 members, which is less than n_splits=5.\n",
            "  UserWarning,\n"
          ]
        },
        {
          "output_type": "stream",
          "name": "stdout",
          "text": [
            "  epoch    train_loss    valid_acc    valid_loss     dur\n",
            "-------  ------------  -----------  ------------  ------\n",
            "      1        \u001b[36m2.3173\u001b[0m       \u001b[32m0.0000\u001b[0m        \u001b[35m2.2998\u001b[0m  2.2244\n",
            "      2        \u001b[36m2.2889\u001b[0m       \u001b[32m0.1429\u001b[0m        2.3010  2.2841\n",
            "      3        \u001b[36m2.2267\u001b[0m       0.1429        2.3016  2.2523\n",
            "      4        \u001b[36m2.1490\u001b[0m       0.1429        2.3027  2.3308\n",
            "      5        \u001b[36m2.0326\u001b[0m       0.1429        2.3042  2.3638\n",
            "      6        \u001b[36m1.9876\u001b[0m       0.1429        2.3058  2.2955\n",
            "      7        2.0273       0.1429        2.3073  2.3081\n",
            "      8        \u001b[36m1.9837\u001b[0m       0.1429        2.3083  2.3347\n",
            "      9        \u001b[36m1.9201\u001b[0m       0.1429        2.3096  2.2729\n",
            "     10        1.9435       0.1429        2.3107  2.2896\n",
            "     11        \u001b[36m1.8740\u001b[0m       0.1429        2.3124  2.2796\n",
            "     12        \u001b[36m1.7774\u001b[0m       0.1429        2.3126  2.2423\n",
            "     13        1.8145       0.1429        2.3142  2.2960\n",
            "     14        \u001b[36m1.6995\u001b[0m       0.1429        2.3149  2.3176\n",
            "     15        \u001b[36m1.6950\u001b[0m       0.1429        2.3164  2.3031\n"
          ]
        },
        {
          "output_type": "stream",
          "name": "stderr",
          "text": [
            "/usr/local/lib/python3.7/dist-packages/sklearn/model_selection/_split.py:680: UserWarning: The least populated class in y has only 1 members, which is less than n_splits=5.\n",
            "  UserWarning,\n"
          ]
        },
        {
          "output_type": "stream",
          "name": "stdout",
          "text": [
            "  epoch    train_loss    valid_acc    valid_loss     dur\n",
            "-------  ------------  -----------  ------------  ------\n",
            "      1        \u001b[36m2.2826\u001b[0m       \u001b[32m0.0000\u001b[0m        \u001b[35m2.3052\u001b[0m  2.2477\n",
            "      2        \u001b[36m2.2416\u001b[0m       0.0000        2.3065  2.3457\n",
            "      3        \u001b[36m2.1715\u001b[0m       0.0000        2.3085  2.2723\n",
            "      4        \u001b[36m2.1205\u001b[0m       0.0000        2.3104  2.3014\n",
            "      5        \u001b[36m2.0945\u001b[0m       0.0000        2.3127  2.3164\n",
            "      6        \u001b[36m2.0286\u001b[0m       0.0000        2.3147  2.2958\n",
            "      7        \u001b[36m2.0121\u001b[0m       0.0000        2.3174  2.3388\n",
            "      8        \u001b[36m1.9335\u001b[0m       0.0000        2.3193  2.3350\n",
            "      9        \u001b[36m1.8266\u001b[0m       0.0000        2.3234  2.3088\n",
            "     10        1.8397       0.0000        2.3265  2.2914\n",
            "     11        \u001b[36m1.8035\u001b[0m       0.0000        2.3303  2.3467\n",
            "     12        1.8305       0.0000        2.3335  2.3158\n",
            "     13        \u001b[36m1.7598\u001b[0m       0.0000        2.3389  2.3079\n",
            "     14        1.8071       0.0000        2.3432  2.2778\n",
            "     15        \u001b[36m1.6848\u001b[0m       0.0000        2.3495  2.3994\n"
          ]
        },
        {
          "output_type": "stream",
          "name": "stderr",
          "text": [
            "/usr/local/lib/python3.7/dist-packages/sklearn/model_selection/_split.py:680: UserWarning: The least populated class in y has only 2 members, which is less than n_splits=5.\n",
            "  UserWarning,\n"
          ]
        },
        {
          "output_type": "stream",
          "name": "stdout",
          "text": [
            "  epoch    train_loss    valid_acc    valid_loss     dur\n",
            "-------  ------------  -----------  ------------  ------\n",
            "      1        \u001b[36m2.2738\u001b[0m       \u001b[32m0.0000\u001b[0m        \u001b[35m2.3025\u001b[0m  2.6650\n",
            "      2        \u001b[36m2.2159\u001b[0m       0.0000        2.3026  2.8842\n",
            "      3        \u001b[36m2.1031\u001b[0m       0.0000        2.3032  5.0146\n",
            "      4        \u001b[36m2.0800\u001b[0m       0.0000        2.3041  3.3911\n",
            "      5        \u001b[36m2.0593\u001b[0m       0.0000        2.3044  2.6814\n",
            "      6        \u001b[36m1.9085\u001b[0m       0.0000        2.3046  2.7357\n",
            "      7        1.9322       0.0000        2.3054  2.7486\n",
            "      8        \u001b[36m1.9052\u001b[0m       0.0000        2.3056  2.7153\n",
            "      9        \u001b[36m1.8208\u001b[0m       0.0000        2.3053  2.7140\n",
            "     10        \u001b[36m1.7445\u001b[0m       0.0000        2.3057  2.8149\n",
            "     11        \u001b[36m1.6919\u001b[0m       0.0000        2.3055  2.7987\n",
            "     12        \u001b[36m1.6781\u001b[0m       0.0000        2.3063  2.7353\n",
            "     13        \u001b[36m1.6747\u001b[0m       0.0000        2.3064  2.7509\n",
            "     14        \u001b[36m1.6327\u001b[0m       0.0000        2.3065  2.7682\n",
            "     15        \u001b[36m1.5315\u001b[0m       0.0000        2.3059  2.7482\n"
          ]
        },
        {
          "output_type": "stream",
          "name": "stderr",
          "text": [
            "/usr/local/lib/python3.7/dist-packages/sklearn/model_selection/_split.py:680: UserWarning: The least populated class in y has only 1 members, which is less than n_splits=5.\n",
            "  UserWarning,\n"
          ]
        },
        {
          "output_type": "stream",
          "name": "stdout",
          "text": [
            "  epoch    train_loss    valid_acc    valid_loss     dur\n",
            "-------  ------------  -----------  ------------  ------\n",
            "      1        \u001b[36m2.3176\u001b[0m       \u001b[32m0.1429\u001b[0m        \u001b[35m2.3040\u001b[0m  2.6324\n",
            "      2        \u001b[36m2.1159\u001b[0m       0.1429        2.3062  2.8061\n",
            "      3        2.2181       0.0000        2.3078  2.7678\n",
            "      4        \u001b[36m2.0266\u001b[0m       0.0000        2.3105  2.7119\n",
            "      5        2.0383       0.0000        2.3124  2.7519\n",
            "      6        \u001b[36m1.9478\u001b[0m       0.0000        2.3142  2.7624\n",
            "      7        \u001b[36m1.9293\u001b[0m       0.0000        2.3167  2.6726\n",
            "      8        \u001b[36m1.8674\u001b[0m       0.0000        2.3190  2.7120\n",
            "      9        \u001b[36m1.8493\u001b[0m       0.0000        2.3228  2.7790\n",
            "     10        \u001b[36m1.8129\u001b[0m       0.0000        2.3261  2.7502\n",
            "     11        \u001b[36m1.7454\u001b[0m       0.1429        2.3303  2.7987\n",
            "     12        \u001b[36m1.6955\u001b[0m       0.1429        2.3341  2.7605\n",
            "     13        \u001b[36m1.6919\u001b[0m       0.1429        2.3372  2.7517\n",
            "     14        \u001b[36m1.6540\u001b[0m       0.1429        2.3423  2.7898\n",
            "     15        \u001b[36m1.5694\u001b[0m       0.1429        2.3493  2.7595\n",
            "Fitting 2 folds for each of 27 candidates, totalling 54 fits\n"
          ]
        },
        {
          "output_type": "stream",
          "name": "stderr",
          "text": [
            "/usr/local/lib/python3.7/dist-packages/sklearn/model_selection/_split.py:680: UserWarning: The least populated class in y has only 1 members, which is less than n_splits=5.\n",
            "  UserWarning,\n"
          ]
        },
        {
          "output_type": "stream",
          "name": "stdout",
          "text": [
            "  epoch    train_loss    valid_acc    valid_loss     dur\n",
            "-------  ------------  -----------  ------------  ------\n",
            "      1        \u001b[36m2.3463\u001b[0m       \u001b[32m0.1429\u001b[0m        \u001b[35m2.3000\u001b[0m  2.5338\n",
            "      2        \u001b[36m2.2991\u001b[0m       0.1429        \u001b[35m2.2991\u001b[0m  2.5249\n",
            "      3        \u001b[36m2.2823\u001b[0m       0.1429        \u001b[35m2.2986\u001b[0m  2.5358\n",
            "      4        2.3126       0.1429        \u001b[35m2.2983\u001b[0m  2.5437\n",
            "      5        \u001b[36m2.1687\u001b[0m       0.1429        \u001b[35m2.2981\u001b[0m  2.4920\n"
          ]
        },
        {
          "output_type": "stream",
          "name": "stderr",
          "text": [
            "/usr/local/lib/python3.7/dist-packages/sklearn/model_selection/_split.py:680: UserWarning: The least populated class in y has only 1 members, which is less than n_splits=5.\n",
            "  UserWarning,\n"
          ]
        },
        {
          "output_type": "stream",
          "name": "stdout",
          "text": [
            "  epoch    train_loss    valid_acc    valid_loss     dur\n",
            "-------  ------------  -----------  ------------  ------\n",
            "      1        \u001b[36m2.3976\u001b[0m       \u001b[32m0.1429\u001b[0m        \u001b[35m2.3029\u001b[0m  2.4096\n",
            "      2        \u001b[36m2.2577\u001b[0m       0.1429        2.3031  2.4661\n",
            "      3        2.2759       0.1429        2.3029  2.5171\n",
            "      4        \u001b[36m2.2383\u001b[0m       0.1429        2.3030  2.5081\n",
            "      5        \u001b[36m2.2118\u001b[0m       0.1429        2.3031  2.4606\n"
          ]
        },
        {
          "output_type": "stream",
          "name": "stderr",
          "text": [
            "/usr/local/lib/python3.7/dist-packages/sklearn/model_selection/_split.py:680: UserWarning: The least populated class in y has only 1 members, which is less than n_splits=5.\n",
            "  UserWarning,\n"
          ]
        },
        {
          "output_type": "stream",
          "name": "stdout",
          "text": [
            "  epoch    train_loss    valid_acc    valid_loss     dur\n",
            "-------  ------------  -----------  ------------  ------\n",
            "      1        \u001b[36m2.3935\u001b[0m       \u001b[32m0.1429\u001b[0m        \u001b[35m2.3012\u001b[0m  2.2478\n",
            "      2        \u001b[36m2.2838\u001b[0m       0.1429        \u001b[35m2.3010\u001b[0m  2.3955\n",
            "      3        \u001b[36m2.1657\u001b[0m       0.1429        \u001b[35m2.3009\u001b[0m  2.3443\n",
            "      4        2.3078       0.1429        \u001b[35m2.3005\u001b[0m  2.2991\n",
            "      5        2.1839       0.1429        \u001b[35m2.3000\u001b[0m  2.2921\n"
          ]
        },
        {
          "output_type": "stream",
          "name": "stderr",
          "text": [
            "/usr/local/lib/python3.7/dist-packages/sklearn/model_selection/_split.py:680: UserWarning: The least populated class in y has only 1 members, which is less than n_splits=5.\n",
            "  UserWarning,\n"
          ]
        },
        {
          "output_type": "stream",
          "name": "stdout",
          "text": [
            "  epoch    train_loss    valid_acc    valid_loss     dur\n",
            "-------  ------------  -----------  ------------  ------\n",
            "      1        \u001b[36m2.3461\u001b[0m       \u001b[32m0.0000\u001b[0m        \u001b[35m2.3085\u001b[0m  2.2829\n",
            "      2        \u001b[36m2.3386\u001b[0m       0.0000        \u001b[35m2.3082\u001b[0m  2.3530\n",
            "      3        \u001b[36m2.3110\u001b[0m       0.0000        2.3083  2.3910\n",
            "      4        \u001b[36m2.3055\u001b[0m       0.0000        \u001b[35m2.3080\u001b[0m  2.3469\n",
            "      5        \u001b[36m2.2351\u001b[0m       0.0000        \u001b[35m2.3077\u001b[0m  2.3598\n"
          ]
        },
        {
          "output_type": "stream",
          "name": "stderr",
          "text": [
            "/usr/local/lib/python3.7/dist-packages/sklearn/model_selection/_split.py:680: UserWarning: The least populated class in y has only 1 members, which is less than n_splits=5.\n",
            "  UserWarning,\n"
          ]
        },
        {
          "output_type": "stream",
          "name": "stdout",
          "text": [
            "  epoch    train_loss    valid_acc    valid_loss     dur\n",
            "-------  ------------  -----------  ------------  ------\n",
            "      1        \u001b[36m2.3403\u001b[0m       \u001b[32m0.1429\u001b[0m        \u001b[35m2.3037\u001b[0m  2.7370\n",
            "      2        \u001b[36m2.2044\u001b[0m       0.1429        \u001b[35m2.3031\u001b[0m  2.7814\n",
            "      3        \u001b[36m2.1939\u001b[0m       0.1429        \u001b[35m2.3028\u001b[0m  2.7982\n",
            "      4        2.2557       0.1429        \u001b[35m2.3022\u001b[0m  2.7694\n",
            "      5        \u001b[36m2.1786\u001b[0m       0.1429        \u001b[35m2.3016\u001b[0m  2.7806\n"
          ]
        },
        {
          "output_type": "stream",
          "name": "stderr",
          "text": [
            "/usr/local/lib/python3.7/dist-packages/sklearn/model_selection/_split.py:680: UserWarning: The least populated class in y has only 1 members, which is less than n_splits=5.\n",
            "  UserWarning,\n"
          ]
        },
        {
          "output_type": "stream",
          "name": "stdout",
          "text": [
            "  epoch    train_loss    valid_acc    valid_loss     dur\n",
            "-------  ------------  -----------  ------------  ------\n",
            "      1        \u001b[36m2.3445\u001b[0m       \u001b[32m0.1429\u001b[0m        \u001b[35m2.3031\u001b[0m  2.6955\n",
            "      2        \u001b[36m2.2600\u001b[0m       0.1429        \u001b[35m2.3023\u001b[0m  2.7686\n",
            "      3        2.2803       0.1429        \u001b[35m2.3015\u001b[0m  2.7413\n",
            "      4        \u001b[36m2.1879\u001b[0m       0.1429        \u001b[35m2.3006\u001b[0m  2.7720\n",
            "      5        \u001b[36m2.1833\u001b[0m       0.1429        \u001b[35m2.2996\u001b[0m  2.7144\n"
          ]
        },
        {
          "output_type": "stream",
          "name": "stderr",
          "text": [
            "/usr/local/lib/python3.7/dist-packages/sklearn/model_selection/_split.py:680: UserWarning: The least populated class in y has only 1 members, which is less than n_splits=5.\n",
            "  UserWarning,\n"
          ]
        },
        {
          "output_type": "stream",
          "name": "stdout",
          "text": [
            "  epoch    train_loss    valid_acc    valid_loss     dur\n",
            "-------  ------------  -----------  ------------  ------\n",
            "      1        \u001b[36m2.3483\u001b[0m       \u001b[32m0.0000\u001b[0m        \u001b[35m2.3061\u001b[0m  2.4906\n",
            "      2        \u001b[36m2.2996\u001b[0m       0.0000        \u001b[35m2.3050\u001b[0m  2.5990\n",
            "      3        \u001b[36m2.2548\u001b[0m       \u001b[32m0.1429\u001b[0m        \u001b[35m2.3039\u001b[0m  2.5914\n",
            "      4        \u001b[36m2.2334\u001b[0m       0.1429        \u001b[35m2.3029\u001b[0m  2.5639\n",
            "      5        \u001b[36m2.1957\u001b[0m       0.1429        \u001b[35m2.3020\u001b[0m  2.5444\n",
            "      6        \u001b[36m2.1818\u001b[0m       0.1429        \u001b[35m2.3010\u001b[0m  2.6134\n",
            "      7        2.2317       0.1429        \u001b[35m2.3001\u001b[0m  2.5476\n",
            "      8        2.2070       0.1429        \u001b[35m2.2990\u001b[0m  2.4974\n",
            "      9        2.2275       0.1429        \u001b[35m2.2980\u001b[0m  2.4881\n",
            "     10        \u001b[36m2.1425\u001b[0m       0.1429        \u001b[35m2.2968\u001b[0m  2.5597\n"
          ]
        },
        {
          "output_type": "stream",
          "name": "stderr",
          "text": [
            "/usr/local/lib/python3.7/dist-packages/sklearn/model_selection/_split.py:680: UserWarning: The least populated class in y has only 1 members, which is less than n_splits=5.\n",
            "  UserWarning,\n"
          ]
        },
        {
          "output_type": "stream",
          "name": "stdout",
          "text": [
            "  epoch    train_loss    valid_acc    valid_loss     dur\n",
            "-------  ------------  -----------  ------------  ------\n",
            "      1        \u001b[36m2.3741\u001b[0m       \u001b[32m0.1429\u001b[0m        \u001b[35m2.3042\u001b[0m  2.5786\n",
            "      2        \u001b[36m2.3305\u001b[0m       0.1429        \u001b[35m2.3039\u001b[0m  2.5499\n",
            "      3        \u001b[36m2.2961\u001b[0m       0.1429        2.3040  2.4679\n",
            "      4        \u001b[36m2.2877\u001b[0m       0.1429        \u001b[35m2.3037\u001b[0m  2.5629\n",
            "      5        \u001b[36m2.2562\u001b[0m       0.1429        \u001b[35m2.3036\u001b[0m  2.6419\n",
            "      6        \u001b[36m2.2064\u001b[0m       0.1429        2.3036  4.3762\n",
            "      7        \u001b[36m2.1404\u001b[0m       0.1429        2.3037  3.9001\n",
            "      8        2.1476       0.1429        2.3038  2.5452\n",
            "      9        2.1549       0.1429        2.3037  2.4825\n",
            "     10        2.1456       0.1429        2.3037  2.5576\n"
          ]
        },
        {
          "output_type": "stream",
          "name": "stderr",
          "text": [
            "/usr/local/lib/python3.7/dist-packages/sklearn/model_selection/_split.py:680: UserWarning: The least populated class in y has only 1 members, which is less than n_splits=5.\n",
            "  UserWarning,\n"
          ]
        },
        {
          "output_type": "stream",
          "name": "stdout",
          "text": [
            "  epoch    train_loss    valid_acc    valid_loss     dur\n",
            "-------  ------------  -----------  ------------  ------\n",
            "      1        \u001b[36m2.3624\u001b[0m       \u001b[32m0.2857\u001b[0m        \u001b[35m2.3034\u001b[0m  2.2204\n",
            "      2        \u001b[36m2.2794\u001b[0m       0.2857        2.3035  2.2975\n",
            "      3        2.3680       0.1429        \u001b[35m2.3034\u001b[0m  2.3002\n",
            "      4        2.2846       0.1429        \u001b[35m2.3032\u001b[0m  2.2715\n",
            "      5        \u001b[36m2.2644\u001b[0m       0.1429        \u001b[35m2.3031\u001b[0m  2.2753\n",
            "      6        \u001b[36m2.2376\u001b[0m       0.1429        \u001b[35m2.3030\u001b[0m  2.3740\n",
            "      7        \u001b[36m2.1998\u001b[0m       0.1429        \u001b[35m2.3030\u001b[0m  2.2561\n",
            "      8        2.2479       0.1429        \u001b[35m2.3028\u001b[0m  2.2390\n",
            "      9        2.2423       0.1429        \u001b[35m2.3025\u001b[0m  2.2323\n",
            "     10        \u001b[36m2.1638\u001b[0m       0.1429        \u001b[35m2.3022\u001b[0m  2.2611\n"
          ]
        },
        {
          "output_type": "stream",
          "name": "stderr",
          "text": [
            "/usr/local/lib/python3.7/dist-packages/sklearn/model_selection/_split.py:680: UserWarning: The least populated class in y has only 1 members, which is less than n_splits=5.\n",
            "  UserWarning,\n"
          ]
        },
        {
          "output_type": "stream",
          "name": "stdout",
          "text": [
            "  epoch    train_loss    valid_acc    valid_loss     dur\n",
            "-------  ------------  -----------  ------------  ------\n",
            "      1        \u001b[36m2.3672\u001b[0m       \u001b[32m0.0000\u001b[0m        \u001b[35m2.3040\u001b[0m  2.2801\n",
            "      2        \u001b[36m2.3124\u001b[0m       0.0000        2.3040  2.2604\n",
            "      3        2.3407       0.0000        2.3041  2.2344\n",
            "      4        \u001b[36m2.2731\u001b[0m       0.0000        2.3044  2.2483\n",
            "      5        2.2736       \u001b[32m0.1429\u001b[0m        2.3045  2.2962\n",
            "      6        2.3423       0.1429        2.3046  2.2586\n",
            "      7        \u001b[36m2.2530\u001b[0m       0.1429        2.3046  2.2831\n",
            "      8        \u001b[36m2.2303\u001b[0m       0.1429        2.3044  2.2983\n",
            "      9        2.2369       0.1429        2.3040  2.4281\n",
            "     10        \u001b[36m2.2014\u001b[0m       0.1429        \u001b[35m2.3038\u001b[0m  2.2595\n"
          ]
        },
        {
          "output_type": "stream",
          "name": "stderr",
          "text": [
            "/usr/local/lib/python3.7/dist-packages/sklearn/model_selection/_split.py:680: UserWarning: The least populated class in y has only 1 members, which is less than n_splits=5.\n",
            "  UserWarning,\n"
          ]
        },
        {
          "output_type": "stream",
          "name": "stdout",
          "text": [
            "  epoch    train_loss    valid_acc    valid_loss     dur\n",
            "-------  ------------  -----------  ------------  ------\n",
            "      1        \u001b[36m2.2846\u001b[0m       \u001b[32m0.1429\u001b[0m        \u001b[35m2.3037\u001b[0m  2.5649\n",
            "      2        \u001b[36m2.2312\u001b[0m       0.1429        \u001b[35m2.3036\u001b[0m  2.7357\n",
            "      3        2.3089       0.1429        \u001b[35m2.3031\u001b[0m  2.6905\n",
            "      4        \u001b[36m2.2111\u001b[0m       0.1429        \u001b[35m2.3024\u001b[0m  2.7369\n",
            "      5        \u001b[36m2.2095\u001b[0m       0.1429        \u001b[35m2.3018\u001b[0m  2.7472\n",
            "      6        \u001b[36m2.1931\u001b[0m       0.1429        \u001b[35m2.3012\u001b[0m  2.7020\n",
            "      7        \u001b[36m2.1879\u001b[0m       0.1429        \u001b[35m2.3006\u001b[0m  2.6949\n",
            "      8        \u001b[36m2.1415\u001b[0m       0.1429        \u001b[35m2.3001\u001b[0m  2.7308\n",
            "      9        \u001b[36m2.1185\u001b[0m       0.1429        \u001b[35m2.2993\u001b[0m  2.8067\n",
            "     10        2.1477       0.0000        \u001b[35m2.2985\u001b[0m  2.8806\n"
          ]
        },
        {
          "output_type": "stream",
          "name": "stderr",
          "text": [
            "/usr/local/lib/python3.7/dist-packages/sklearn/model_selection/_split.py:680: UserWarning: The least populated class in y has only 1 members, which is less than n_splits=5.\n",
            "  UserWarning,\n"
          ]
        },
        {
          "output_type": "stream",
          "name": "stdout",
          "text": [
            "  epoch    train_loss    valid_acc    valid_loss     dur\n",
            "-------  ------------  -----------  ------------  ------\n",
            "      1        \u001b[36m2.3684\u001b[0m       \u001b[32m0.1429\u001b[0m        \u001b[35m2.3015\u001b[0m  4.3904\n",
            "      2        \u001b[36m2.2990\u001b[0m       0.1429        \u001b[35m2.3011\u001b[0m  2.7220\n",
            "      3        2.3303       0.1429        \u001b[35m2.3009\u001b[0m  2.6942\n",
            "      4        \u001b[36m2.2326\u001b[0m       0.1429        \u001b[35m2.3006\u001b[0m  2.7040\n",
            "      5        \u001b[36m2.2032\u001b[0m       0.1429        \u001b[35m2.3004\u001b[0m  2.6914\n",
            "      6        2.2279       \u001b[32m0.2857\u001b[0m        \u001b[35m2.3003\u001b[0m  2.7189\n",
            "      7        \u001b[36m2.1536\u001b[0m       0.1429        \u001b[35m2.3002\u001b[0m  2.7107\n",
            "      8        \u001b[36m2.1498\u001b[0m       0.1429        \u001b[35m2.3001\u001b[0m  2.7197\n",
            "      9        \u001b[36m2.0777\u001b[0m       0.1429        \u001b[35m2.2999\u001b[0m  2.8054\n",
            "     10        2.2045       0.1429        \u001b[35m2.2999\u001b[0m  2.6904\n"
          ]
        },
        {
          "output_type": "stream",
          "name": "stderr",
          "text": [
            "/usr/local/lib/python3.7/dist-packages/sklearn/model_selection/_split.py:680: UserWarning: The least populated class in y has only 1 members, which is less than n_splits=5.\n",
            "  UserWarning,\n"
          ]
        },
        {
          "output_type": "stream",
          "name": "stdout",
          "text": [
            "  epoch    train_loss    valid_acc    valid_loss     dur\n",
            "-------  ------------  -----------  ------------  ------\n",
            "      1        \u001b[36m2.3713\u001b[0m       \u001b[32m0.0000\u001b[0m        \u001b[35m2.3056\u001b[0m  2.3857\n",
            "      2        \u001b[36m2.3086\u001b[0m       0.0000        2.3058  2.4718\n",
            "      3        \u001b[36m2.2706\u001b[0m       0.0000        \u001b[35m2.3055\u001b[0m  2.4057\n",
            "      4        \u001b[36m2.2569\u001b[0m       0.0000        \u001b[35m2.3051\u001b[0m  2.5587\n",
            "      5        \u001b[36m2.2323\u001b[0m       0.0000        \u001b[35m2.3049\u001b[0m  2.5112\n",
            "      6        \u001b[36m2.1754\u001b[0m       0.0000        \u001b[35m2.3048\u001b[0m  2.4754\n",
            "      7        2.2184       0.0000        \u001b[35m2.3044\u001b[0m  2.4139\n",
            "      8        \u001b[36m2.1667\u001b[0m       0.0000        \u001b[35m2.3039\u001b[0m  2.4656\n",
            "      9        \u001b[36m2.1297\u001b[0m       \u001b[32m0.1429\u001b[0m        \u001b[35m2.3034\u001b[0m  2.4720\n",
            "     10        \u001b[36m2.1240\u001b[0m       0.1429        \u001b[35m2.3028\u001b[0m  2.4248\n",
            "     11        \u001b[36m2.0547\u001b[0m       0.1429        \u001b[35m2.3020\u001b[0m  2.5279\n",
            "     12        2.1159       0.1429        \u001b[35m2.3010\u001b[0m  2.4348\n",
            "     13        2.0602       0.1429        \u001b[35m2.3000\u001b[0m  2.4638\n",
            "     14        2.1410       0.1429        \u001b[35m2.2983\u001b[0m  2.4831\n",
            "     15        \u001b[36m2.0463\u001b[0m       \u001b[32m0.2857\u001b[0m        \u001b[35m2.2969\u001b[0m  2.4244\n"
          ]
        },
        {
          "output_type": "stream",
          "name": "stderr",
          "text": [
            "/usr/local/lib/python3.7/dist-packages/sklearn/model_selection/_split.py:680: UserWarning: The least populated class in y has only 1 members, which is less than n_splits=5.\n",
            "  UserWarning,\n"
          ]
        },
        {
          "output_type": "stream",
          "name": "stdout",
          "text": [
            "  epoch    train_loss    valid_acc    valid_loss     dur\n",
            "-------  ------------  -----------  ------------  ------\n",
            "      1        \u001b[36m2.3538\u001b[0m       \u001b[32m0.1429\u001b[0m        \u001b[35m2.3002\u001b[0m  2.4026\n",
            "      2        2.3557       0.1429        2.3003  2.5232\n",
            "      3        \u001b[36m2.2802\u001b[0m       0.1429        2.3004  2.4776\n",
            "      4        \u001b[36m2.2377\u001b[0m       0.1429        2.3009  2.5140\n",
            "      5        \u001b[36m2.2033\u001b[0m       0.1429        2.3013  2.4289\n",
            "      6        2.2213       0.1429        2.3017  2.4451\n",
            "      7        2.2198       0.1429        2.3022  2.5149\n",
            "      8        \u001b[36m2.1923\u001b[0m       0.1429        2.3027  2.5621\n",
            "      9        2.2068       0.1429        2.3032  2.4187\n",
            "     10        \u001b[36m2.1908\u001b[0m       0.1429        2.3038  2.4125\n",
            "     11        \u001b[36m2.1881\u001b[0m       0.1429        2.3042  2.4099\n",
            "     12        \u001b[36m2.1216\u001b[0m       0.1429        2.3048  2.4214\n",
            "     13        \u001b[36m2.1050\u001b[0m       0.1429        2.3051  2.4355\n",
            "     14        \u001b[36m2.0564\u001b[0m       0.1429        2.3049  2.4366\n",
            "     15        \u001b[36m2.0511\u001b[0m       0.1429        2.3049  2.5112\n"
          ]
        },
        {
          "output_type": "stream",
          "name": "stderr",
          "text": [
            "/usr/local/lib/python3.7/dist-packages/sklearn/model_selection/_split.py:680: UserWarning: The least populated class in y has only 1 members, which is less than n_splits=5.\n",
            "  UserWarning,\n"
          ]
        },
        {
          "output_type": "stream",
          "name": "stdout",
          "text": [
            "  epoch    train_loss    valid_acc    valid_loss     dur\n",
            "-------  ------------  -----------  ------------  ------\n",
            "      1        \u001b[36m2.3170\u001b[0m       \u001b[32m0.1429\u001b[0m        \u001b[35m2.2998\u001b[0m  2.2609\n",
            "      2        2.3509       0.1429        2.3004  2.2999\n",
            "      3        \u001b[36m2.2797\u001b[0m       0.1429        2.3003  2.2681\n",
            "      4        \u001b[36m2.2228\u001b[0m       0.1429        2.3002  2.2416\n",
            "      5        2.2947       0.1429        2.3002  2.3663\n",
            "      6        2.2843       0.1429        2.3001  2.2655\n",
            "      7        2.2291       0.1429        2.2999  2.2533\n",
            "      8        \u001b[36m2.2085\u001b[0m       0.1429        \u001b[35m2.2997\u001b[0m  2.2825\n",
            "      9        \u001b[36m2.1645\u001b[0m       0.1429        \u001b[35m2.2996\u001b[0m  2.2562\n",
            "     10        2.2434       \u001b[32m0.2857\u001b[0m        \u001b[35m2.2995\u001b[0m  2.2488\n",
            "     11        2.1654       0.1429        2.2996  2.2737\n",
            "     12        \u001b[36m2.0656\u001b[0m       0.1429        2.2995  2.2430\n",
            "     13        2.1139       0.1429        \u001b[35m2.2990\u001b[0m  2.2165\n",
            "     14        2.0825       0.1429        \u001b[35m2.2986\u001b[0m  2.2060\n",
            "     15        \u001b[36m2.0645\u001b[0m       0.1429        \u001b[35m2.2975\u001b[0m  2.2323\n"
          ]
        },
        {
          "output_type": "stream",
          "name": "stderr",
          "text": [
            "/usr/local/lib/python3.7/dist-packages/sklearn/model_selection/_split.py:680: UserWarning: The least populated class in y has only 1 members, which is less than n_splits=5.\n",
            "  UserWarning,\n"
          ]
        },
        {
          "output_type": "stream",
          "name": "stdout",
          "text": [
            "  epoch    train_loss    valid_acc    valid_loss     dur\n",
            "-------  ------------  -----------  ------------  ------\n",
            "      1        \u001b[36m2.3109\u001b[0m       \u001b[32m0.0000\u001b[0m        \u001b[35m2.3085\u001b[0m  2.2199\n",
            "      2        2.4006       0.0000        \u001b[35m2.3080\u001b[0m  2.2647\n",
            "      3        2.3635       0.0000        \u001b[35m2.3076\u001b[0m  2.3875\n",
            "      4        \u001b[36m2.2235\u001b[0m       0.0000        \u001b[35m2.3073\u001b[0m  2.3016\n",
            "      5        2.2802       0.0000        \u001b[35m2.3070\u001b[0m  2.2912\n",
            "      6        2.2689       0.0000        \u001b[35m2.3068\u001b[0m  2.2998\n",
            "      7        2.2379       0.0000        \u001b[35m2.3064\u001b[0m  2.2844\n",
            "      8        \u001b[36m2.1927\u001b[0m       0.0000        \u001b[35m2.3061\u001b[0m  2.3269\n",
            "      9        2.2105       0.0000        \u001b[35m2.3058\u001b[0m  2.3232\n",
            "     10        \u001b[36m2.1386\u001b[0m       \u001b[32m0.1429\u001b[0m        \u001b[35m2.3056\u001b[0m  2.2471\n",
            "     11        2.1489       0.1429        \u001b[35m2.3048\u001b[0m  2.2964\n",
            "     12        2.2475       0.1429        \u001b[35m2.3041\u001b[0m  2.2914\n",
            "     13        \u001b[36m2.1313\u001b[0m       0.1429        \u001b[35m2.3033\u001b[0m  2.3115\n",
            "     14        2.1457       0.1429        \u001b[35m2.3022\u001b[0m  2.2694\n",
            "     15        \u001b[36m2.0908\u001b[0m       0.1429        \u001b[35m2.3009\u001b[0m  2.2751\n"
          ]
        },
        {
          "output_type": "stream",
          "name": "stderr",
          "text": [
            "/usr/local/lib/python3.7/dist-packages/sklearn/model_selection/_split.py:680: UserWarning: The least populated class in y has only 1 members, which is less than n_splits=5.\n",
            "  UserWarning,\n"
          ]
        },
        {
          "output_type": "stream",
          "name": "stdout",
          "text": [
            "  epoch    train_loss    valid_acc    valid_loss     dur\n",
            "-------  ------------  -----------  ------------  ------\n",
            "      1        \u001b[36m2.3300\u001b[0m       \u001b[32m0.1429\u001b[0m        \u001b[35m2.3007\u001b[0m  2.6356\n",
            "      2        \u001b[36m2.3274\u001b[0m       0.1429        2.3012  2.7053\n",
            "      3        \u001b[36m2.2908\u001b[0m       0.1429        2.3014  2.7359\n",
            "      4        \u001b[36m2.2217\u001b[0m       0.1429        2.3012  2.7005\n",
            "      5        \u001b[36m2.1354\u001b[0m       0.1429        2.3010  2.7305\n",
            "      6        2.1449       0.1429        2.3007  2.6924\n",
            "      7        2.1451       0.1429        \u001b[35m2.3002\u001b[0m  2.7327\n",
            "      8        2.2101       0.1429        \u001b[35m2.2998\u001b[0m  2.6826\n",
            "      9        \u001b[36m2.1095\u001b[0m       0.1429        \u001b[35m2.2996\u001b[0m  2.6835\n",
            "     10        2.1343       0.1429        \u001b[35m2.2993\u001b[0m  2.7092\n",
            "     11        \u001b[36m2.0711\u001b[0m       0.1429        \u001b[35m2.2988\u001b[0m  4.1323\n",
            "     12        2.1198       0.1429        \u001b[35m2.2979\u001b[0m  4.4421\n",
            "     13        \u001b[36m2.0131\u001b[0m       0.1429        \u001b[35m2.2969\u001b[0m  2.7125\n",
            "     14        \u001b[36m1.9969\u001b[0m       0.1429        \u001b[35m2.2956\u001b[0m  2.6555\n",
            "     15        2.0323       0.1429        \u001b[35m2.2942\u001b[0m  2.6877\n"
          ]
        },
        {
          "output_type": "stream",
          "name": "stderr",
          "text": [
            "/usr/local/lib/python3.7/dist-packages/sklearn/model_selection/_split.py:680: UserWarning: The least populated class in y has only 1 members, which is less than n_splits=5.\n",
            "  UserWarning,\n"
          ]
        },
        {
          "output_type": "stream",
          "name": "stdout",
          "text": [
            "  epoch    train_loss    valid_acc    valid_loss     dur\n",
            "-------  ------------  -----------  ------------  ------\n",
            "      1        \u001b[36m2.2977\u001b[0m       \u001b[32m0.0000\u001b[0m        \u001b[35m2.3010\u001b[0m  2.6140\n",
            "      2        \u001b[36m2.2580\u001b[0m       0.0000        \u001b[35m2.3010\u001b[0m  2.7138\n",
            "      3        2.2641       0.0000        \u001b[35m2.3008\u001b[0m  2.7217\n",
            "      4        \u001b[36m2.1735\u001b[0m       0.0000        \u001b[35m2.3004\u001b[0m  2.7698\n",
            "      5        2.1797       0.0000        \u001b[35m2.2997\u001b[0m  2.7591\n",
            "      6        2.1919       \u001b[32m0.1429\u001b[0m        \u001b[35m2.2991\u001b[0m  2.7509\n",
            "      7        \u001b[36m2.1347\u001b[0m       0.1429        \u001b[35m2.2985\u001b[0m  2.6980\n",
            "      8        \u001b[36m2.1237\u001b[0m       0.1429        \u001b[35m2.2980\u001b[0m  2.6476\n",
            "      9        \u001b[36m2.1164\u001b[0m       0.1429        \u001b[35m2.2976\u001b[0m  2.6843\n",
            "     10        \u001b[36m2.1093\u001b[0m       0.1429        \u001b[35m2.2971\u001b[0m  2.6809\n",
            "     11        \u001b[36m2.0370\u001b[0m       0.1429        \u001b[35m2.2965\u001b[0m  2.6673\n",
            "     12        2.0443       0.1429        \u001b[35m2.2959\u001b[0m  2.6962\n",
            "     13        \u001b[36m2.0288\u001b[0m       0.1429        \u001b[35m2.2954\u001b[0m  2.6759\n",
            "     14        \u001b[36m1.9715\u001b[0m       0.1429        \u001b[35m2.2950\u001b[0m  2.6840\n",
            "     15        2.0098       0.1429        \u001b[35m2.2944\u001b[0m  2.6541\n"
          ]
        },
        {
          "output_type": "stream",
          "name": "stderr",
          "text": [
            "/usr/local/lib/python3.7/dist-packages/sklearn/model_selection/_split.py:680: UserWarning: The least populated class in y has only 1 members, which is less than n_splits=5.\n",
            "  UserWarning,\n"
          ]
        },
        {
          "output_type": "stream",
          "name": "stdout",
          "text": [
            "  epoch    train_loss    valid_acc    valid_loss     dur\n",
            "-------  ------------  -----------  ------------  ------\n",
            "      1        \u001b[36m2.3475\u001b[0m       \u001b[32m0.0000\u001b[0m        \u001b[35m2.3030\u001b[0m  2.4207\n",
            "      2        \u001b[36m2.1341\u001b[0m       \u001b[32m0.1429\u001b[0m        \u001b[35m2.3020\u001b[0m  2.5033\n",
            "      3        \u001b[36m2.0812\u001b[0m       0.1429        \u001b[35m2.3014\u001b[0m  2.4540\n",
            "      4        \u001b[36m1.9941\u001b[0m       0.1429        \u001b[35m2.3010\u001b[0m  2.4276\n",
            "      5        \u001b[36m1.8579\u001b[0m       0.1429        \u001b[35m2.3000\u001b[0m  2.4968\n"
          ]
        },
        {
          "output_type": "stream",
          "name": "stderr",
          "text": [
            "/usr/local/lib/python3.7/dist-packages/sklearn/model_selection/_split.py:680: UserWarning: The least populated class in y has only 1 members, which is less than n_splits=5.\n",
            "  UserWarning,\n"
          ]
        },
        {
          "output_type": "stream",
          "name": "stdout",
          "text": [
            "  epoch    train_loss    valid_acc    valid_loss     dur\n",
            "-------  ------------  -----------  ------------  ------\n",
            "      1        \u001b[36m2.3243\u001b[0m       \u001b[32m0.1429\u001b[0m        \u001b[35m2.3030\u001b[0m  2.3806\n",
            "      2        \u001b[36m2.1720\u001b[0m       0.1429        2.3031  2.4530\n",
            "      3        \u001b[36m2.0953\u001b[0m       0.0000        2.3032  2.4528\n",
            "      4        \u001b[36m1.9787\u001b[0m       0.0000        2.3038  2.4383\n",
            "      5        \u001b[36m1.9047\u001b[0m       0.1429        2.3042  2.4770\n"
          ]
        },
        {
          "output_type": "stream",
          "name": "stderr",
          "text": [
            "/usr/local/lib/python3.7/dist-packages/sklearn/model_selection/_split.py:680: UserWarning: The least populated class in y has only 1 members, which is less than n_splits=5.\n",
            "  UserWarning,\n"
          ]
        },
        {
          "output_type": "stream",
          "name": "stdout",
          "text": [
            "  epoch    train_loss    valid_acc    valid_loss     dur\n",
            "-------  ------------  -----------  ------------  ------\n",
            "      1        \u001b[36m2.3636\u001b[0m       \u001b[32m0.1429\u001b[0m        \u001b[35m2.2987\u001b[0m  2.2887\n",
            "      2        \u001b[36m2.1902\u001b[0m       0.1429        \u001b[35m2.2976\u001b[0m  2.3125\n",
            "      3        \u001b[36m2.0792\u001b[0m       0.1429        \u001b[35m2.2969\u001b[0m  3.7870\n",
            "      4        \u001b[36m1.9939\u001b[0m       0.1429        \u001b[35m2.2953\u001b[0m  4.3493\n",
            "      5        \u001b[36m1.9296\u001b[0m       0.1429        \u001b[35m2.2945\u001b[0m  2.2631\n"
          ]
        },
        {
          "output_type": "stream",
          "name": "stderr",
          "text": [
            "/usr/local/lib/python3.7/dist-packages/sklearn/model_selection/_split.py:680: UserWarning: The least populated class in y has only 1 members, which is less than n_splits=5.\n",
            "  UserWarning,\n"
          ]
        },
        {
          "output_type": "stream",
          "name": "stdout",
          "text": [
            "  epoch    train_loss    valid_acc    valid_loss     dur\n",
            "-------  ------------  -----------  ------------  ------\n",
            "      1        \u001b[36m2.3273\u001b[0m       \u001b[32m0.1429\u001b[0m        \u001b[35m2.3004\u001b[0m  2.2945\n",
            "      2        \u001b[36m2.1898\u001b[0m       0.1429        \u001b[35m2.3000\u001b[0m  2.2950\n",
            "      3        \u001b[36m2.1256\u001b[0m       0.1429        \u001b[35m2.2993\u001b[0m  2.3163\n",
            "      4        \u001b[36m2.0500\u001b[0m       0.1429        \u001b[35m2.2990\u001b[0m  2.2805\n",
            "      5        \u001b[36m1.9531\u001b[0m       0.1429        2.2993  2.3015\n"
          ]
        },
        {
          "output_type": "stream",
          "name": "stderr",
          "text": [
            "/usr/local/lib/python3.7/dist-packages/sklearn/model_selection/_split.py:680: UserWarning: The least populated class in y has only 1 members, which is less than n_splits=5.\n",
            "  UserWarning,\n"
          ]
        },
        {
          "output_type": "stream",
          "name": "stdout",
          "text": [
            "  epoch    train_loss    valid_acc    valid_loss     dur\n",
            "-------  ------------  -----------  ------------  ------\n",
            "      1        \u001b[36m2.3782\u001b[0m       \u001b[32m0.1429\u001b[0m        \u001b[35m2.2993\u001b[0m  2.6023\n",
            "      2        \u001b[36m2.1606\u001b[0m       0.1429        \u001b[35m2.2985\u001b[0m  2.6822\n",
            "      3        \u001b[36m1.9866\u001b[0m       0.1429        \u001b[35m2.2980\u001b[0m  2.6844\n",
            "      4        \u001b[36m1.9223\u001b[0m       0.1429        \u001b[35m2.2980\u001b[0m  2.7492\n",
            "      5        \u001b[36m1.8272\u001b[0m       0.1429        \u001b[35m2.2971\u001b[0m  2.6748\n"
          ]
        },
        {
          "output_type": "stream",
          "name": "stderr",
          "text": [
            "/usr/local/lib/python3.7/dist-packages/sklearn/model_selection/_split.py:680: UserWarning: The least populated class in y has only 1 members, which is less than n_splits=5.\n",
            "  UserWarning,\n"
          ]
        },
        {
          "output_type": "stream",
          "name": "stdout",
          "text": [
            "  epoch    train_loss    valid_acc    valid_loss     dur\n",
            "-------  ------------  -----------  ------------  ------\n",
            "      1        \u001b[36m2.3360\u001b[0m       \u001b[32m0.1429\u001b[0m        \u001b[35m2.3040\u001b[0m  2.5777\n",
            "      2        \u001b[36m2.1668\u001b[0m       0.1429        2.3042  2.6828\n",
            "      3        \u001b[36m2.0038\u001b[0m       0.1429        2.3048  2.6939\n",
            "      4        \u001b[36m1.8929\u001b[0m       0.1429        2.3049  2.7089\n",
            "      5        \u001b[36m1.8871\u001b[0m       0.1429        2.3045  2.7166\n"
          ]
        },
        {
          "output_type": "stream",
          "name": "stderr",
          "text": [
            "/usr/local/lib/python3.7/dist-packages/sklearn/model_selection/_split.py:680: UserWarning: The least populated class in y has only 1 members, which is less than n_splits=5.\n",
            "  UserWarning,\n"
          ]
        },
        {
          "output_type": "stream",
          "name": "stdout",
          "text": [
            "  epoch    train_loss    valid_acc    valid_loss     dur\n",
            "-------  ------------  -----------  ------------  ------\n",
            "      1        \u001b[36m2.3652\u001b[0m       \u001b[32m0.1429\u001b[0m        \u001b[35m2.3017\u001b[0m  2.4132\n",
            "      2        \u001b[36m2.1383\u001b[0m       0.1429        \u001b[35m2.3000\u001b[0m  2.4496\n",
            "      3        \u001b[36m2.0552\u001b[0m       0.1429        \u001b[35m2.2997\u001b[0m  2.4858\n",
            "      4        \u001b[36m1.9797\u001b[0m       0.1429        \u001b[35m2.2991\u001b[0m  2.4648\n",
            "      5        \u001b[36m1.9290\u001b[0m       0.1429        \u001b[35m2.2981\u001b[0m  2.5609\n",
            "      6        \u001b[36m1.8223\u001b[0m       0.1429        \u001b[35m2.2976\u001b[0m  2.4367\n",
            "      7        \u001b[36m1.6947\u001b[0m       0.1429        \u001b[35m2.2970\u001b[0m  2.4321\n",
            "      8        1.7095       0.0000        \u001b[35m2.2967\u001b[0m  2.4487\n",
            "      9        \u001b[36m1.5924\u001b[0m       0.1429        \u001b[35m2.2956\u001b[0m  2.4621\n",
            "     10        \u001b[36m1.5470\u001b[0m       0.0000        \u001b[35m2.2954\u001b[0m  2.4282\n"
          ]
        },
        {
          "output_type": "stream",
          "name": "stderr",
          "text": [
            "/usr/local/lib/python3.7/dist-packages/sklearn/model_selection/_split.py:680: UserWarning: The least populated class in y has only 1 members, which is less than n_splits=5.\n",
            "  UserWarning,\n"
          ]
        },
        {
          "output_type": "stream",
          "name": "stdout",
          "text": [
            "  epoch    train_loss    valid_acc    valid_loss     dur\n",
            "-------  ------------  -----------  ------------  ------\n",
            "      1        \u001b[36m2.3078\u001b[0m       \u001b[32m0.1429\u001b[0m        \u001b[35m2.3047\u001b[0m  2.3774\n",
            "      2        \u001b[36m2.1595\u001b[0m       0.1429        \u001b[35m2.3041\u001b[0m  2.4424\n",
            "      3        \u001b[36m2.0183\u001b[0m       0.1429        \u001b[35m2.3035\u001b[0m  2.4492\n",
            "      4        \u001b[36m1.9108\u001b[0m       0.0000        \u001b[35m2.3030\u001b[0m  2.4232\n",
            "      5        \u001b[36m1.8690\u001b[0m       0.1429        \u001b[35m2.3029\u001b[0m  2.4289\n",
            "      6        \u001b[36m1.7846\u001b[0m       0.1429        \u001b[35m2.3021\u001b[0m  2.5020\n",
            "      7        \u001b[36m1.7364\u001b[0m       0.1429        \u001b[35m2.3021\u001b[0m  2.4880\n",
            "      8        \u001b[36m1.6424\u001b[0m       0.1429        \u001b[35m2.3012\u001b[0m  2.4921\n",
            "      9        \u001b[36m1.5442\u001b[0m       0.1429        \u001b[35m2.3007\u001b[0m  2.4752\n",
            "     10        \u001b[36m1.5282\u001b[0m       0.1429        2.3010  2.4890\n"
          ]
        },
        {
          "output_type": "stream",
          "name": "stderr",
          "text": [
            "/usr/local/lib/python3.7/dist-packages/sklearn/model_selection/_split.py:680: UserWarning: The least populated class in y has only 1 members, which is less than n_splits=5.\n",
            "  UserWarning,\n"
          ]
        },
        {
          "output_type": "stream",
          "name": "stdout",
          "text": [
            "  epoch    train_loss    valid_acc    valid_loss     dur\n",
            "-------  ------------  -----------  ------------  ------\n",
            "      1        \u001b[36m2.3002\u001b[0m       \u001b[32m0.1429\u001b[0m        \u001b[35m2.3014\u001b[0m  2.2616\n",
            "      2        \u001b[36m2.2291\u001b[0m       0.1429        \u001b[35m2.3000\u001b[0m  2.2754\n",
            "      3        \u001b[36m2.1100\u001b[0m       0.1429        \u001b[35m2.2993\u001b[0m  2.2651\n",
            "      4        \u001b[36m2.0201\u001b[0m       0.1429        2.2996  2.3014\n",
            "      5        \u001b[36m1.9724\u001b[0m       0.1429        2.2996  2.3530\n",
            "      6        \u001b[36m1.9234\u001b[0m       0.1429        2.2996  2.2427\n",
            "      7        \u001b[36m1.8586\u001b[0m       0.1429        2.3010  2.2185\n",
            "      8        \u001b[36m1.7844\u001b[0m       0.1429        2.3009  2.2605\n",
            "      9        \u001b[36m1.6535\u001b[0m       0.1429        2.3014  2.3477\n",
            "     10        \u001b[36m1.5592\u001b[0m       0.1429        2.3041  2.3297\n"
          ]
        },
        {
          "output_type": "stream",
          "name": "stderr",
          "text": [
            "/usr/local/lib/python3.7/dist-packages/sklearn/model_selection/_split.py:680: UserWarning: The least populated class in y has only 1 members, which is less than n_splits=5.\n",
            "  UserWarning,\n"
          ]
        },
        {
          "output_type": "stream",
          "name": "stdout",
          "text": [
            "  epoch    train_loss    valid_acc    valid_loss     dur\n",
            "-------  ------------  -----------  ------------  ------\n",
            "      1        \u001b[36m2.3352\u001b[0m       \u001b[32m0.1429\u001b[0m        \u001b[35m2.2987\u001b[0m  2.2631\n",
            "      2        \u001b[36m2.2298\u001b[0m       0.1429        2.2988  2.3144\n",
            "      3        \u001b[36m2.1396\u001b[0m       0.1429        2.2988  2.2508\n",
            "      4        \u001b[36m2.0579\u001b[0m       0.1429        \u001b[35m2.2985\u001b[0m  2.2143\n",
            "      5        \u001b[36m1.9693\u001b[0m       0.1429        2.2985  2.2606\n",
            "      6        \u001b[36m1.8500\u001b[0m       0.1429        \u001b[35m2.2982\u001b[0m  2.2812\n",
            "      7        \u001b[36m1.7725\u001b[0m       0.1429        \u001b[35m2.2975\u001b[0m  2.2471\n",
            "      8        1.7923       0.1429        2.2986  2.2958\n",
            "      9        \u001b[36m1.6662\u001b[0m       0.1429        2.2978  2.2572\n",
            "     10        \u001b[36m1.5445\u001b[0m       0.1429        2.2981  2.2664\n"
          ]
        },
        {
          "output_type": "stream",
          "name": "stderr",
          "text": [
            "/usr/local/lib/python3.7/dist-packages/sklearn/model_selection/_split.py:680: UserWarning: The least populated class in y has only 1 members, which is less than n_splits=5.\n",
            "  UserWarning,\n"
          ]
        },
        {
          "output_type": "stream",
          "name": "stdout",
          "text": [
            "  epoch    train_loss    valid_acc    valid_loss     dur\n",
            "-------  ------------  -----------  ------------  ------\n",
            "      1        \u001b[36m2.3288\u001b[0m       \u001b[32m0.2857\u001b[0m        \u001b[35m2.2981\u001b[0m  2.7491\n",
            "      2        \u001b[36m2.0737\u001b[0m       0.1429        \u001b[35m2.2972\u001b[0m  2.7842\n",
            "      3        \u001b[36m2.0587\u001b[0m       0.2857        \u001b[35m2.2958\u001b[0m  2.7695\n",
            "      4        \u001b[36m1.9329\u001b[0m       0.1429        \u001b[35m2.2956\u001b[0m  2.7833\n",
            "      5        \u001b[36m1.8369\u001b[0m       0.1429        \u001b[35m2.2946\u001b[0m  2.7357\n",
            "      6        \u001b[36m1.7726\u001b[0m       0.1429        2.2961  2.6913\n",
            "      7        \u001b[36m1.6959\u001b[0m       0.0000        \u001b[35m2.2941\u001b[0m  2.6961\n",
            "      8        \u001b[36m1.5840\u001b[0m       0.0000        \u001b[35m2.2936\u001b[0m  2.6919\n",
            "      9        \u001b[36m1.5415\u001b[0m       0.0000        \u001b[35m2.2930\u001b[0m  2.7224\n",
            "     10        \u001b[36m1.4612\u001b[0m       0.0000        2.2948  2.7065\n"
          ]
        },
        {
          "output_type": "stream",
          "name": "stderr",
          "text": [
            "/usr/local/lib/python3.7/dist-packages/sklearn/model_selection/_split.py:680: UserWarning: The least populated class in y has only 1 members, which is less than n_splits=5.\n",
            "  UserWarning,\n"
          ]
        },
        {
          "output_type": "stream",
          "name": "stdout",
          "text": [
            "  epoch    train_loss    valid_acc    valid_loss     dur\n",
            "-------  ------------  -----------  ------------  ------\n",
            "      1        \u001b[36m2.3627\u001b[0m       \u001b[32m0.1429\u001b[0m        \u001b[35m2.2983\u001b[0m  2.5767\n",
            "      2        \u001b[36m2.0940\u001b[0m       0.1429        \u001b[35m2.2980\u001b[0m  2.8411\n",
            "      3        \u001b[36m2.0654\u001b[0m       0.1429        2.2982  2.6825\n",
            "      4        \u001b[36m1.9437\u001b[0m       \u001b[32m0.2857\u001b[0m        \u001b[35m2.2975\u001b[0m  2.7103\n",
            "      5        \u001b[36m1.7565\u001b[0m       0.1429        \u001b[35m2.2974\u001b[0m  2.6438\n",
            "      6        1.7653       0.1429        \u001b[35m2.2971\u001b[0m  2.7735\n",
            "      7        \u001b[36m1.6948\u001b[0m       0.1429        \u001b[35m2.2963\u001b[0m  2.6989\n",
            "      8        \u001b[36m1.5950\u001b[0m       0.1429        \u001b[35m2.2955\u001b[0m  2.7217\n",
            "      9        \u001b[36m1.5489\u001b[0m       0.1429        2.2961  4.2816\n",
            "     10        \u001b[36m1.4815\u001b[0m       0.1429        \u001b[35m2.2949\u001b[0m  4.3941\n"
          ]
        },
        {
          "output_type": "stream",
          "name": "stderr",
          "text": [
            "/usr/local/lib/python3.7/dist-packages/sklearn/model_selection/_split.py:680: UserWarning: The least populated class in y has only 1 members, which is less than n_splits=5.\n",
            "  UserWarning,\n"
          ]
        },
        {
          "output_type": "stream",
          "name": "stdout",
          "text": [
            "  epoch    train_loss    valid_acc    valid_loss     dur\n",
            "-------  ------------  -----------  ------------  ------\n",
            "      1        \u001b[36m2.3348\u001b[0m       \u001b[32m0.1429\u001b[0m        \u001b[35m2.3013\u001b[0m  2.4843\n",
            "      2        \u001b[36m2.1317\u001b[0m       0.1429        \u001b[35m2.3002\u001b[0m  2.4169\n",
            "      3        \u001b[36m2.0540\u001b[0m       0.1429        \u001b[35m2.2995\u001b[0m  2.4423\n",
            "      4        \u001b[36m1.9322\u001b[0m       0.1429        \u001b[35m2.2988\u001b[0m  2.4765\n",
            "      5        \u001b[36m1.8812\u001b[0m       0.1429        \u001b[35m2.2984\u001b[0m  2.4948\n",
            "      6        \u001b[36m1.7957\u001b[0m       0.1429        2.2984  2.4461\n",
            "      7        \u001b[36m1.7800\u001b[0m       0.1429        2.2989  2.4169\n",
            "      8        \u001b[36m1.7020\u001b[0m       0.1429        2.2993  2.4386\n",
            "      9        \u001b[36m1.5282\u001b[0m       0.1429        2.2986  2.4297\n",
            "     10        1.5424       0.1429        2.2985  2.4081\n",
            "     11        \u001b[36m1.4746\u001b[0m       0.1429        2.2989  2.4623\n",
            "     12        \u001b[36m1.3569\u001b[0m       0.1429        2.3017  2.4879\n",
            "     13        \u001b[36m1.2879\u001b[0m       0.1429        2.3029  2.5112\n",
            "     14        \u001b[36m1.2512\u001b[0m       0.1429        2.3041  2.5423\n",
            "     15        \u001b[36m1.1438\u001b[0m       0.1429        2.3071  2.4812\n"
          ]
        },
        {
          "output_type": "stream",
          "name": "stderr",
          "text": [
            "/usr/local/lib/python3.7/dist-packages/sklearn/model_selection/_split.py:680: UserWarning: The least populated class in y has only 1 members, which is less than n_splits=5.\n",
            "  UserWarning,\n"
          ]
        },
        {
          "output_type": "stream",
          "name": "stdout",
          "text": [
            "  epoch    train_loss    valid_acc    valid_loss     dur\n",
            "-------  ------------  -----------  ------------  ------\n",
            "      1        \u001b[36m2.3715\u001b[0m       \u001b[32m0.1429\u001b[0m        \u001b[35m2.3014\u001b[0m  2.3976\n",
            "      2        \u001b[36m2.1059\u001b[0m       0.1429        \u001b[35m2.3009\u001b[0m  2.4985\n",
            "      3        \u001b[36m2.0015\u001b[0m       0.1429        \u001b[35m2.3004\u001b[0m  2.4847\n",
            "      4        \u001b[36m1.9176\u001b[0m       0.1429        \u001b[35m2.3004\u001b[0m  2.4667\n",
            "      5        \u001b[36m1.8487\u001b[0m       0.1429        \u001b[35m2.3003\u001b[0m  2.4566\n",
            "      6        \u001b[36m1.8443\u001b[0m       \u001b[32m0.2857\u001b[0m        \u001b[35m2.3001\u001b[0m  2.4809\n",
            "      7        \u001b[36m1.7555\u001b[0m       0.1429        2.3007  2.4162\n",
            "      8        \u001b[36m1.6597\u001b[0m       0.1429        2.3002  2.3939\n",
            "      9        \u001b[36m1.6059\u001b[0m       0.1429        2.3008  2.4117\n",
            "     10        \u001b[36m1.4881\u001b[0m       0.1429        \u001b[35m2.2995\u001b[0m  2.4267\n",
            "     11        \u001b[36m1.4126\u001b[0m       0.1429        2.3025  2.5035\n",
            "     12        \u001b[36m1.2807\u001b[0m       0.1429        2.3004  2.4425\n",
            "     13        \u001b[36m1.1859\u001b[0m       0.1429        2.3009  2.4624\n",
            "     14        \u001b[36m1.1576\u001b[0m       0.1429        \u001b[35m2.2983\u001b[0m  2.4792\n",
            "     15        \u001b[36m1.0767\u001b[0m       0.1429        2.3014  2.4855\n"
          ]
        },
        {
          "output_type": "stream",
          "name": "stderr",
          "text": [
            "/usr/local/lib/python3.7/dist-packages/sklearn/model_selection/_split.py:680: UserWarning: The least populated class in y has only 1 members, which is less than n_splits=5.\n",
            "  UserWarning,\n"
          ]
        },
        {
          "output_type": "stream",
          "name": "stdout",
          "text": [
            "  epoch    train_loss    valid_acc    valid_loss     dur\n",
            "-------  ------------  -----------  ------------  ------\n",
            "      1        \u001b[36m2.2735\u001b[0m       \u001b[32m0.0000\u001b[0m        \u001b[35m2.3027\u001b[0m  2.2261\n",
            "      2        \u001b[36m2.1874\u001b[0m       0.0000        \u001b[35m2.3017\u001b[0m  2.2609\n",
            "      3        \u001b[36m2.0816\u001b[0m       0.0000        \u001b[35m2.3011\u001b[0m  2.2966\n",
            "      4        \u001b[36m1.9600\u001b[0m       \u001b[32m0.1429\u001b[0m        \u001b[35m2.3000\u001b[0m  2.3408\n",
            "      5        \u001b[36m1.9362\u001b[0m       0.0000        \u001b[35m2.2988\u001b[0m  2.2454\n",
            "      6        \u001b[36m1.8731\u001b[0m       0.1429        \u001b[35m2.2980\u001b[0m  2.2745\n",
            "      7        \u001b[36m1.7874\u001b[0m       0.1429        \u001b[35m2.2967\u001b[0m  2.2883\n",
            "      8        \u001b[36m1.7148\u001b[0m       0.1429        \u001b[35m2.2961\u001b[0m  4.3199\n",
            "      9        \u001b[36m1.6411\u001b[0m       0.1429        \u001b[35m2.2955\u001b[0m  3.6081\n",
            "     10        \u001b[36m1.5873\u001b[0m       0.1429        \u001b[35m2.2946\u001b[0m  2.2991\n",
            "     11        \u001b[36m1.4986\u001b[0m       0.1429        \u001b[35m2.2940\u001b[0m  2.3171\n",
            "     12        \u001b[36m1.4335\u001b[0m       0.1429        2.2949  2.3350\n",
            "     13        \u001b[36m1.4250\u001b[0m       0.1429        \u001b[35m2.2921\u001b[0m  2.4011\n",
            "     14        \u001b[36m1.3108\u001b[0m       0.1429        \u001b[35m2.2915\u001b[0m  2.3722\n",
            "     15        \u001b[36m1.1997\u001b[0m       0.1429        2.2944  2.3423\n"
          ]
        },
        {
          "output_type": "stream",
          "name": "stderr",
          "text": [
            "/usr/local/lib/python3.7/dist-packages/sklearn/model_selection/_split.py:680: UserWarning: The least populated class in y has only 1 members, which is less than n_splits=5.\n",
            "  UserWarning,\n"
          ]
        },
        {
          "output_type": "stream",
          "name": "stdout",
          "text": [
            "  epoch    train_loss    valid_acc    valid_loss     dur\n",
            "-------  ------------  -----------  ------------  ------\n",
            "      1        \u001b[36m2.2987\u001b[0m       \u001b[32m0.1429\u001b[0m        \u001b[35m2.3006\u001b[0m  2.2721\n",
            "      2        \u001b[36m2.1705\u001b[0m       0.1429        2.3007  2.2716\n",
            "      3        \u001b[36m2.1165\u001b[0m       0.1429        \u001b[35m2.3001\u001b[0m  2.2994\n",
            "      4        \u001b[36m2.0267\u001b[0m       0.1429        \u001b[35m2.2995\u001b[0m  2.3321\n",
            "      5        \u001b[36m1.8580\u001b[0m       0.1429        \u001b[35m2.2985\u001b[0m  2.3163\n",
            "      6        \u001b[36m1.8229\u001b[0m       0.0000        \u001b[35m2.2977\u001b[0m  2.3173\n",
            "      7        \u001b[36m1.8119\u001b[0m       0.0000        \u001b[35m2.2955\u001b[0m  2.3228\n",
            "      8        \u001b[36m1.7119\u001b[0m       0.1429        \u001b[35m2.2942\u001b[0m  2.3702\n",
            "      9        \u001b[36m1.6426\u001b[0m       0.1429        \u001b[35m2.2926\u001b[0m  2.3014\n",
            "     10        \u001b[36m1.6000\u001b[0m       0.1429        \u001b[35m2.2914\u001b[0m  2.2714\n",
            "     11        \u001b[36m1.5623\u001b[0m       0.1429        \u001b[35m2.2881\u001b[0m  2.2870\n",
            "     12        \u001b[36m1.3853\u001b[0m       0.1429        \u001b[35m2.2878\u001b[0m  2.3471\n",
            "     13        \u001b[36m1.3522\u001b[0m       0.1429        \u001b[35m2.2862\u001b[0m  2.2761\n",
            "     14        1.3765       0.1429        2.2864  2.3115\n",
            "     15        \u001b[36m1.1367\u001b[0m       0.1429        \u001b[35m2.2829\u001b[0m  2.2534\n"
          ]
        },
        {
          "output_type": "stream",
          "name": "stderr",
          "text": [
            "/usr/local/lib/python3.7/dist-packages/sklearn/model_selection/_split.py:680: UserWarning: The least populated class in y has only 1 members, which is less than n_splits=5.\n",
            "  UserWarning,\n"
          ]
        },
        {
          "output_type": "stream",
          "name": "stdout",
          "text": [
            "  epoch    train_loss    valid_acc    valid_loss     dur\n",
            "-------  ------------  -----------  ------------  ------\n",
            "      1        \u001b[36m2.4094\u001b[0m       \u001b[32m0.1429\u001b[0m        \u001b[35m2.2993\u001b[0m  2.6193\n",
            "      2        \u001b[36m2.1283\u001b[0m       0.1429        \u001b[35m2.2988\u001b[0m  2.7726\n",
            "      3        \u001b[36m2.0463\u001b[0m       0.1429        \u001b[35m2.2978\u001b[0m  2.6565\n",
            "      4        \u001b[36m1.9163\u001b[0m       0.1429        \u001b[35m2.2974\u001b[0m  2.6588\n",
            "      5        \u001b[36m1.8120\u001b[0m       0.1429        \u001b[35m2.2973\u001b[0m  2.6819\n",
            "      6        \u001b[36m1.7673\u001b[0m       \u001b[32m0.2857\u001b[0m        \u001b[35m2.2970\u001b[0m  2.7065\n",
            "      7        \u001b[36m1.6560\u001b[0m       0.2857        \u001b[35m2.2967\u001b[0m  2.6527\n",
            "      8        \u001b[36m1.6319\u001b[0m       0.1429        2.2980  2.6882\n",
            "      9        \u001b[36m1.5498\u001b[0m       0.0000        2.2986  2.6759\n",
            "     10        \u001b[36m1.3987\u001b[0m       0.0000        2.2980  2.6866\n",
            "     11        \u001b[36m1.3593\u001b[0m       0.0000        2.3008  2.6911\n",
            "     12        \u001b[36m1.1985\u001b[0m       0.0000        2.3014  2.7683\n",
            "     13        \u001b[36m1.1783\u001b[0m       0.0000        2.3045  2.7944\n",
            "     14        \u001b[36m1.0608\u001b[0m       0.0000        2.3075  2.7127\n",
            "     15        1.0910       0.0000        2.3065  2.6713\n"
          ]
        },
        {
          "output_type": "stream",
          "name": "stderr",
          "text": [
            "/usr/local/lib/python3.7/dist-packages/sklearn/model_selection/_split.py:680: UserWarning: The least populated class in y has only 1 members, which is less than n_splits=5.\n",
            "  UserWarning,\n"
          ]
        },
        {
          "output_type": "stream",
          "name": "stdout",
          "text": [
            "  epoch    train_loss    valid_acc    valid_loss     dur\n",
            "-------  ------------  -----------  ------------  ------\n",
            "      1        \u001b[36m2.3192\u001b[0m       \u001b[32m0.1429\u001b[0m        \u001b[35m2.3005\u001b[0m  2.6293\n",
            "      2        \u001b[36m2.0752\u001b[0m       0.1429        \u001b[35m2.2999\u001b[0m  2.6893\n",
            "      3        \u001b[36m2.0172\u001b[0m       0.1429        2.2999  2.6873\n",
            "      4        \u001b[36m1.9469\u001b[0m       0.1429        \u001b[35m2.2992\u001b[0m  2.7304\n",
            "      5        \u001b[36m1.9004\u001b[0m       0.1429        2.2998  2.7029\n",
            "      6        \u001b[36m1.7541\u001b[0m       0.1429        \u001b[35m2.2990\u001b[0m  2.7303\n",
            "      7        \u001b[36m1.6724\u001b[0m       0.1429        \u001b[35m2.2986\u001b[0m  2.7311\n",
            "      8        \u001b[36m1.5583\u001b[0m       0.1429        \u001b[35m2.2985\u001b[0m  2.7815\n",
            "      9        \u001b[36m1.5240\u001b[0m       0.1429        \u001b[35m2.2958\u001b[0m  2.7844\n",
            "     10        \u001b[36m1.4826\u001b[0m       0.1429        2.2959  2.7859\n",
            "     11        \u001b[36m1.3969\u001b[0m       0.1429        \u001b[35m2.2938\u001b[0m  2.7744\n",
            "     12        \u001b[36m1.2784\u001b[0m       0.1429        2.2969  2.7556\n",
            "     13        \u001b[36m1.1435\u001b[0m       0.1429        \u001b[35m2.2928\u001b[0m  2.7830\n",
            "     14        \u001b[36m1.0685\u001b[0m       0.1429        \u001b[35m2.2857\u001b[0m  2.7602\n",
            "     15        \u001b[36m1.0597\u001b[0m       0.1429        2.2860  2.6783\n"
          ]
        },
        {
          "output_type": "stream",
          "name": "stderr",
          "text": [
            "/usr/local/lib/python3.7/dist-packages/sklearn/model_selection/_split.py:680: UserWarning: The least populated class in y has only 1 members, which is less than n_splits=5.\n",
            "  UserWarning,\n"
          ]
        },
        {
          "output_type": "stream",
          "name": "stdout",
          "text": [
            "  epoch    train_loss    valid_acc    valid_loss     dur\n",
            "-------  ------------  -----------  ------------  ------\n",
            "      1        \u001b[36m2.2425\u001b[0m       \u001b[32m0.1429\u001b[0m        \u001b[35m2.3037\u001b[0m  2.4399\n",
            "      2        \u001b[36m2.1530\u001b[0m       0.1429        \u001b[35m2.3023\u001b[0m  2.4340\n",
            "      3        \u001b[36m2.0968\u001b[0m       0.1429        \u001b[35m2.3010\u001b[0m  2.4619\n",
            "      4        \u001b[36m2.0777\u001b[0m       0.1429        \u001b[35m2.2996\u001b[0m  2.4536\n",
            "      5        \u001b[36m1.9629\u001b[0m       0.1429        \u001b[35m2.2982\u001b[0m  2.5971\n"
          ]
        },
        {
          "output_type": "stream",
          "name": "stderr",
          "text": [
            "/usr/local/lib/python3.7/dist-packages/sklearn/model_selection/_split.py:680: UserWarning: The least populated class in y has only 1 members, which is less than n_splits=5.\n",
            "  UserWarning,\n"
          ]
        },
        {
          "output_type": "stream",
          "name": "stdout",
          "text": [
            "  epoch    train_loss    valid_acc    valid_loss     dur\n",
            "-------  ------------  -----------  ------------  ------\n",
            "      1        \u001b[36m2.4165\u001b[0m       \u001b[32m0.1429\u001b[0m        \u001b[35m2.3033\u001b[0m  2.4624\n",
            "      2        \u001b[36m2.2434\u001b[0m       0.1429        \u001b[35m2.3031\u001b[0m  2.4632\n",
            "      3        \u001b[36m2.1156\u001b[0m       0.0000        \u001b[35m2.3028\u001b[0m  2.4768\n",
            "      4        \u001b[36m2.0692\u001b[0m       0.0000        \u001b[35m2.3027\u001b[0m  2.4861\n",
            "      5        \u001b[36m1.9429\u001b[0m       0.0000        \u001b[35m2.3022\u001b[0m  2.5368\n"
          ]
        },
        {
          "output_type": "stream",
          "name": "stderr",
          "text": [
            "/usr/local/lib/python3.7/dist-packages/sklearn/model_selection/_split.py:680: UserWarning: The least populated class in y has only 1 members, which is less than n_splits=5.\n",
            "  UserWarning,\n"
          ]
        },
        {
          "output_type": "stream",
          "name": "stdout",
          "text": [
            "  epoch    train_loss    valid_acc    valid_loss     dur\n",
            "-------  ------------  -----------  ------------  ------\n",
            "      1        \u001b[36m2.3321\u001b[0m       \u001b[32m0.1429\u001b[0m        \u001b[35m2.2999\u001b[0m  2.2839\n",
            "      2        \u001b[36m2.2271\u001b[0m       0.1429        \u001b[35m2.2986\u001b[0m  2.2593\n",
            "      3        \u001b[36m2.2016\u001b[0m       0.1429        \u001b[35m2.2972\u001b[0m  2.3127\n",
            "      4        \u001b[36m2.1212\u001b[0m       0.1429        \u001b[35m2.2961\u001b[0m  2.2944\n",
            "      5        \u001b[36m2.1054\u001b[0m       \u001b[32m0.2857\u001b[0m        \u001b[35m2.2948\u001b[0m  2.3141\n"
          ]
        },
        {
          "output_type": "stream",
          "name": "stderr",
          "text": [
            "/usr/local/lib/python3.7/dist-packages/sklearn/model_selection/_split.py:680: UserWarning: The least populated class in y has only 1 members, which is less than n_splits=5.\n",
            "  UserWarning,\n"
          ]
        },
        {
          "output_type": "stream",
          "name": "stdout",
          "text": [
            "  epoch    train_loss    valid_acc    valid_loss     dur\n",
            "-------  ------------  -----------  ------------  ------\n",
            "      1        \u001b[36m2.3382\u001b[0m       \u001b[32m0.1429\u001b[0m        \u001b[35m2.3014\u001b[0m  2.3434\n",
            "      2        \u001b[36m2.2698\u001b[0m       0.1429        \u001b[35m2.3011\u001b[0m  2.3103\n",
            "      3        \u001b[36m2.1174\u001b[0m       0.1429        \u001b[35m2.3007\u001b[0m  2.3359\n",
            "      4        \u001b[36m2.0308\u001b[0m       0.1429        \u001b[35m2.3006\u001b[0m  2.3757\n",
            "      5        2.0396       0.1429        2.3007  2.3994\n"
          ]
        },
        {
          "output_type": "stream",
          "name": "stderr",
          "text": [
            "/usr/local/lib/python3.7/dist-packages/sklearn/model_selection/_split.py:680: UserWarning: The least populated class in y has only 1 members, which is less than n_splits=5.\n",
            "  UserWarning,\n"
          ]
        },
        {
          "output_type": "stream",
          "name": "stdout",
          "text": [
            "  epoch    train_loss    valid_acc    valid_loss     dur\n",
            "-------  ------------  -----------  ------------  ------\n",
            "      1        \u001b[36m2.4005\u001b[0m       \u001b[32m0.0000\u001b[0m        \u001b[35m2.3022\u001b[0m  4.6708\n",
            "      2        \u001b[36m2.1991\u001b[0m       \u001b[32m0.1429\u001b[0m        \u001b[35m2.3005\u001b[0m  4.1023\n",
            "      3        \u001b[36m2.1349\u001b[0m       0.1429        \u001b[35m2.2990\u001b[0m  2.7824\n",
            "      4        \u001b[36m2.0402\u001b[0m       0.1429        \u001b[35m2.2979\u001b[0m  2.8551\n",
            "      5        \u001b[36m1.9685\u001b[0m       0.1429        \u001b[35m2.2970\u001b[0m  2.7819\n"
          ]
        },
        {
          "output_type": "stream",
          "name": "stderr",
          "text": [
            "/usr/local/lib/python3.7/dist-packages/sklearn/model_selection/_split.py:680: UserWarning: The least populated class in y has only 1 members, which is less than n_splits=5.\n",
            "  UserWarning,\n"
          ]
        },
        {
          "output_type": "stream",
          "name": "stdout",
          "text": [
            "  epoch    train_loss    valid_acc    valid_loss     dur\n",
            "-------  ------------  -----------  ------------  ------\n",
            "      1        \u001b[36m2.3664\u001b[0m       \u001b[32m0.0000\u001b[0m        \u001b[35m2.3005\u001b[0m  2.6896\n",
            "      2        \u001b[36m2.2457\u001b[0m       \u001b[32m0.1429\u001b[0m        \u001b[35m2.3004\u001b[0m  2.7788\n",
            "      3        \u001b[36m2.1543\u001b[0m       0.1429        \u001b[35m2.3004\u001b[0m  2.7938\n",
            "      4        \u001b[36m2.0873\u001b[0m       0.1429        \u001b[35m2.2999\u001b[0m  2.7571\n",
            "      5        \u001b[36m1.9939\u001b[0m       0.1429        \u001b[35m2.2991\u001b[0m  2.8093\n"
          ]
        },
        {
          "output_type": "stream",
          "name": "stderr",
          "text": [
            "/usr/local/lib/python3.7/dist-packages/sklearn/model_selection/_split.py:680: UserWarning: The least populated class in y has only 1 members, which is less than n_splits=5.\n",
            "  UserWarning,\n"
          ]
        },
        {
          "output_type": "stream",
          "name": "stdout",
          "text": [
            "  epoch    train_loss    valid_acc    valid_loss     dur\n",
            "-------  ------------  -----------  ------------  ------\n",
            "      1        \u001b[36m2.4241\u001b[0m       \u001b[32m0.1429\u001b[0m        \u001b[35m2.3023\u001b[0m  2.5012\n",
            "      2        \u001b[36m2.1716\u001b[0m       0.1429        \u001b[35m2.3013\u001b[0m  2.5572\n",
            "      3        2.2079       0.1429        \u001b[35m2.3008\u001b[0m  2.5072\n",
            "      4        \u001b[36m2.1077\u001b[0m       0.1429        \u001b[35m2.2999\u001b[0m  2.4713\n",
            "      5        \u001b[36m2.0249\u001b[0m       0.0000        \u001b[35m2.2988\u001b[0m  2.4966\n",
            "      6        \u001b[36m1.9705\u001b[0m       0.1429        \u001b[35m2.2976\u001b[0m  2.6096\n",
            "      7        \u001b[36m1.9582\u001b[0m       0.1429        \u001b[35m2.2975\u001b[0m  2.5593\n",
            "      8        \u001b[36m1.9182\u001b[0m       0.1429        \u001b[35m2.2966\u001b[0m  2.5901\n",
            "      9        \u001b[36m1.8417\u001b[0m       0.1429        \u001b[35m2.2964\u001b[0m  2.5279\n",
            "     10        \u001b[36m1.8093\u001b[0m       0.1429        \u001b[35m2.2958\u001b[0m  2.5237\n"
          ]
        },
        {
          "output_type": "stream",
          "name": "stderr",
          "text": [
            "/usr/local/lib/python3.7/dist-packages/sklearn/model_selection/_split.py:680: UserWarning: The least populated class in y has only 1 members, which is less than n_splits=5.\n",
            "  UserWarning,\n"
          ]
        },
        {
          "output_type": "stream",
          "name": "stdout",
          "text": [
            "  epoch    train_loss    valid_acc    valid_loss     dur\n",
            "-------  ------------  -----------  ------------  ------\n",
            "      1        \u001b[36m2.2984\u001b[0m       \u001b[32m0.1429\u001b[0m        \u001b[35m2.3000\u001b[0m  2.4890\n",
            "      2        \u001b[36m2.1679\u001b[0m       0.1429        \u001b[35m2.2997\u001b[0m  2.5250\n",
            "      3        \u001b[36m2.0470\u001b[0m       \u001b[32m0.2857\u001b[0m        \u001b[35m2.2986\u001b[0m  2.5290\n",
            "      4        \u001b[36m2.0167\u001b[0m       0.1429        \u001b[35m2.2977\u001b[0m  2.5744\n",
            "      5        2.0481       0.1429        \u001b[35m2.2973\u001b[0m  2.5074\n",
            "      6        \u001b[36m2.0152\u001b[0m       0.1429        \u001b[35m2.2966\u001b[0m  2.5412\n",
            "      7        \u001b[36m1.9073\u001b[0m       0.1429        \u001b[35m2.2961\u001b[0m  2.5480\n",
            "      8        \u001b[36m1.8743\u001b[0m       0.1429        \u001b[35m2.2953\u001b[0m  2.5401\n",
            "      9        1.8753       0.1429        \u001b[35m2.2948\u001b[0m  2.5476\n",
            "     10        \u001b[36m1.7564\u001b[0m       0.1429        \u001b[35m2.2946\u001b[0m  2.6105\n"
          ]
        },
        {
          "output_type": "stream",
          "name": "stderr",
          "text": [
            "/usr/local/lib/python3.7/dist-packages/sklearn/model_selection/_split.py:680: UserWarning: The least populated class in y has only 1 members, which is less than n_splits=5.\n",
            "  UserWarning,\n"
          ]
        },
        {
          "output_type": "stream",
          "name": "stdout",
          "text": [
            "  epoch    train_loss    valid_acc    valid_loss     dur\n",
            "-------  ------------  -----------  ------------  ------\n",
            "      1        \u001b[36m2.2728\u001b[0m       \u001b[32m0.1429\u001b[0m        \u001b[35m2.3036\u001b[0m  2.3673\n",
            "      2        \u001b[36m2.2626\u001b[0m       0.1429        2.3038  2.3355\n",
            "      3        \u001b[36m2.1213\u001b[0m       0.1429        \u001b[35m2.3035\u001b[0m  2.4025\n",
            "      4        \u001b[36m2.0861\u001b[0m       0.1429        \u001b[35m2.3029\u001b[0m  2.3576\n",
            "      5        \u001b[36m2.0227\u001b[0m       0.1429        \u001b[35m2.3023\u001b[0m  2.4039\n",
            "      6        2.0280       0.1429        \u001b[35m2.3016\u001b[0m  2.3961\n",
            "      7        \u001b[36m1.9964\u001b[0m       0.1429        \u001b[35m2.3015\u001b[0m  3.6263\n",
            "      8        \u001b[36m1.9931\u001b[0m       0.1429        2.3016  4.4263\n",
            "      9        \u001b[36m1.8374\u001b[0m       0.1429        \u001b[35m2.3011\u001b[0m  2.5908\n",
            "     10        \u001b[36m1.7757\u001b[0m       0.1429        \u001b[35m2.3008\u001b[0m  2.3606\n"
          ]
        },
        {
          "output_type": "stream",
          "name": "stderr",
          "text": [
            "/usr/local/lib/python3.7/dist-packages/sklearn/model_selection/_split.py:680: UserWarning: The least populated class in y has only 1 members, which is less than n_splits=5.\n",
            "  UserWarning,\n"
          ]
        },
        {
          "output_type": "stream",
          "name": "stdout",
          "text": [
            "  epoch    train_loss    valid_acc    valid_loss     dur\n",
            "-------  ------------  -----------  ------------  ------\n",
            "      1        \u001b[36m2.2947\u001b[0m       \u001b[32m0.1429\u001b[0m        \u001b[35m2.3001\u001b[0m  2.3730\n",
            "      2        \u001b[36m2.2377\u001b[0m       0.1429        \u001b[35m2.3000\u001b[0m  2.3537\n",
            "      3        \u001b[36m2.2083\u001b[0m       0.1429        \u001b[35m2.2998\u001b[0m  2.3137\n",
            "      4        \u001b[36m2.0808\u001b[0m       0.1429        \u001b[35m2.2995\u001b[0m  2.3432\n",
            "      5        2.1623       0.1429        \u001b[35m2.2990\u001b[0m  2.3985\n",
            "      6        \u001b[36m2.0263\u001b[0m       0.1429        \u001b[35m2.2989\u001b[0m  2.3715\n",
            "      7        \u001b[36m1.9436\u001b[0m       0.0000        \u001b[35m2.2989\u001b[0m  2.3509\n",
            "      8        1.9521       0.0000        \u001b[35m2.2986\u001b[0m  2.3886\n",
            "      9        \u001b[36m1.8269\u001b[0m       0.0000        2.2990  2.3330\n",
            "     10        1.8720       0.1429        2.2991  2.3788\n"
          ]
        },
        {
          "output_type": "stream",
          "name": "stderr",
          "text": [
            "/usr/local/lib/python3.7/dist-packages/sklearn/model_selection/_split.py:680: UserWarning: The least populated class in y has only 1 members, which is less than n_splits=5.\n",
            "  UserWarning,\n"
          ]
        },
        {
          "output_type": "stream",
          "name": "stdout",
          "text": [
            "  epoch    train_loss    valid_acc    valid_loss     dur\n",
            "-------  ------------  -----------  ------------  ------\n",
            "      1        \u001b[36m2.3554\u001b[0m       \u001b[32m0.1429\u001b[0m        \u001b[35m2.3007\u001b[0m  2.6778\n",
            "      2        \u001b[36m2.1446\u001b[0m       0.1429        \u001b[35m2.3002\u001b[0m  2.7785\n",
            "      3        \u001b[36m2.1415\u001b[0m       0.1429        \u001b[35m2.2995\u001b[0m  2.7872\n",
            "      4        \u001b[36m2.0410\u001b[0m       0.1429        \u001b[35m2.2988\u001b[0m  2.7842\n",
            "      5        \u001b[36m1.9960\u001b[0m       0.1429        \u001b[35m2.2980\u001b[0m  2.8129\n",
            "      6        \u001b[36m1.9303\u001b[0m       0.1429        \u001b[35m2.2972\u001b[0m  2.8587\n",
            "      7        1.9505       0.1429        \u001b[35m2.2966\u001b[0m  2.8298\n",
            "      8        \u001b[36m1.9264\u001b[0m       0.1429        \u001b[35m2.2958\u001b[0m  2.8345\n",
            "      9        \u001b[36m1.8041\u001b[0m       0.1429        2.2961  2.8510\n",
            "     10        1.8043       0.1429        \u001b[35m2.2949\u001b[0m  2.7991\n"
          ]
        },
        {
          "output_type": "stream",
          "name": "stderr",
          "text": [
            "/usr/local/lib/python3.7/dist-packages/sklearn/model_selection/_split.py:680: UserWarning: The least populated class in y has only 1 members, which is less than n_splits=5.\n",
            "  UserWarning,\n"
          ]
        },
        {
          "output_type": "stream",
          "name": "stdout",
          "text": [
            "  epoch    train_loss    valid_acc    valid_loss     dur\n",
            "-------  ------------  -----------  ------------  ------\n",
            "      1        \u001b[36m2.2953\u001b[0m       \u001b[32m0.1429\u001b[0m        \u001b[35m2.3031\u001b[0m  2.6880\n",
            "      2        \u001b[36m2.2149\u001b[0m       0.1429        \u001b[35m2.3024\u001b[0m  2.7575\n",
            "      3        \u001b[36m2.0963\u001b[0m       \u001b[32m0.2857\u001b[0m        \u001b[35m2.3020\u001b[0m  2.7639\n",
            "      4        \u001b[36m1.9986\u001b[0m       0.1429        \u001b[35m2.3016\u001b[0m  2.7707\n",
            "      5        \u001b[36m1.9530\u001b[0m       0.2857        \u001b[35m2.3013\u001b[0m  2.7363\n",
            "      6        1.9548       0.2857        \u001b[35m2.3010\u001b[0m  2.7630\n",
            "      7        \u001b[36m1.8792\u001b[0m       0.2857        \u001b[35m2.3006\u001b[0m  2.7825\n",
            "      8        \u001b[36m1.8742\u001b[0m       0.2857        \u001b[35m2.2999\u001b[0m  2.7920\n",
            "      9        \u001b[36m1.7925\u001b[0m       0.2857        \u001b[35m2.2994\u001b[0m  2.8058\n",
            "     10        \u001b[36m1.7250\u001b[0m       0.1429        \u001b[35m2.2983\u001b[0m  2.7885\n"
          ]
        },
        {
          "output_type": "stream",
          "name": "stderr",
          "text": [
            "/usr/local/lib/python3.7/dist-packages/sklearn/model_selection/_split.py:680: UserWarning: The least populated class in y has only 1 members, which is less than n_splits=5.\n",
            "  UserWarning,\n"
          ]
        },
        {
          "output_type": "stream",
          "name": "stdout",
          "text": [
            "  epoch    train_loss    valid_acc    valid_loss     dur\n",
            "-------  ------------  -----------  ------------  ------\n",
            "      1        \u001b[36m2.3770\u001b[0m       \u001b[32m0.1429\u001b[0m        \u001b[35m2.3034\u001b[0m  2.5658\n",
            "      2        \u001b[36m2.1831\u001b[0m       0.1429        \u001b[35m2.3019\u001b[0m  2.6389\n",
            "      3        \u001b[36m2.0754\u001b[0m       0.1429        \u001b[35m2.3007\u001b[0m  2.5137\n",
            "      4        2.0913       0.1429        \u001b[35m2.3000\u001b[0m  2.5386\n",
            "      5        \u001b[36m2.0168\u001b[0m       0.1429        \u001b[35m2.2992\u001b[0m  2.5746\n",
            "      6        \u001b[36m1.9609\u001b[0m       0.1429        \u001b[35m2.2988\u001b[0m  2.5567\n",
            "      7        \u001b[36m1.9407\u001b[0m       0.1429        \u001b[35m2.2984\u001b[0m  2.4986\n",
            "      8        \u001b[36m1.8627\u001b[0m       0.1429        \u001b[35m2.2980\u001b[0m  2.5079\n",
            "      9        \u001b[36m1.8321\u001b[0m       0.1429        \u001b[35m2.2975\u001b[0m  2.5511\n",
            "     10        \u001b[36m1.8194\u001b[0m       0.1429        \u001b[35m2.2965\u001b[0m  2.5509\n",
            "     11        \u001b[36m1.6993\u001b[0m       0.1429        2.2969  2.5517\n",
            "     12        1.7223       0.1429        2.2965  2.5374\n",
            "     13        \u001b[36m1.6828\u001b[0m       0.1429        \u001b[35m2.2954\u001b[0m  2.6308\n",
            "     14        \u001b[36m1.6802\u001b[0m       0.1429        2.2965  2.5500\n",
            "     15        \u001b[36m1.6041\u001b[0m       0.1429        \u001b[35m2.2938\u001b[0m  2.5514\n"
          ]
        },
        {
          "output_type": "stream",
          "name": "stderr",
          "text": [
            "/usr/local/lib/python3.7/dist-packages/sklearn/model_selection/_split.py:680: UserWarning: The least populated class in y has only 1 members, which is less than n_splits=5.\n",
            "  UserWarning,\n"
          ]
        },
        {
          "output_type": "stream",
          "name": "stdout",
          "text": [
            "  epoch    train_loss    valid_acc    valid_loss     dur\n",
            "-------  ------------  -----------  ------------  ------\n",
            "      1        \u001b[36m2.3468\u001b[0m       \u001b[32m0.1429\u001b[0m        \u001b[35m2.3026\u001b[0m  2.5186\n",
            "      2        \u001b[36m2.1963\u001b[0m       0.1429        \u001b[35m2.3024\u001b[0m  2.5562\n",
            "      3        \u001b[36m2.1756\u001b[0m       0.1429        \u001b[35m2.3018\u001b[0m  2.5719\n",
            "      4        \u001b[36m2.0837\u001b[0m       0.1429        \u001b[35m2.3014\u001b[0m  2.5343\n",
            "      5        \u001b[36m2.0274\u001b[0m       0.1429        \u001b[35m2.3013\u001b[0m  2.5542\n",
            "      6        \u001b[36m2.0221\u001b[0m       0.1429        \u001b[35m2.3011\u001b[0m  2.5481\n",
            "      7        \u001b[36m1.9635\u001b[0m       0.0000        \u001b[35m2.3005\u001b[0m  2.5734\n",
            "      8        \u001b[36m1.8882\u001b[0m       0.0000        \u001b[35m2.2998\u001b[0m  2.5849\n",
            "      9        1.9200       0.0000        \u001b[35m2.2991\u001b[0m  2.6061\n",
            "     10        \u001b[36m1.8453\u001b[0m       0.0000        \u001b[35m2.2971\u001b[0m  2.5696\n",
            "     11        \u001b[36m1.7982\u001b[0m       0.0000        2.2972  2.5934\n",
            "     12        \u001b[36m1.7825\u001b[0m       0.1429        \u001b[35m2.2970\u001b[0m  2.5927\n",
            "     13        \u001b[36m1.7284\u001b[0m       0.1429        \u001b[35m2.2961\u001b[0m  2.5800\n",
            "     14        \u001b[36m1.7128\u001b[0m       0.1429        \u001b[35m2.2949\u001b[0m  2.5202\n",
            "     15        \u001b[36m1.6559\u001b[0m       0.1429        \u001b[35m2.2937\u001b[0m  2.5402\n"
          ]
        },
        {
          "output_type": "stream",
          "name": "stderr",
          "text": [
            "/usr/local/lib/python3.7/dist-packages/sklearn/model_selection/_split.py:680: UserWarning: The least populated class in y has only 1 members, which is less than n_splits=5.\n",
            "  UserWarning,\n"
          ]
        },
        {
          "output_type": "stream",
          "name": "stdout",
          "text": [
            "  epoch    train_loss    valid_acc    valid_loss     dur\n",
            "-------  ------------  -----------  ------------  ------\n",
            "      1        \u001b[36m2.3040\u001b[0m       \u001b[32m0.1429\u001b[0m        \u001b[35m2.2991\u001b[0m  2.2924\n",
            "      2        \u001b[36m2.2265\u001b[0m       0.1429        \u001b[35m2.2990\u001b[0m  2.4204\n",
            "      3        \u001b[36m2.1477\u001b[0m       0.1429        \u001b[35m2.2987\u001b[0m  2.3629\n",
            "      4        \u001b[36m2.1253\u001b[0m       0.1429        \u001b[35m2.2984\u001b[0m  2.3698\n",
            "      5        \u001b[36m2.0047\u001b[0m       0.1429        \u001b[35m2.2978\u001b[0m  2.3633\n",
            "      6        2.0630       0.1429        \u001b[35m2.2976\u001b[0m  2.4679\n",
            "      7        2.0273       0.1429        \u001b[35m2.2970\u001b[0m  2.3656\n",
            "      8        \u001b[36m1.8871\u001b[0m       0.1429        \u001b[35m2.2966\u001b[0m  2.6006\n",
            "      9        \u001b[36m1.8654\u001b[0m       0.1429        \u001b[35m2.2962\u001b[0m  4.4542\n",
            "     10        \u001b[36m1.8180\u001b[0m       0.1429        \u001b[35m2.2960\u001b[0m  3.2817\n",
            "     11        \u001b[36m1.8053\u001b[0m       0.1429        \u001b[35m2.2951\u001b[0m  2.3178\n",
            "     12        \u001b[36m1.8028\u001b[0m       0.1429        \u001b[35m2.2921\u001b[0m  2.3570\n",
            "     13        \u001b[36m1.7257\u001b[0m       0.1429        \u001b[35m2.2914\u001b[0m  2.3489\n",
            "     14        \u001b[36m1.7136\u001b[0m       0.1429        \u001b[35m2.2891\u001b[0m  2.3165\n",
            "     15        \u001b[36m1.6491\u001b[0m       \u001b[32m0.2857\u001b[0m        \u001b[35m2.2870\u001b[0m  2.3361\n"
          ]
        },
        {
          "output_type": "stream",
          "name": "stderr",
          "text": [
            "/usr/local/lib/python3.7/dist-packages/sklearn/model_selection/_split.py:680: UserWarning: The least populated class in y has only 1 members, which is less than n_splits=5.\n",
            "  UserWarning,\n"
          ]
        },
        {
          "output_type": "stream",
          "name": "stdout",
          "text": [
            "  epoch    train_loss    valid_acc    valid_loss     dur\n",
            "-------  ------------  -----------  ------------  ------\n",
            "      1        \u001b[36m2.3480\u001b[0m       \u001b[32m0.0000\u001b[0m        \u001b[35m2.3077\u001b[0m  2.3196\n",
            "      2        \u001b[36m2.2648\u001b[0m       0.0000        2.3079  2.3660\n",
            "      3        \u001b[36m2.2060\u001b[0m       0.0000        \u001b[35m2.3076\u001b[0m  2.3645\n",
            "      4        \u001b[36m2.0974\u001b[0m       0.0000        \u001b[35m2.3073\u001b[0m  2.3748\n",
            "      5        \u001b[36m2.0235\u001b[0m       0.0000        \u001b[35m2.3072\u001b[0m  2.2992\n",
            "      6        \u001b[36m1.9967\u001b[0m       0.0000        2.3074  2.3310\n",
            "      7        \u001b[36m1.9354\u001b[0m       0.0000        2.3076  2.3051\n",
            "      8        \u001b[36m1.9101\u001b[0m       0.0000        2.3073  2.2958\n",
            "      9        \u001b[36m1.9054\u001b[0m       0.0000        \u001b[35m2.3060\u001b[0m  2.2883\n",
            "     10        \u001b[36m1.8736\u001b[0m       \u001b[32m0.1429\u001b[0m        \u001b[35m2.3057\u001b[0m  2.2838\n",
            "     11        \u001b[36m1.8116\u001b[0m       0.1429        \u001b[35m2.3053\u001b[0m  2.2848\n",
            "     12        \u001b[36m1.7616\u001b[0m       0.1429        \u001b[35m2.3053\u001b[0m  2.2994\n",
            "     13        \u001b[36m1.7251\u001b[0m       0.1429        \u001b[35m2.3034\u001b[0m  2.3217\n",
            "     14        \u001b[36m1.6655\u001b[0m       0.1429        2.3039  2.3039\n",
            "     15        \u001b[36m1.6506\u001b[0m       0.1429        \u001b[35m2.3023\u001b[0m  2.4074\n"
          ]
        },
        {
          "output_type": "stream",
          "name": "stderr",
          "text": [
            "/usr/local/lib/python3.7/dist-packages/sklearn/model_selection/_split.py:680: UserWarning: The least populated class in y has only 1 members, which is less than n_splits=5.\n",
            "  UserWarning,\n"
          ]
        },
        {
          "output_type": "stream",
          "name": "stdout",
          "text": [
            "  epoch    train_loss    valid_acc    valid_loss     dur\n",
            "-------  ------------  -----------  ------------  ------\n",
            "      1        \u001b[36m2.2252\u001b[0m       \u001b[32m0.0000\u001b[0m        \u001b[35m2.3010\u001b[0m  2.6105\n",
            "      2        \u001b[36m2.1767\u001b[0m       \u001b[32m0.1429\u001b[0m        \u001b[35m2.2998\u001b[0m  2.6986\n",
            "      3        \u001b[36m2.0625\u001b[0m       0.1429        \u001b[35m2.2988\u001b[0m  2.6983\n",
            "      4        \u001b[36m2.0054\u001b[0m       0.1429        \u001b[35m2.2977\u001b[0m  2.6775\n",
            "      5        2.0365       0.1429        \u001b[35m2.2967\u001b[0m  2.6594\n",
            "      6        \u001b[36m1.9390\u001b[0m       0.1429        \u001b[35m2.2950\u001b[0m  2.6837\n",
            "      7        \u001b[36m1.8257\u001b[0m       0.1429        \u001b[35m2.2937\u001b[0m  2.6791\n",
            "      8        1.8499       0.1429        \u001b[35m2.2924\u001b[0m  2.6901\n",
            "      9        \u001b[36m1.8242\u001b[0m       0.1429        \u001b[35m2.2919\u001b[0m  2.7591\n",
            "     10        \u001b[36m1.7423\u001b[0m       0.1429        \u001b[35m2.2910\u001b[0m  2.7391\n",
            "     11        \u001b[36m1.6980\u001b[0m       0.1429        \u001b[35m2.2907\u001b[0m  2.7653\n",
            "     12        \u001b[36m1.6779\u001b[0m       0.1429        \u001b[35m2.2893\u001b[0m  2.6764\n",
            "     13        \u001b[36m1.6118\u001b[0m       0.1429        \u001b[35m2.2865\u001b[0m  2.7014\n",
            "     14        \u001b[36m1.5610\u001b[0m       0.1429        \u001b[35m2.2849\u001b[0m  2.7707\n",
            "     15        1.5909       0.1429        2.2850  2.7840\n"
          ]
        },
        {
          "output_type": "stream",
          "name": "stderr",
          "text": [
            "/usr/local/lib/python3.7/dist-packages/sklearn/model_selection/_split.py:680: UserWarning: The least populated class in y has only 1 members, which is less than n_splits=5.\n",
            "  UserWarning,\n"
          ]
        },
        {
          "output_type": "stream",
          "name": "stdout",
          "text": [
            "  epoch    train_loss    valid_acc    valid_loss     dur\n",
            "-------  ------------  -----------  ------------  ------\n",
            "      1        \u001b[36m2.4204\u001b[0m       \u001b[32m0.1429\u001b[0m        \u001b[35m2.3021\u001b[0m  4.7791\n",
            "      2        \u001b[36m2.2356\u001b[0m       0.1429        \u001b[35m2.3020\u001b[0m  2.9745\n",
            "      3        \u001b[36m2.0931\u001b[0m       0.1429        \u001b[35m2.3019\u001b[0m  2.7601\n",
            "      4        \u001b[36m2.0701\u001b[0m       \u001b[32m0.2857\u001b[0m        \u001b[35m2.3018\u001b[0m  2.7167\n",
            "      5        \u001b[36m1.9737\u001b[0m       0.1429        \u001b[35m2.3013\u001b[0m  2.7685\n",
            "      6        \u001b[36m1.8921\u001b[0m       0.0000        2.3016  2.7377\n",
            "      7        \u001b[36m1.8808\u001b[0m       0.1429        2.3018  2.7199\n",
            "      8        \u001b[36m1.8561\u001b[0m       0.1429        2.3023  2.6751\n",
            "      9        \u001b[36m1.7815\u001b[0m       0.1429        2.3022  2.6891\n",
            "     10        1.7931       0.1429        2.3023  2.6955\n",
            "     11        \u001b[36m1.6932\u001b[0m       0.1429        2.3026  2.7473\n",
            "     12        \u001b[36m1.6120\u001b[0m       0.1429        2.3021  2.7285\n",
            "     13        \u001b[36m1.5998\u001b[0m       0.1429        2.3018  2.6708\n",
            "     14        \u001b[36m1.5907\u001b[0m       0.1429        \u001b[35m2.3006\u001b[0m  2.7552\n",
            "     15        \u001b[36m1.5168\u001b[0m       0.1429        2.3015  2.7408\n"
          ]
        }
      ],
      "source": [
        "criterion = nn.CrossEntropyLoss()\n",
        "\n",
        "net = NeuralNetClassifier(\n",
        "        module=AlexNet, max_epochs=10,\n",
        "        optimizer=torch.optim.SGD,\n",
        "        criterion=criterion,\n",
        "        lr=0.001, verbose=1\n",
        "    )\n",
        "\n",
        "params = {\n",
        "    'lr': [0.001, 0.01, 0.005],\n",
        "    'max_epochs': [5, 10, 15],\n",
        "    'module__fully_connected_out': [4096, 2048, 6144],\n",
        "}\n",
        "\n",
        "gs = GridSearchCV(\n",
        "        net, params, refit=False, scoring='accuracy', verbose=1, cv=2\n",
        "    )\n",
        "\n",
        "counter = 0\n",
        "search_batches = 2\n",
        "\n",
        "for i, (inputs, labels) in enumerate(dataloaders['train']):\n",
        "    counter += 1\n",
        "    # inputs = inputs.to(device)\n",
        "    # labels = labels.to(device)\n",
        "    outputs = gs.fit(inputs, labels)\n",
        "\n",
        "    if counter == search_batches:\n",
        "        break"
      ]
    },
    {
      "cell_type": "code",
      "execution_count": null,
      "metadata": {
        "id": "XP-5q8HRvcD9"
      },
      "outputs": [],
      "source": [
        "def save_best_hyperparam(grid_search):\n",
        "    path = folder_path + \"BestParameters/best_params.txt\"\n",
        "    text = f\"{str(grid_search.best_score_)}\\n{str(grid_search.best_params_)}\\n\"\n",
        "    print(text)\n",
        "    with open(path, 'a') as f:\n",
        "        f.write(text)"
      ]
    },
    {
      "cell_type": "code",
      "execution_count": null,
      "metadata": {
        "id": "mcA6slWTsD_H",
        "colab": {
          "base_uri": "https://localhost:8080/"
        },
        "outputId": "8becfcba-4b07-4a0d-ac33-41a948daa6c2"
      },
      "outputs": [
        {
          "output_type": "stream",
          "name": "stdout",
          "text": [
            "0.21875\n",
            "{'lr': 0.01, 'max_epochs': 10, 'module__fully_connected_out': 4096}\n",
            "\n"
          ]
        }
      ],
      "source": [
        "save_best_hyperparam(gs)"
      ]
    },
    {
      "cell_type": "code",
      "source": [
        "def train_model(model, criterion, optimizer, dataloaders_dict, num_epochs=10):\n",
        "    y_loss = {phase: [] for phase in dataloaders_dict.keys()}\n",
        "    y_acc = {phase: [] for phase in dataloaders_dict.keys()}\n",
        "\n",
        "    best_acc = 0\n",
        "\n",
        "    for epoch in range(num_epochs):\n",
        "        print(f'Epoch {epoch + 1}/{num_epochs}')\n",
        "        print('-' * 10)\n",
        "\n",
        "        for phase in dataloaders_dict.keys():\n",
        "                if 'train' in phase:\n",
        "                    model.train()\n",
        "                else:\n",
        "                    model.eval()\n",
        "\n",
        "                running_loss = 0.0\n",
        "                running_corrects = 0\n",
        "\n",
        "                for inputs, labels in dataloaders[phase]:\n",
        "                    inputs = inputs.to(device)                       \n",
        "                    labels_to_use = labels.to(device)\n",
        "\n",
        "                    optimizer.zero_grad()\n",
        "\n",
        "                    with torch.set_grad_enabled('train' in phase):\n",
        "                        outputs = model(inputs)\n",
        "                        _, preds = torch.max(outputs, 1)\n",
        "                        loss = criterion(outputs, labels_to_use)\n",
        "\n",
        "                        if 'train' in phase:\n",
        "                            loss.backward()\n",
        "                            optimizer.step()\n",
        "\n",
        "                    running_loss += loss.item() * inputs.size(0)\n",
        "                    running_corrects += torch.sum(preds == labels_to_use)\n",
        "\n",
        "                epoch_loss = running_loss / dataset_sizes[phase]\n",
        "                epoch_acc = running_corrects.double() / dataset_sizes[phase]\n",
        "\n",
        "                print(f'{phase} Loss: {epoch_loss:.4f} Acc: {epoch_acc:.4f}')\n",
        "\n",
        "                y_loss[phase].append(epoch_loss)\n",
        "                y_acc[phase].append(epoch_acc.cpu().numpy())\n",
        "\n",
        "                if phase == 'val' and epoch_acc > best_acc:\n",
        "                    best_acc = epoch_acc\n",
        "                    best_model_wts = copy.deepcopy(model.state_dict())\n",
        "                  \n",
        "    model.load_state_dict(best_model_wts)\n",
        "    return model, y_loss, y_acc"
      ],
      "metadata": {
        "id": "2lTGVFmPS6tS"
      },
      "execution_count": null,
      "outputs": []
    },
    {
      "cell_type": "code",
      "source": [
        "def draw_graphs(y_loss, y_acc, phases, num_epochs=10):\n",
        "    fig = plt.figure()\n",
        "    ax0 = fig.add_subplot(121, title=\"loss\")\n",
        "    ax1 = fig.add_subplot(122, title=\"acc\")\n",
        "    x_epochs = [i + 1 for i in range(num_epochs)]\n",
        "\n",
        "    for phase in phases:\n",
        "        ax0.plot(x_epochs, y_loss[phase], label=phase)\n",
        "        ax1.plot(x_epochs, y_acc[phase], label=phase)\n",
        "    \n",
        "    ax0.legend()\n",
        "    ax1.legend()\n",
        "\n",
        "    plt.show()"
      ],
      "metadata": {
        "id": "GlBbsOTTdpoA"
      },
      "execution_count": null,
      "outputs": []
    },
    {
      "cell_type": "code",
      "source": [
        "def visualize_acc_preds(model, dataloader, num_images=6):\n",
        "    was_training = model.training\n",
        "    model.eval()\n",
        "    images_so_far = 0\n",
        "    correct = 0\n",
        "    total = 0\n",
        "    fig = plt.figure()\n",
        "\n",
        "    with torch.no_grad():\n",
        "        for i, (inputs, labels) in enumerate(dataloader):\n",
        "            inputs = inputs.to(device)\n",
        "            labels = labels.to(device)\n",
        "\n",
        "            outputs = model(inputs)\n",
        "            _, preds = torch.max(outputs, 1)\n",
        "            correct += (preds == labels).sum().item()\n",
        "            total += labels.size(0)\n",
        "            print(f'Accuracy of the network on the 10000 test images: {int(100 * correct / total)} %\\n')\n",
        "\n",
        "            \n",
        "            for j in range(inputs.size()[0]):\n",
        "                images_so_far += 1\n",
        "                ax = plt.subplot(num_images//2, 2, images_so_far)\n",
        "                ax.axis('off')\n",
        "                ax.set_title(f'predicted: {dataloader.dataset.classes[preds[j]]}')\n",
        "                imshow(inputs.cpu().data[j])\n",
        "\n",
        "                if images_so_far == num_images:\n",
        "                    model.train(mode=was_training)\n",
        "                    return\n",
        "\n",
        "        model.train(mode=was_training)"
      ],
      "metadata": {
        "id": "gpqJUBr9eR7S"
      },
      "execution_count": null,
      "outputs": []
    },
    {
      "cell_type": "code",
      "source": [
        "model_1 = AlexNet(4096, len(dataloaders['test'].dataset.classes)).to(device)\n",
        "criterion = nn.CrossEntropyLoss()\n",
        "optimizer = optim.SGD(model_1.parameters(), lr=0.01, momentum=0.9)"
      ],
      "metadata": {
        "id": "k-TdKbfiTVzu"
      },
      "execution_count": null,
      "outputs": []
    },
    {
      "cell_type": "code",
      "source": [
        "model_1, y_loss, y_acc = train_model(model_1, criterion, optimizer, dict(itertools.islice(dataloaders.items(), 0, 2)), num_epochs=10)"
      ],
      "metadata": {
        "colab": {
          "base_uri": "https://localhost:8080/"
        },
        "id": "tu4pVf39TcNf",
        "outputId": "a1f0850e-531f-46fe-c7d3-aebad1c06b7d"
      },
      "execution_count": null,
      "outputs": [
        {
          "output_type": "stream",
          "name": "stdout",
          "text": [
            "Epoch 1/10\n",
            "----------\n",
            "train Loss: 1.5121 Acc: 0.4451\n",
            "val Loss: 1.4433 Acc: 0.5011\n",
            "Epoch 2/10\n",
            "----------\n",
            "train Loss: 1.1375 Acc: 0.5945\n",
            "val Loss: 1.0302 Acc: 0.6411\n",
            "Epoch 3/10\n",
            "----------\n",
            "train Loss: 0.9551 Acc: 0.6659\n",
            "val Loss: 0.8508 Acc: 0.6997\n",
            "Epoch 4/10\n",
            "----------\n",
            "train Loss: 0.8295 Acc: 0.7110\n",
            "val Loss: 0.7892 Acc: 0.7180\n",
            "Epoch 5/10\n",
            "----------\n",
            "train Loss: 0.7312 Acc: 0.7452\n",
            "val Loss: 0.7467 Acc: 0.7360\n",
            "Epoch 6/10\n",
            "----------\n",
            "train Loss: 0.6563 Acc: 0.7684\n",
            "val Loss: 0.7804 Acc: 0.7317\n",
            "Epoch 7/10\n",
            "----------\n",
            "train Loss: 0.5872 Acc: 0.7938\n",
            "val Loss: 0.6428 Acc: 0.7790\n",
            "Epoch 8/10\n",
            "----------\n",
            "train Loss: 0.5328 Acc: 0.8138\n",
            "val Loss: 0.6517 Acc: 0.7715\n",
            "Epoch 9/10\n",
            "----------\n",
            "train Loss: 0.4763 Acc: 0.8311\n",
            "val Loss: 0.5969 Acc: 0.7976\n",
            "Epoch 10/10\n",
            "----------\n",
            "train Loss: 0.4294 Acc: 0.8477\n",
            "val Loss: 0.7366 Acc: 0.7558\n"
          ]
        }
      ]
    },
    {
      "cell_type": "code",
      "source": [
        "draw_graphs(y_loss, y_acc, y_loss.keys())"
      ],
      "metadata": {
        "colab": {
          "base_uri": "https://localhost:8080/",
          "height": 281
        },
        "id": "wTpgyHFgfH5t",
        "outputId": "e99a70da-e275-4ad1-a9b0-bf25252b4fe7"
      },
      "execution_count": null,
      "outputs": [
        {
          "output_type": "display_data",
          "data": {
            "text/plain": [
              "<Figure size 432x288 with 2 Axes>"
            ],
            "image/png": "[encoded data removed]"
          },
          "metadata": {
            "needs_background": "light"
          }
        }
      ]
    },
    {
      "cell_type": "code",
      "source": [
        "visualize_acc_preds(model_1, dataloaders['test'])"
      ],
      "metadata": {
        "colab": {
          "base_uri": "https://localhost:8080/",
          "height": 299
        },
        "id": "Mw1NlmmJfJPZ",
        "outputId": "fb58b127-8dbd-4c75-91b1-2afa9b455239"
      },
      "execution_count": null,
      "outputs": [
        {
          "output_type": "stream",
          "name": "stdout",
          "text": [
            "Accuracy of the network on the 10000 test images: 82 %\n",
            "\n"
          ]
        },
        {
          "output_type": "display_data",
          "data": {
            "text/plain": [
              "<Figure size 432x288 with 6 Axes>"
            ],
            "image/png": "[encoded data removed]"
          },
          "metadata": {
            "needs_background": "light"
          }
        }
      ]
    },
    {
      "cell_type": "code",
      "source": [
        "model_2 = AlexNet(2048, len(dataloaders['test'].dataset.classes)).to(device)\n",
        "criterion = nn.CrossEntropyLoss()\n",
        "optimizer = optim.SGD(model_2.parameters(), lr=0.001, momentum=0.9)"
      ],
      "metadata": {
        "id": "uO9eaV-7eXe2"
      },
      "execution_count": null,
      "outputs": []
    },
    {
      "cell_type": "code",
      "source": [
        "model_2, y_loss, y_acc = train_model(model_2, criterion, optimizer, dict(itertools.islice(dataloaders.items(), 0, 2)), num_epochs=5)"
      ],
      "metadata": {
        "colab": {
          "base_uri": "https://localhost:8080/"
        },
        "id": "36nPuDBLetd_",
        "outputId": "60568b4a-03a1-49a7-879e-ea0a4748e9e7"
      },
      "execution_count": null,
      "outputs": [
        {
          "output_type": "stream",
          "name": "stdout",
          "text": [
            "Epoch 1/5\n",
            "----------\n",
            "train Loss: 1.5845 Acc: 0.4116\n",
            "val Loss: 1.4379 Acc: 0.4965\n",
            "Epoch 2/5\n",
            "----------\n",
            "train Loss: 1.1503 Acc: 0.5826\n",
            "val Loss: 1.0033 Acc: 0.6441\n",
            "Epoch 3/5\n",
            "----------\n",
            "train Loss: 0.9581 Acc: 0.6582\n",
            "val Loss: 0.8653 Acc: 0.6980\n",
            "Epoch 4/5\n",
            "----------\n",
            "train Loss: 0.8372 Acc: 0.7060\n",
            "val Loss: 0.8362 Acc: 0.7079\n",
            "Epoch 5/5\n",
            "----------\n",
            "train Loss: 0.7443 Acc: 0.7393\n",
            "val Loss: 0.7432 Acc: 0.7388\n"
          ]
        }
      ]
    },
    {
      "cell_type": "code",
      "source": [
        "draw_graphs(y_loss, y_acc, y_loss.keys(), num_epochs=5)"
      ],
      "metadata": {
        "colab": {
          "base_uri": "https://localhost:8080/",
          "height": 281
        },
        "id": "LGi5YC4jfG6_",
        "outputId": "d2f8406a-df2a-4e68-f0f7-d6399a65abd6"
      },
      "execution_count": null,
      "outputs": [
        {
          "output_type": "display_data",
          "data": {
            "text/plain": [
              "<Figure size 432x288 with 2 Axes>"
            ],
            "image/png": "[encoded data removed]"
          },
          "metadata": {
            "needs_background": "light"
          }
        }
      ]
    },
    {
      "cell_type": "code",
      "source": [
        "visualize_acc_preds(model_2, dataloaders['test'])"
      ],
      "metadata": {
        "colab": {
          "base_uri": "https://localhost:8080/",
          "height": 299
        },
        "id": "0hMY-r5HfObr",
        "outputId": "7b5d928e-c0a8-4359-ca3f-5e7c5fc0377c"
      },
      "execution_count": null,
      "outputs": [
        {
          "output_type": "stream",
          "name": "stdout",
          "text": [
            "Accuracy of the network on the 10000 test images: 78 %\n",
            "\n"
          ]
        },
        {
          "output_type": "display_data",
          "data": {
            "text/plain": [
              "<Figure size 432x288 with 6 Axes>"
            ],
            "image/png": "[encoded data removed]"
          },
          "metadata": {
            "needs_background": "light"
          }
        }
      ]
    },
    {
      "cell_type": "code",
      "source": [
        "model_3 = AlexNet(6144, len(dataloaders['test'].dataset.classes)).to(device)\n",
        "criterion = nn.CrossEntropyLoss()\n",
        "optimizer = optim.SGD(model_3.parameters(), lr=0.005, momentum=0.9)"
      ],
      "metadata": {
        "id": "VV1Y7w2BevVf"
      },
      "execution_count": null,
      "outputs": []
    },
    {
      "cell_type": "code",
      "source": [
        "model_3, y_loss, y_acc = train_model(model_3, criterion, optimizer, dict(itertools.islice(dataloaders.items(), 0, 2)), num_epochs=15)"
      ],
      "metadata": {
        "colab": {
          "base_uri": "https://localhost:8080/"
        },
        "id": "wufeyE2nezlL",
        "outputId": "32670c3b-e4e7-4d11-e7ee-af4b98c4da5d"
      },
      "execution_count": null,
      "outputs": [
        {
          "output_type": "stream",
          "name": "stdout",
          "text": [
            "Epoch 1/15\n",
            "----------\n",
            "train Loss: 1.4752 Acc: 0.4577\n",
            "val Loss: 1.3489 Acc: 0.5307\n",
            "Epoch 2/15\n",
            "----------\n",
            "train Loss: 1.0739 Acc: 0.6170\n",
            "val Loss: 0.9741 Acc: 0.6520\n",
            "Epoch 3/15\n",
            "----------\n",
            "train Loss: 0.8792 Acc: 0.6903\n",
            "val Loss: 0.7989 Acc: 0.7199\n",
            "Epoch 4/15\n",
            "----------\n",
            "train Loss: 0.7600 Acc: 0.7319\n",
            "val Loss: 0.7219 Acc: 0.7452\n",
            "Epoch 5/15\n",
            "----------\n",
            "train Loss: 0.6791 Acc: 0.7621\n",
            "val Loss: 0.6990 Acc: 0.7534\n",
            "Epoch 6/15\n",
            "----------\n",
            "train Loss: 0.6061 Acc: 0.7884\n",
            "val Loss: 0.6600 Acc: 0.7715\n",
            "Epoch 7/15\n",
            "----------\n",
            "train Loss: 0.5460 Acc: 0.8079\n",
            "val Loss: 0.6706 Acc: 0.7684\n",
            "Epoch 8/15\n",
            "----------\n",
            "train Loss: 0.4914 Acc: 0.8282\n",
            "val Loss: 0.5765 Acc: 0.7992\n",
            "Epoch 9/15\n",
            "----------\n",
            "train Loss: 0.4432 Acc: 0.8447\n",
            "val Loss: 0.5994 Acc: 0.7905\n",
            "Epoch 10/15\n",
            "----------\n",
            "train Loss: 0.4014 Acc: 0.8580\n",
            "val Loss: 0.6032 Acc: 0.7952\n",
            "Epoch 11/15\n",
            "----------\n",
            "train Loss: 0.3663 Acc: 0.8694\n",
            "val Loss: 0.7002 Acc: 0.7735\n",
            "Epoch 12/15\n",
            "----------\n",
            "train Loss: 0.3387 Acc: 0.8806\n",
            "val Loss: 0.5803 Acc: 0.8085\n",
            "Epoch 13/15\n",
            "----------\n",
            "train Loss: 0.3006 Acc: 0.8925\n",
            "val Loss: 0.6176 Acc: 0.8005\n",
            "Epoch 14/15\n",
            "----------\n",
            "train Loss: 0.2747 Acc: 0.9002\n",
            "val Loss: 0.5998 Acc: 0.8089\n",
            "Epoch 15/15\n",
            "----------\n",
            "train Loss: 0.2488 Acc: 0.9114\n",
            "val Loss: 0.5915 Acc: 0.8138\n"
          ]
        }
      ]
    },
    {
      "cell_type": "code",
      "source": [
        "draw_graphs(y_loss, y_acc, y_loss.keys(), num_epochs=15)"
      ],
      "metadata": {
        "colab": {
          "base_uri": "https://localhost:8080/"
        },
        "id": "Orm9LAbpfHbo",
        "outputId": "dab7f577-5634-4450-de65-85cb8c75ba82"
      },
      "execution_count": null,
      "outputs": [
        {
          "output_type": "display_data",
          "data": {
            "text/plain": [
              "<Figure size 432x288 with 2 Axes>"
            ],
            "image/png": "[encoded data removed]"
          },
          "metadata": {
            "needs_background": "light"
          }
        }
      ]
    },
    {
      "cell_type": "code",
      "source": [
        "visualize_acc_preds(model_3, dataloaders['test'])"
      ],
      "metadata": {
        "colab": {
          "base_uri": "https://localhost:8080/"
        },
        "id": "bqOMaXLIfPvq",
        "outputId": "a41397dd-0a8f-45c2-9ff4-82176aeadf12"
      },
      "execution_count": null,
      "outputs": [
        {
          "output_type": "stream",
          "name": "stdout",
          "text": [
            "Accuracy of the network on the 10000 test images: 78 %\n",
            "\n"
          ]
        },
        {
          "output_type": "display_data",
          "data": {
            "text/plain": [
              "<Figure size 432x288 with 6 Axes>"
            ],
            "image/png": "[encoded data removed]"
          },
          "metadata": {
            "needs_background": "light"
          }
        }
      ]
    }
  ],
  "metadata": {
    "colab": {
      "collapsed_sections": [],
      "provenance": []
    },
    "kernelspec": {
      "display_name": "Python 3",
      "name": "python3"
    },
    "language_info": {
      "name": "python"
    },
    "accelerator": "GPU",
    "gpuClass": "standard"
  },
  "nbformat": 4,
  "nbformat_minor": 0
}